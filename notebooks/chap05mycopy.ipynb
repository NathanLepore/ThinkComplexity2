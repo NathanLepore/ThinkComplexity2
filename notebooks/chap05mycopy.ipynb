{
 "cells": [
  {
   "cell_type": "markdown",
   "metadata": {},
   "source": [
    "# Cellular automata\n",
    "\n",
    "Code examples from [Think Complexity, 2nd edition](https://thinkcomplex.com).\n",
    "\n",
    "Copyright 2016 Allen Downey, [MIT License](http://opensource.org/licenses/MIT)"
   ]
  },
  {
   "cell_type": "code",
   "execution_count": 1,
   "metadata": {},
   "outputs": [],
   "source": [
    "%matplotlib inline\n",
    "\n",
    "import matplotlib.pyplot as plt\n",
    "import networkx as nx\n",
    "import numpy as np\n",
    "import seaborn as sns\n",
    "\n",
    "from utils import decorate, savefig"
   ]
  },
  {
   "cell_type": "markdown",
   "metadata": {},
   "source": [
    "## Zero-dimensional CA"
   ]
  },
  {
   "cell_type": "markdown",
   "metadata": {},
   "source": [
    "Here's a simple implementation of the 0-D CA I mentioned in the book, with one cell."
   ]
  },
  {
   "cell_type": "code",
   "execution_count": 2,
   "metadata": {},
   "outputs": [
    {
     "name": "stdout",
     "output_type": "stream",
     "text": [
      "[0. 0. 0. 0. 0. 0. 0. 0. 0. 0.]\n"
     ]
    }
   ],
   "source": [
    "n = 10\n",
    "x = np.zeros(n)\n",
    "print(x)"
   ]
  },
  {
   "cell_type": "markdown",
   "metadata": {},
   "source": [
    "To get the state of the cell in the next time step, we increment the current state mod 2."
   ]
  },
  {
   "cell_type": "code",
   "execution_count": 3,
   "metadata": {},
   "outputs": [
    {
     "data": {
      "text/plain": [
       "1.0"
      ]
     },
     "execution_count": 3,
     "metadata": {},
     "output_type": "execute_result"
    }
   ],
   "source": [
    "x[1] = (x[0] + 1) % 2\n",
    "x[1]"
   ]
  },
  {
   "cell_type": "markdown",
   "metadata": {},
   "source": [
    "Filling in the rest of the array."
   ]
  },
  {
   "cell_type": "code",
   "execution_count": 4,
   "metadata": {},
   "outputs": [
    {
     "name": "stdout",
     "output_type": "stream",
     "text": [
      "[0. 1. 0. 1. 0. 1. 0. 1. 0. 1.]\n"
     ]
    }
   ],
   "source": [
    "for i in range(2, n):\n",
    "    x[i] = (x[i-1] + 1) % 2\n",
    "    \n",
    "print(x)"
   ]
  },
  {
   "cell_type": "markdown",
   "metadata": {},
   "source": [
    "So the behavior of this CA is simple: it blinks."
   ]
  },
  {
   "cell_type": "markdown",
   "metadata": {},
   "source": [
    "## One-dimensional CA"
   ]
  },
  {
   "cell_type": "markdown",
   "metadata": {},
   "source": [
    "Just as we used a 1-D array to show the state of a single cell over time, we'll use a 2-D array to show the state of a 1-D CA over time, with one column per cell and one row per timestep."
   ]
  },
  {
   "cell_type": "code",
   "execution_count": 5,
   "metadata": {},
   "outputs": [
    {
     "name": "stdout",
     "output_type": "stream",
     "text": [
      "[[0 0 0 0 0 1 0 0 0 0 0]\n",
      " [0 0 0 0 0 0 0 0 0 0 0]\n",
      " [0 0 0 0 0 0 0 0 0 0 0]\n",
      " [0 0 0 0 0 0 0 0 0 0 0]\n",
      " [0 0 0 0 0 0 0 0 0 0 0]]\n"
     ]
    }
   ],
   "source": [
    "rows = 5\n",
    "cols = 11\n",
    "array = np.zeros((rows, cols), dtype=np.uint8)\n",
    "array[0, 5] = 1\n",
    "print(array)"
   ]
  },
  {
   "cell_type": "markdown",
   "metadata": {},
   "source": [
    "To plot the array I use `plt.imshow`"
   ]
  },
  {
   "cell_type": "code",
   "execution_count": 6,
   "metadata": {},
   "outputs": [],
   "source": [
    "def plot_ca(array):\n",
    "    plt.imshow(array, cmap='Blues', interpolation='none')"
   ]
  },
  {
   "cell_type": "markdown",
   "metadata": {},
   "source": [
    "Here's what it looks like after we initialize the first row."
   ]
  },
  {
   "cell_type": "code",
   "execution_count": 7,
   "metadata": {},
   "outputs": [
    {
     "data": {
      "image/png": "[encoded data removed]",
      "text/plain": [
       "<Figure size 432x288 with 1 Axes>"
      ]
     },
     "metadata": {
      "needs_background": "light"
     },
     "output_type": "display_data"
    }
   ],
   "source": [
    "plot_ca(array)"
   ]
  },
  {
   "cell_type": "markdown",
   "metadata": {},
   "source": [
    "And here's the function that fills in the next row.  The rule for this CA is to take the sum of a cell and its two neighbors mod 2."
   ]
  },
  {
   "cell_type": "code",
   "execution_count": 8,
   "metadata": {},
   "outputs": [],
   "source": [
    "def step(array, i):\n",
    "    \"\"\"Compute row i of a CA.\n",
    "    \"\"\"\n",
    "    rows, cols = array.shape\n",
    "    row = array[i-1]\n",
    "    for j in range(1, cols):\n",
    "        elts = row[j-1:j+2]\n",
    "        array[i, j] = sum(elts) % 2"
   ]
  },
  {
   "cell_type": "markdown",
   "metadata": {},
   "source": [
    "Here's the second row."
   ]
  },
  {
   "cell_type": "code",
   "execution_count": 9,
   "metadata": {},
   "outputs": [
    {
     "data": {
      "image/png": "[encoded data removed]",
      "text/plain": [
       "<Figure size 432x288 with 1 Axes>"
      ]
     },
     "metadata": {
      "needs_background": "light"
     },
     "output_type": "display_data"
    }
   ],
   "source": [
    "step(array, 1)\n",
    "plot_ca(array)"
   ]
  },
  {
   "cell_type": "markdown",
   "metadata": {},
   "source": [
    "And here's what it looks like with the rest of the cells filled in."
   ]
  },
  {
   "cell_type": "code",
   "execution_count": 10,
   "metadata": {},
   "outputs": [
    {
     "data": {
      "image/png": "[encoded data removed]",
      "text/plain": [
       "<Figure size 432x288 with 1 Axes>"
      ]
     },
     "metadata": {
      "needs_background": "light"
     },
     "output_type": "display_data"
    }
   ],
   "source": [
    "for i in range(1, rows):\n",
    "    step(array, i)\n",
    "\n",
    "plot_ca(array)"
   ]
  },
  {
   "cell_type": "markdown",
   "metadata": {},
   "source": [
    "For a simple set of rules, the behavior is more interesting than you might expect."
   ]
  },
  {
   "cell_type": "markdown",
   "metadata": {},
   "source": [
    "**Exercise:** Modify this code to increase the number of rows and columns and see what this CA does after more time steps."
   ]
  },
  {
   "cell_type": "code",
   "execution_count": 17,
   "metadata": {},
   "outputs": [
    {
     "name": "stdout",
     "output_type": "stream",
     "text": [
      "[[0 0 0 0 0 0 0 0 0 1 0 0 0 0 0 0 0 0 0]\n",
      " [0 0 0 0 0 0 0 0 0 0 0 0 0 0 0 0 0 0 0]\n",
      " [0 0 0 0 0 0 0 0 0 0 0 0 0 0 0 0 0 0 0]\n",
      " [0 0 0 0 0 0 0 0 0 0 0 0 0 0 0 0 0 0 0]\n",
      " [0 0 0 0 0 0 0 0 0 0 0 0 0 0 0 0 0 0 0]\n",
      " [0 0 0 0 0 0 0 0 0 0 0 0 0 0 0 0 0 0 0]\n",
      " [0 0 0 0 0 0 0 0 0 0 0 0 0 0 0 0 0 0 0]\n",
      " [0 0 0 0 0 0 0 0 0 0 0 0 0 0 0 0 0 0 0]\n",
      " [0 0 0 0 0 0 0 0 0 0 0 0 0 0 0 0 0 0 0]\n",
      " [0 0 0 0 0 0 0 0 0 0 0 0 0 0 0 0 0 0 0]]\n"
     ]
    },
    {
     "data": {
      "image/png": "[encoded data removed]",
      "text/plain": [
       "<Figure size 432x288 with 1 Axes>"
      ]
     },
     "metadata": {
      "needs_background": "light"
     },
     "output_type": "display_data"
    }
   ],
   "source": [
    "rows = 10\n",
    "cols = 19\n",
    "array = np.zeros((rows, cols), dtype=np.uint8)\n",
    "array[0, cols//2] = 1\n",
    "print(array)\n",
    "for i in range(1, rows):\n",
    "    step(array, i)\n",
    "\n",
    "plot_ca(array)"
   ]
  },
  {
   "cell_type": "markdown",
   "metadata": {},
   "source": [
    "## Cross correlation"
   ]
  },
  {
   "cell_type": "markdown",
   "metadata": {},
   "source": [
    "We can update the CA more quickly using \"cross correlation\".  The cross correlation of an array, `a`, with a window, `w`, is a new array, `c`, where element `k` is:\n",
    "\n",
    "$ c_k = \\sum_{n=0}^{N-1} a_{n+k} \\cdot w_n $\n",
    "\n",
    "In Python, we can compute element `k` like this:"
   ]
  },
  {
   "cell_type": "code",
   "execution_count": 18,
   "metadata": {},
   "outputs": [],
   "source": [
    "def c_k(a, w, k):\n",
    "    \"\"\"Compute element k of the cross correlation of a and w.\n",
    "    \"\"\"\n",
    "    N = len(w)\n",
    "    return sum(a[k:k+N] * w)"
   ]
  },
  {
   "cell_type": "markdown",
   "metadata": {},
   "source": [
    "To see how this works, I'll create an array:"
   ]
  },
  {
   "cell_type": "code",
   "execution_count": 19,
   "metadata": {},
   "outputs": [
    {
     "name": "stdout",
     "output_type": "stream",
     "text": [
      "[0 1 2 3 4 5 6 7 8 9]\n"
     ]
    }
   ],
   "source": [
    "N = 10\n",
    "row = np.arange(N, dtype=np.uint8)\n",
    "print(row)"
   ]
  },
  {
   "cell_type": "markdown",
   "metadata": {},
   "source": [
    "And a window:"
   ]
  },
  {
   "cell_type": "code",
   "execution_count": 20,
   "metadata": {},
   "outputs": [
    {
     "name": "stdout",
     "output_type": "stream",
     "text": [
      "[1, 1, 1]\n"
     ]
    }
   ],
   "source": [
    "window = [1, 1, 1]\n",
    "\n",
    "print(window)"
   ]
  },
  {
   "cell_type": "markdown",
   "metadata": {},
   "source": [
    "With this window, each element of `c` is the sum of three neighbors in the array:"
   ]
  },
  {
   "cell_type": "code",
   "execution_count": 21,
   "metadata": {},
   "outputs": [
    {
     "data": {
      "text/plain": [
       "3"
      ]
     },
     "execution_count": 21,
     "metadata": {},
     "output_type": "execute_result"
    }
   ],
   "source": [
    "c_k(row, window, 0)"
   ]
  },
  {
   "cell_type": "code",
   "execution_count": 22,
   "metadata": {},
   "outputs": [
    {
     "data": {
      "text/plain": [
       "6"
      ]
     },
     "execution_count": 22,
     "metadata": {},
     "output_type": "execute_result"
    }
   ],
   "source": [
    "c_k(row, window, 1)"
   ]
  },
  {
   "cell_type": "markdown",
   "metadata": {},
   "source": [
    "The following function computes the elements of `c` for all values of `k` where the window can overlap with the array:"
   ]
  },
  {
   "cell_type": "code",
   "execution_count": 23,
   "metadata": {},
   "outputs": [],
   "source": [
    "def correlate(row, window):\n",
    "    \"\"\"Compute the cross correlation of a and w.\n",
    "    \"\"\"\n",
    "    cols = len(row)\n",
    "    N = len(window)\n",
    "    c = [c_k(row, window, k) for k in range(cols-N+1)]\n",
    "    return np.array(c)"
   ]
  },
  {
   "cell_type": "code",
   "execution_count": 24,
   "metadata": {},
   "outputs": [
    {
     "name": "stdout",
     "output_type": "stream",
     "text": [
      "[ 3  6  9 12 15 18 21 24]\n"
     ]
    }
   ],
   "source": [
    "c = correlate(row, window)\n",
    "print(c)"
   ]
  },
  {
   "cell_type": "markdown",
   "metadata": {},
   "source": [
    "This operation is useful in many domains, so libraries like NumPy usually provide an implementation.  Here's the version from NumPy."
   ]
  },
  {
   "cell_type": "code",
   "execution_count": 25,
   "metadata": {},
   "outputs": [
    {
     "name": "stdout",
     "output_type": "stream",
     "text": [
      "[ 3  6  9 12 15 18 21 24]\n"
     ]
    }
   ],
   "source": [
    "c = np.correlate(row, window, mode='valid')\n",
    "print(c)"
   ]
  },
  {
   "cell_type": "markdown",
   "metadata": {},
   "source": [
    "With `mode='valid'`, the NumPy version does the same thing as mine: it only computes the elements of `c` where the window overlaps with the array.  A drawback of this mode is that the result is smaller than `array`.\n",
    "\n",
    "And alternative is `mode='same'`, which makes the result the same size as `array` by extending array with zeros on both sides.  Here's the result:"
   ]
  },
  {
   "cell_type": "code",
   "execution_count": 26,
   "metadata": {},
   "outputs": [
    {
     "name": "stdout",
     "output_type": "stream",
     "text": [
      "[ 1  3  6  9 12 15 18 21 24 17]\n"
     ]
    }
   ],
   "source": [
    "c = np.correlate(row, window, mode='same')\n",
    "print(c)"
   ]
  },
  {
   "cell_type": "markdown",
   "metadata": {},
   "source": [
    "**Exercise:** Write a version of `correlate` that returns the same result as `np.correlate` with `mode='same'.`"
   ]
  },
  {
   "cell_type": "code",
   "execution_count": 27,
   "metadata": {},
   "outputs": [
    {
     "data": {
      "text/plain": [
       "array([0, 0, 1, 2, 3, 4, 5, 6, 7, 8, 9, 0], dtype=uint8)"
      ]
     },
     "execution_count": 27,
     "metadata": {},
     "output_type": "execute_result"
    }
   ],
   "source": [
    "# Hint: use np.pad to add zeros at the beginning and end of `row`\n",
    "\n",
    "np.pad(row, 1, 'constant')"
   ]
  },
  {
   "cell_type": "code",
   "execution_count": 52,
   "metadata": {},
   "outputs": [
    {
     "data": {
      "text/plain": [
       "array([ 1,  3,  6,  9, 12, 15, 18, 21, 24, 17])"
      ]
     },
     "execution_count": 52,
     "metadata": {},
     "output_type": "execute_result"
    }
   ],
   "source": [
    "# Solution goes here\n",
    "def correlate_same(row, window):\n",
    "    \"\"\"Compute the cross correlation of a and w.\n",
    "    \"\"\"\n",
    "    new_row = np.pad(row, 1, 'constant')\n",
    "    cols = len(new_row)\n",
    "    N = len(window)\n",
    "    c = [c_k(new_row, window, k) for k in range(cols-N+1)]\n",
    "    return np.array(c)\n",
    "\n",
    "correlate_same(row, window)"
   ]
  },
  {
   "cell_type": "markdown",
   "metadata": {},
   "source": [
    "## Update with correlate\n",
    "\n",
    "Now we can use `np.correlate` to update the array.  I'll start again with an array that contains one column for each cell and one row for each time step, and I'll initialize the first row with a single \"on\" cell in the middle:"
   ]
  },
  {
   "cell_type": "code",
   "execution_count": 62,
   "metadata": {},
   "outputs": [
    {
     "name": "stdout",
     "output_type": "stream",
     "text": [
      "[[0 0 0 0 0 1 0 0 0 0 0]\n",
      " [0 0 0 0 0 0 0 0 0 0 0]\n",
      " [0 0 0 0 0 0 0 0 0 0 0]\n",
      " [0 0 0 0 0 0 0 0 0 0 0]\n",
      " [0 0 0 0 0 0 0 0 0 0 0]]\n"
     ]
    }
   ],
   "source": [
    "rows = 5\n",
    "cols = 11\n",
    "array = np.zeros((rows, cols), dtype=np.uint8)\n",
    "array[0, 5] = 1\n",
    "print(array)"
   ]
  },
  {
   "cell_type": "markdown",
   "metadata": {},
   "source": [
    "Now here's a version of `step` that uses `np.correlate`"
   ]
  },
  {
   "cell_type": "code",
   "execution_count": 54,
   "metadata": {},
   "outputs": [],
   "source": [
    "def step2(array, i, window=[1,1,1]):\n",
    "    \"\"\"Compute row i of a CA.\n",
    "    \"\"\"\n",
    "    row = array[i-1]\n",
    "    c = np.correlate(row, window, mode='same')\n",
    "    array[i] = c % 2"
   ]
  },
  {
   "cell_type": "markdown",
   "metadata": {},
   "source": [
    "And the result is the same."
   ]
  },
  {
   "cell_type": "code",
   "execution_count": 55,
   "metadata": {},
   "outputs": [
    {
     "data": {
      "image/png": "[encoded data removed]",
      "text/plain": [
       "<Figure size 432x288 with 1 Axes>"
      ]
     },
     "metadata": {
      "needs_background": "light"
     },
     "output_type": "display_data"
    }
   ],
   "source": [
    "for i in range(1, rows):\n",
    "    step2(array, i)\n",
    "\n",
    "plot_ca(array)"
   ]
  },
  {
   "cell_type": "markdown",
   "metadata": {},
   "source": [
    "## CA Tables\n",
    "\n",
    "What we have so far is good enough for a CA that only depends on the total number of \"on\" cells, but for more general CAs, we need a table that maps from the configuration of the neighborhood to the future state of the center cell.\n",
    "\n",
    "The following function makes the table by interpreting the Rule number in binary."
   ]
  },
  {
   "cell_type": "code",
   "execution_count": 56,
   "metadata": {},
   "outputs": [],
   "source": [
    "def make_table(rule):\n",
    "    \"\"\"Make the table for a given CA rule.\n",
    "    \n",
    "    rule: int 0-255\n",
    "    \n",
    "    returns: array of 8 0s and 1s\n",
    "    \"\"\"\n",
    "    rule = np.array([rule], dtype=np.uint8)\n",
    "    table = np.unpackbits(rule)[::-1]\n",
    "    return table"
   ]
  },
  {
   "cell_type": "markdown",
   "metadata": {},
   "source": [
    "Here's what it looks like as an array:"
   ]
  },
  {
   "cell_type": "code",
   "execution_count": 65,
   "metadata": {},
   "outputs": [
    {
     "name": "stdout",
     "output_type": "stream",
     "text": [
      "[0 1 1 0 1 0 0 1]\n",
      "[0 0 0 0 0 1 0 0 0 0 0]\n"
     ]
    }
   ],
   "source": [
    "table = make_table(150)\n",
    "print(table)\n",
    "print(array[0])"
   ]
  },
  {
   "cell_type": "markdown",
   "metadata": {},
   "source": [
    "If we correlate the row with the window `[4, 2, 1]`, it treats each neighborhood as a binary number between 000 and 111."
   ]
  },
  {
   "cell_type": "code",
   "execution_count": 91,
   "metadata": {},
   "outputs": [
    {
     "name": "stdout",
     "output_type": "stream",
     "text": [
      "[0 0 0 0 0 1 0 0 0 0 0]\n",
      "[0 0 0 0 1 2 4 0 0 0 0]\n"
     ]
    },
    {
     "data": {
      "text/plain": [
       "array([0, 0, 0, 0, 1, 1, 1, 0, 0, 0, 0], dtype=uint8)"
      ]
     },
     "execution_count": 91,
     "metadata": {},
     "output_type": "execute_result"
    }
   ],
   "source": [
    "window = [4, 2, 1]\n",
    "c = np.correlate(array[0], window, mode='same')\n",
    "print(array[0])\n",
    "print(c)\n",
    "d = [0,0,0,0,4,7,4,0,0,0,0]\n",
    "table[d]"
   ]
  },
  {
   "cell_type": "markdown",
   "metadata": {},
   "source": [
    "Now we can use the result from `np.correlate` as an index into the table; the result is the next row of the array."
   ]
  },
  {
   "cell_type": "code",
   "execution_count": 59,
   "metadata": {},
   "outputs": [
    {
     "name": "stdout",
     "output_type": "stream",
     "text": [
      "[0 0 0 0 1 1 1 0 0 0 0]\n"
     ]
    }
   ],
   "source": [
    "array[1] = table[c]\n",
    "print(array[1])"
   ]
  },
  {
   "cell_type": "markdown",
   "metadata": {},
   "source": [
    "We can wrap up that code in a function:"
   ]
  },
  {
   "cell_type": "code",
   "execution_count": 60,
   "metadata": {},
   "outputs": [],
   "source": [
    "def step3(array, i, window=[4,2,1]):\n",
    "    \"\"\"Compute row i of a CA.\n",
    "    \"\"\"\n",
    "    row = array[i-1]\n",
    "    c = np.correlate(row, window, mode='same')\n",
    "    array[i] = table[c]"
   ]
  },
  {
   "cell_type": "markdown",
   "metadata": {},
   "source": [
    "And test it again."
   ]
  },
  {
   "cell_type": "code",
   "execution_count": 61,
   "metadata": {},
   "outputs": [
    {
     "data": {
      "image/png": "[encoded data removed]",
      "text/plain": [
       "<Figure size 432x288 with 1 Axes>"
      ]
     },
     "metadata": {
      "needs_background": "light"
     },
     "output_type": "display_data"
    }
   ],
   "source": [
    "for i in range(1, rows):\n",
    "    step3(array, i)\n",
    "\n",
    "plot_ca(array)"
   ]
  },
  {
   "cell_type": "markdown",
   "metadata": {},
   "source": [
    "How did I know that Rule 150 is the same as the previous CA?  I wrote out the table and converted it to binary."
   ]
  },
  {
   "cell_type": "markdown",
   "metadata": {
    "collapsed": true
   },
   "source": [
    "## The Cell1D object"
   ]
  },
  {
   "cell_type": "markdown",
   "metadata": {},
   "source": [
    "`Cell1D` encapsulates the code from the previous section."
   ]
  },
  {
   "cell_type": "code",
   "execution_count": 119,
   "metadata": {},
   "outputs": [],
   "source": [
    "class Cell1D:\n",
    "    \"\"\"Represents a 1-D a cellular automaton\"\"\"\n",
    "\n",
    "    def __init__(self, rule, n, m=None):\n",
    "        \"\"\"Initializes the CA.\n",
    "\n",
    "        rule: integer\n",
    "        n: number of rows\n",
    "        m: number of columns\n",
    "\n",
    "        Attributes:\n",
    "        table:  rule dictionary that maps from triple to next state.\n",
    "        array:  the numpy array that contains the data.\n",
    "        next:   the index of the next empty row.\n",
    "        \"\"\"\n",
    "        self.table = make_table(rule)\n",
    "        self.n = n\n",
    "        self.m = 2*n + 1 if m is None else m\n",
    "\n",
    "        self.array = np.zeros((n, self.m), dtype=np.int8)\n",
    "        self.next = 0\n",
    "\n",
    "    def start_single(self):\n",
    "        \"\"\"Starts with one cell in the middle of the top row.\"\"\"\n",
    "        self.array[0, self.m//2] = 1\n",
    "        self.next += 1\n",
    "\n",
    "    def start_random(self):\n",
    "        \"\"\"Start with random values in the top row.\"\"\"\n",
    "        self.array[0] = np.random.random(self.m).round()\n",
    "        self.next += 1\n",
    "\n",
    "    def start_string(self, s):\n",
    "        \"\"\"Start with values from a string of 1s and 0s.\"\"\"\n",
    "        # TODO: Check string length\n",
    "        self.array[0] = np.array([int(x) for x in s])\n",
    "        self.next += 1\n",
    "\n",
    "    def loop(self, steps=1):\n",
    "        \"\"\"Executes the given number of time steps.\"\"\"\n",
    "        for i in range(steps):\n",
    "            self.step()\n",
    "\n",
    "    def step(self):\n",
    "        \"\"\"Executes one time step by computing the next row of the array.\"\"\"\n",
    "        a = self.array\n",
    "        i = self.next\n",
    "        window = [4, 2, 1]\n",
    "        c = np.correlate(a[i-1], window, mode='same')\n",
    "        a[i] = self.table[c]\n",
    "        self.next += 1\n",
    "\n",
    "    def draw(self, start=0, end=None):\n",
    "        \"\"\"Draws the CA using pyplot.imshow.\n",
    "\n",
    "        start: index of the first column to be shown\n",
    "        end: index of the last column to be shown\n",
    "        \"\"\"\n",
    "        a = self.array[:, start:end]\n",
    "        plt.imshow(a, cmap='Blues', alpha=0.7)\n",
    "        \n",
    "        # turn off axis tick marks\n",
    "        plt.xticks([])\n",
    "        plt.yticks([])"
   ]
  },
  {
   "cell_type": "markdown",
   "metadata": {},
   "source": [
    "The following function makes and draws a CA."
   ]
  },
  {
   "cell_type": "code",
   "execution_count": 67,
   "metadata": {},
   "outputs": [],
   "source": [
    "def draw_ca(rule, n=32):\n",
    "    \"\"\"Makes and draw a 1D CA with a given rule.\n",
    "    \n",
    "    rule: int rule number\n",
    "    n: number of rows\n",
    "    \"\"\"\n",
    "    ca = Cell1D(rule, n)\n",
    "    ca.start_single()\n",
    "    ca.loop(n-1)\n",
    "    ca.draw()"
   ]
  },
  {
   "cell_type": "markdown",
   "metadata": {},
   "source": [
    "Here's an example that runs a Rule 50 CA for 10 steps."
   ]
  },
  {
   "cell_type": "code",
   "execution_count": 68,
   "metadata": {},
   "outputs": [
    {
     "name": "stdout",
     "output_type": "stream",
     "text": [
      "Saving figure to file figs/chap05-1\n"
     ]
    },
    {
     "data": {
      "image/png": "[encoded data removed]",
      "text/plain": [
       "<Figure size 432x288 with 1 Axes>"
      ]
     },
     "metadata": {},
     "output_type": "display_data"
    }
   ],
   "source": [
    "draw_ca(rule=50, n=10)\n",
    "savefig('figs/chap05-1')"
   ]
  },
  {
   "cell_type": "markdown",
   "metadata": {},
   "source": [
    "Another example:"
   ]
  },
  {
   "cell_type": "code",
   "execution_count": 34,
   "metadata": {},
   "outputs": [],
   "source": [
    "draw_ca(rule=150, n=5)\n",
    "\n",
    "savefig('figs/chap05-2')"
   ]
  },
  {
   "cell_type": "markdown",
   "metadata": {},
   "source": [
    "And one more example showing recursive structure."
   ]
  },
  {
   "cell_type": "code",
   "execution_count": 35,
   "metadata": {},
   "outputs": [],
   "source": [
    "draw_ca(rule=18, n=64)\n",
    "\n",
    "savefig('figs/chap05-3')"
   ]
  },
  {
   "cell_type": "markdown",
   "metadata": {},
   "source": [
    "Rule 30 generates a sequence of bits that is indistinguishable from random:"
   ]
  },
  {
   "cell_type": "code",
   "execution_count": 36,
   "metadata": {},
   "outputs": [],
   "source": [
    "draw_ca(rule=30, n=100)\n",
    "\n",
    "savefig('figs/chap05-4')"
   ]
  },
  {
   "cell_type": "markdown",
   "metadata": {},
   "source": [
    "And Rule 110 is Turing complete!"
   ]
  },
  {
   "cell_type": "code",
   "execution_count": 37,
   "metadata": {},
   "outputs": [],
   "source": [
    "draw_ca(rule=110, n=100)\n",
    "\n",
    "savefig('figs/chap05-5')"
   ]
  },
  {
   "cell_type": "markdown",
   "metadata": {},
   "source": [
    "Here's a longer run that has some spaceships."
   ]
  },
  {
   "cell_type": "code",
   "execution_count": 38,
   "metadata": {},
   "outputs": [],
   "source": [
    "np.random.seed(21)\n",
    "ca = Cell1D(rule=110, n=600)\n",
    "ca.start_random()\n",
    "ca.loop(n-1)\n",
    "ca.draw()\n",
    "\n",
    "savefig('figs/chap05-6')"
   ]
  },
  {
   "cell_type": "markdown",
   "metadata": {},
   "source": [
    "## Exercises"
   ]
  },
  {
   "cell_type": "markdown",
   "metadata": {},
   "source": [
    "**Exercise:** This exercise asks you to experiment with Rule 110 and see how\n",
    "many spaceships you can find.\n",
    "\n",
    "1. Read the [Wikipedia page about Rule 110](https://en.wikipedia.org/wiki/Rule_110), which describes its background pattern and spaceships.\n",
    "\n",
    "2. Create a Rule 110 CA with an initial condition that yields the\n",
    "  stable background pattern.  Note that the CA class provides\n",
    "`start_string`, which allow you to initialize the state of\n",
    "the array using a string of `1`s and `0`s.\n",
    "\n",
    "3. Modify the initial condition by adding different patterns in the\n",
    "  center of the row and see which ones yield spaceships.  You might\n",
    "  want to enumerate all possible patterns of $n$ bits, for some\n",
    "  reasonable value of $n$.  For each spaceship, can you find the\n",
    "  period and rate of translation?  What is the biggest spaceship you\n",
    "  can find?\n",
    "\n",
    "4. What happens when spaceships collide?"
   ]
  },
  {
   "cell_type": "code",
   "execution_count": 196,
   "metadata": {},
   "outputs": [
    {
     "data": {
      "image/png": "[encoded data removed]",
      "text/plain": [
       "<Figure size 432x288 with 64 Axes>"
      ]
     },
     "metadata": {},
     "output_type": "display_data"
    }
   ],
   "source": [
    "# Solution goes here\n",
    "import math\n",
    "def draw_ca_110(string, rule, n, m):\n",
    "    \"\"\"Makes and draw a 1D CA with a given rule.\n",
    "    \n",
    "    rule: int rule number\n",
    "    n: number of rows\n",
    "    \"\"\"\n",
    "    ca = Cell1D(rule, n, m)\n",
    "    ca.start_string(string)\n",
    "    ca.loop(n-1)\n",
    "    ca.draw()\n",
    "\n",
    "def enumerate_string(n):\n",
    "    lst = list(map(list, itertools.product([0, 1], repeat=n)))\n",
    "    return lst\n",
    "    \n",
    "def convert(s): \n",
    "  \n",
    "    # initialization of string to \"\" \n",
    "    new = \"\" \n",
    "  \n",
    "    # traverse in the string  \n",
    "    for x in s: \n",
    "        new += str(x)  \n",
    "  \n",
    "    # return string  \n",
    "    return new \n",
    "\n",
    "strings = enumerate_string(6)\n",
    "num = len(strings)\n",
    "rows = np.sqrt(num)\n",
    "m = 80   #Only works if m&k are even numbers\n",
    "for i,k in enumerate(strings):\n",
    "    padded = np.pad(k, (int(math.ceil(m/2)) - int(math.ceil(len(k))/2)), mode = \"constant\")\n",
    "    string = convert(padded)\n",
    "    plt.subplot(rows, rows, i+1, autoscale_on = 1)\n",
    "    draw_ca_110(string, 110, 80, m)\n"
   ]
  },
  {
   "cell_type": "code",
   "execution_count": 185,
   "metadata": {},
   "outputs": [
    {
     "data": {
      "text/plain": [
       "2"
      ]
     },
     "execution_count": 185,
     "metadata": {},
     "output_type": "execute_result"
    }
   ],
   "source": [
    "# Solution goes here\n",
    "string = \"00010011011111\"\n",
    "#draw_ca_110(string, 110, 100)\n",
    "num = len(strings)\n",
    "num\n",
    "int(math.ceil(len(k))/2)"
   ]
  },
  {
   "cell_type": "code",
   "execution_count": 150,
   "metadata": {},
   "outputs": [
    {
     "data": {
      "text/plain": [
       "[[0, 0, 0, 0, 0, 0, 0, 0, 0, 0],\n",
       " [0, 0, 0, 0, 0, 0, 0, 0, 0, 1],\n",
       " [0, 0, 0, 0, 0, 0, 0, 0, 1, 0],\n",
       " [0, 0, 0, 0, 0, 0, 0, 0, 1, 1],\n",
       " [0, 0, 0, 0, 0, 0, 0, 1, 0, 0],\n",
       " [0, 0, 0, 0, 0, 0, 0, 1, 0, 1],\n",
       " [0, 0, 0, 0, 0, 0, 0, 1, 1, 0],\n",
       " [0, 0, 0, 0, 0, 0, 0, 1, 1, 1],\n",
       " [0, 0, 0, 0, 0, 0, 1, 0, 0, 0],\n",
       " [0, 0, 0, 0, 0, 0, 1, 0, 0, 1],\n",
       " [0, 0, 0, 0, 0, 0, 1, 0, 1, 0],\n",
       " [0, 0, 0, 0, 0, 0, 1, 0, 1, 1],\n",
       " [0, 0, 0, 0, 0, 0, 1, 1, 0, 0],\n",
       " [0, 0, 0, 0, 0, 0, 1, 1, 0, 1],\n",
       " [0, 0, 0, 0, 0, 0, 1, 1, 1, 0],\n",
       " [0, 0, 0, 0, 0, 0, 1, 1, 1, 1],\n",
       " [0, 0, 0, 0, 0, 1, 0, 0, 0, 0],\n",
       " [0, 0, 0, 0, 0, 1, 0, 0, 0, 1],\n",
       " [0, 0, 0, 0, 0, 1, 0, 0, 1, 0],\n",
       " [0, 0, 0, 0, 0, 1, 0, 0, 1, 1],\n",
       " [0, 0, 0, 0, 0, 1, 0, 1, 0, 0],\n",
       " [0, 0, 0, 0, 0, 1, 0, 1, 0, 1],\n",
       " [0, 0, 0, 0, 0, 1, 0, 1, 1, 0],\n",
       " [0, 0, 0, 0, 0, 1, 0, 1, 1, 1],\n",
       " [0, 0, 0, 0, 0, 1, 1, 0, 0, 0],\n",
       " [0, 0, 0, 0, 0, 1, 1, 0, 0, 1],\n",
       " [0, 0, 0, 0, 0, 1, 1, 0, 1, 0],\n",
       " [0, 0, 0, 0, 0, 1, 1, 0, 1, 1],\n",
       " [0, 0, 0, 0, 0, 1, 1, 1, 0, 0],\n",
       " [0, 0, 0, 0, 0, 1, 1, 1, 0, 1],\n",
       " [0, 0, 0, 0, 0, 1, 1, 1, 1, 0],\n",
       " [0, 0, 0, 0, 0, 1, 1, 1, 1, 1],\n",
       " [0, 0, 0, 0, 1, 0, 0, 0, 0, 0],\n",
       " [0, 0, 0, 0, 1, 0, 0, 0, 0, 1],\n",
       " [0, 0, 0, 0, 1, 0, 0, 0, 1, 0],\n",
       " [0, 0, 0, 0, 1, 0, 0, 0, 1, 1],\n",
       " [0, 0, 0, 0, 1, 0, 0, 1, 0, 0],\n",
       " [0, 0, 0, 0, 1, 0, 0, 1, 0, 1],\n",
       " [0, 0, 0, 0, 1, 0, 0, 1, 1, 0],\n",
       " [0, 0, 0, 0, 1, 0, 0, 1, 1, 1],\n",
       " [0, 0, 0, 0, 1, 0, 1, 0, 0, 0],\n",
       " [0, 0, 0, 0, 1, 0, 1, 0, 0, 1],\n",
       " [0, 0, 0, 0, 1, 0, 1, 0, 1, 0],\n",
       " [0, 0, 0, 0, 1, 0, 1, 0, 1, 1],\n",
       " [0, 0, 0, 0, 1, 0, 1, 1, 0, 0],\n",
       " [0, 0, 0, 0, 1, 0, 1, 1, 0, 1],\n",
       " [0, 0, 0, 0, 1, 0, 1, 1, 1, 0],\n",
       " [0, 0, 0, 0, 1, 0, 1, 1, 1, 1],\n",
       " [0, 0, 0, 0, 1, 1, 0, 0, 0, 0],\n",
       " [0, 0, 0, 0, 1, 1, 0, 0, 0, 1],\n",
       " [0, 0, 0, 0, 1, 1, 0, 0, 1, 0],\n",
       " [0, 0, 0, 0, 1, 1, 0, 0, 1, 1],\n",
       " [0, 0, 0, 0, 1, 1, 0, 1, 0, 0],\n",
       " [0, 0, 0, 0, 1, 1, 0, 1, 0, 1],\n",
       " [0, 0, 0, 0, 1, 1, 0, 1, 1, 0],\n",
       " [0, 0, 0, 0, 1, 1, 0, 1, 1, 1],\n",
       " [0, 0, 0, 0, 1, 1, 1, 0, 0, 0],\n",
       " [0, 0, 0, 0, 1, 1, 1, 0, 0, 1],\n",
       " [0, 0, 0, 0, 1, 1, 1, 0, 1, 0],\n",
       " [0, 0, 0, 0, 1, 1, 1, 0, 1, 1],\n",
       " [0, 0, 0, 0, 1, 1, 1, 1, 0, 0],\n",
       " [0, 0, 0, 0, 1, 1, 1, 1, 0, 1],\n",
       " [0, 0, 0, 0, 1, 1, 1, 1, 1, 0],\n",
       " [0, 0, 0, 0, 1, 1, 1, 1, 1, 1],\n",
       " [0, 0, 0, 1, 0, 0, 0, 0, 0, 0],\n",
       " [0, 0, 0, 1, 0, 0, 0, 0, 0, 1],\n",
       " [0, 0, 0, 1, 0, 0, 0, 0, 1, 0],\n",
       " [0, 0, 0, 1, 0, 0, 0, 0, 1, 1],\n",
       " [0, 0, 0, 1, 0, 0, 0, 1, 0, 0],\n",
       " [0, 0, 0, 1, 0, 0, 0, 1, 0, 1],\n",
       " [0, 0, 0, 1, 0, 0, 0, 1, 1, 0],\n",
       " [0, 0, 0, 1, 0, 0, 0, 1, 1, 1],\n",
       " [0, 0, 0, 1, 0, 0, 1, 0, 0, 0],\n",
       " [0, 0, 0, 1, 0, 0, 1, 0, 0, 1],\n",
       " [0, 0, 0, 1, 0, 0, 1, 0, 1, 0],\n",
       " [0, 0, 0, 1, 0, 0, 1, 0, 1, 1],\n",
       " [0, 0, 0, 1, 0, 0, 1, 1, 0, 0],\n",
       " [0, 0, 0, 1, 0, 0, 1, 1, 0, 1],\n",
       " [0, 0, 0, 1, 0, 0, 1, 1, 1, 0],\n",
       " [0, 0, 0, 1, 0, 0, 1, 1, 1, 1],\n",
       " [0, 0, 0, 1, 0, 1, 0, 0, 0, 0],\n",
       " [0, 0, 0, 1, 0, 1, 0, 0, 0, 1],\n",
       " [0, 0, 0, 1, 0, 1, 0, 0, 1, 0],\n",
       " [0, 0, 0, 1, 0, 1, 0, 0, 1, 1],\n",
       " [0, 0, 0, 1, 0, 1, 0, 1, 0, 0],\n",
       " [0, 0, 0, 1, 0, 1, 0, 1, 0, 1],\n",
       " [0, 0, 0, 1, 0, 1, 0, 1, 1, 0],\n",
       " [0, 0, 0, 1, 0, 1, 0, 1, 1, 1],\n",
       " [0, 0, 0, 1, 0, 1, 1, 0, 0, 0],\n",
       " [0, 0, 0, 1, 0, 1, 1, 0, 0, 1],\n",
       " [0, 0, 0, 1, 0, 1, 1, 0, 1, 0],\n",
       " [0, 0, 0, 1, 0, 1, 1, 0, 1, 1],\n",
       " [0, 0, 0, 1, 0, 1, 1, 1, 0, 0],\n",
       " [0, 0, 0, 1, 0, 1, 1, 1, 0, 1],\n",
       " [0, 0, 0, 1, 0, 1, 1, 1, 1, 0],\n",
       " [0, 0, 0, 1, 0, 1, 1, 1, 1, 1],\n",
       " [0, 0, 0, 1, 1, 0, 0, 0, 0, 0],\n",
       " [0, 0, 0, 1, 1, 0, 0, 0, 0, 1],\n",
       " [0, 0, 0, 1, 1, 0, 0, 0, 1, 0],\n",
       " [0, 0, 0, 1, 1, 0, 0, 0, 1, 1],\n",
       " [0, 0, 0, 1, 1, 0, 0, 1, 0, 0],\n",
       " [0, 0, 0, 1, 1, 0, 0, 1, 0, 1],\n",
       " [0, 0, 0, 1, 1, 0, 0, 1, 1, 0],\n",
       " [0, 0, 0, 1, 1, 0, 0, 1, 1, 1],\n",
       " [0, 0, 0, 1, 1, 0, 1, 0, 0, 0],\n",
       " [0, 0, 0, 1, 1, 0, 1, 0, 0, 1],\n",
       " [0, 0, 0, 1, 1, 0, 1, 0, 1, 0],\n",
       " [0, 0, 0, 1, 1, 0, 1, 0, 1, 1],\n",
       " [0, 0, 0, 1, 1, 0, 1, 1, 0, 0],\n",
       " [0, 0, 0, 1, 1, 0, 1, 1, 0, 1],\n",
       " [0, 0, 0, 1, 1, 0, 1, 1, 1, 0],\n",
       " [0, 0, 0, 1, 1, 0, 1, 1, 1, 1],\n",
       " [0, 0, 0, 1, 1, 1, 0, 0, 0, 0],\n",
       " [0, 0, 0, 1, 1, 1, 0, 0, 0, 1],\n",
       " [0, 0, 0, 1, 1, 1, 0, 0, 1, 0],\n",
       " [0, 0, 0, 1, 1, 1, 0, 0, 1, 1],\n",
       " [0, 0, 0, 1, 1, 1, 0, 1, 0, 0],\n",
       " [0, 0, 0, 1, 1, 1, 0, 1, 0, 1],\n",
       " [0, 0, 0, 1, 1, 1, 0, 1, 1, 0],\n",
       " [0, 0, 0, 1, 1, 1, 0, 1, 1, 1],\n",
       " [0, 0, 0, 1, 1, 1, 1, 0, 0, 0],\n",
       " [0, 0, 0, 1, 1, 1, 1, 0, 0, 1],\n",
       " [0, 0, 0, 1, 1, 1, 1, 0, 1, 0],\n",
       " [0, 0, 0, 1, 1, 1, 1, 0, 1, 1],\n",
       " [0, 0, 0, 1, 1, 1, 1, 1, 0, 0],\n",
       " [0, 0, 0, 1, 1, 1, 1, 1, 0, 1],\n",
       " [0, 0, 0, 1, 1, 1, 1, 1, 1, 0],\n",
       " [0, 0, 0, 1, 1, 1, 1, 1, 1, 1],\n",
       " [0, 0, 1, 0, 0, 0, 0, 0, 0, 0],\n",
       " [0, 0, 1, 0, 0, 0, 0, 0, 0, 1],\n",
       " [0, 0, 1, 0, 0, 0, 0, 0, 1, 0],\n",
       " [0, 0, 1, 0, 0, 0, 0, 0, 1, 1],\n",
       " [0, 0, 1, 0, 0, 0, 0, 1, 0, 0],\n",
       " [0, 0, 1, 0, 0, 0, 0, 1, 0, 1],\n",
       " [0, 0, 1, 0, 0, 0, 0, 1, 1, 0],\n",
       " [0, 0, 1, 0, 0, 0, 0, 1, 1, 1],\n",
       " [0, 0, 1, 0, 0, 0, 1, 0, 0, 0],\n",
       " [0, 0, 1, 0, 0, 0, 1, 0, 0, 1],\n",
       " [0, 0, 1, 0, 0, 0, 1, 0, 1, 0],\n",
       " [0, 0, 1, 0, 0, 0, 1, 0, 1, 1],\n",
       " [0, 0, 1, 0, 0, 0, 1, 1, 0, 0],\n",
       " [0, 0, 1, 0, 0, 0, 1, 1, 0, 1],\n",
       " [0, 0, 1, 0, 0, 0, 1, 1, 1, 0],\n",
       " [0, 0, 1, 0, 0, 0, 1, 1, 1, 1],\n",
       " [0, 0, 1, 0, 0, 1, 0, 0, 0, 0],\n",
       " [0, 0, 1, 0, 0, 1, 0, 0, 0, 1],\n",
       " [0, 0, 1, 0, 0, 1, 0, 0, 1, 0],\n",
       " [0, 0, 1, 0, 0, 1, 0, 0, 1, 1],\n",
       " [0, 0, 1, 0, 0, 1, 0, 1, 0, 0],\n",
       " [0, 0, 1, 0, 0, 1, 0, 1, 0, 1],\n",
       " [0, 0, 1, 0, 0, 1, 0, 1, 1, 0],\n",
       " [0, 0, 1, 0, 0, 1, 0, 1, 1, 1],\n",
       " [0, 0, 1, 0, 0, 1, 1, 0, 0, 0],\n",
       " [0, 0, 1, 0, 0, 1, 1, 0, 0, 1],\n",
       " [0, 0, 1, 0, 0, 1, 1, 0, 1, 0],\n",
       " [0, 0, 1, 0, 0, 1, 1, 0, 1, 1],\n",
       " [0, 0, 1, 0, 0, 1, 1, 1, 0, 0],\n",
       " [0, 0, 1, 0, 0, 1, 1, 1, 0, 1],\n",
       " [0, 0, 1, 0, 0, 1, 1, 1, 1, 0],\n",
       " [0, 0, 1, 0, 0, 1, 1, 1, 1, 1],\n",
       " [0, 0, 1, 0, 1, 0, 0, 0, 0, 0],\n",
       " [0, 0, 1, 0, 1, 0, 0, 0, 0, 1],\n",
       " [0, 0, 1, 0, 1, 0, 0, 0, 1, 0],\n",
       " [0, 0, 1, 0, 1, 0, 0, 0, 1, 1],\n",
       " [0, 0, 1, 0, 1, 0, 0, 1, 0, 0],\n",
       " [0, 0, 1, 0, 1, 0, 0, 1, 0, 1],\n",
       " [0, 0, 1, 0, 1, 0, 0, 1, 1, 0],\n",
       " [0, 0, 1, 0, 1, 0, 0, 1, 1, 1],\n",
       " [0, 0, 1, 0, 1, 0, 1, 0, 0, 0],\n",
       " [0, 0, 1, 0, 1, 0, 1, 0, 0, 1],\n",
       " [0, 0, 1, 0, 1, 0, 1, 0, 1, 0],\n",
       " [0, 0, 1, 0, 1, 0, 1, 0, 1, 1],\n",
       " [0, 0, 1, 0, 1, 0, 1, 1, 0, 0],\n",
       " [0, 0, 1, 0, 1, 0, 1, 1, 0, 1],\n",
       " [0, 0, 1, 0, 1, 0, 1, 1, 1, 0],\n",
       " [0, 0, 1, 0, 1, 0, 1, 1, 1, 1],\n",
       " [0, 0, 1, 0, 1, 1, 0, 0, 0, 0],\n",
       " [0, 0, 1, 0, 1, 1, 0, 0, 0, 1],\n",
       " [0, 0, 1, 0, 1, 1, 0, 0, 1, 0],\n",
       " [0, 0, 1, 0, 1, 1, 0, 0, 1, 1],\n",
       " [0, 0, 1, 0, 1, 1, 0, 1, 0, 0],\n",
       " [0, 0, 1, 0, 1, 1, 0, 1, 0, 1],\n",
       " [0, 0, 1, 0, 1, 1, 0, 1, 1, 0],\n",
       " [0, 0, 1, 0, 1, 1, 0, 1, 1, 1],\n",
       " [0, 0, 1, 0, 1, 1, 1, 0, 0, 0],\n",
       " [0, 0, 1, 0, 1, 1, 1, 0, 0, 1],\n",
       " [0, 0, 1, 0, 1, 1, 1, 0, 1, 0],\n",
       " [0, 0, 1, 0, 1, 1, 1, 0, 1, 1],\n",
       " [0, 0, 1, 0, 1, 1, 1, 1, 0, 0],\n",
       " [0, 0, 1, 0, 1, 1, 1, 1, 0, 1],\n",
       " [0, 0, 1, 0, 1, 1, 1, 1, 1, 0],\n",
       " [0, 0, 1, 0, 1, 1, 1, 1, 1, 1],\n",
       " [0, 0, 1, 1, 0, 0, 0, 0, 0, 0],\n",
       " [0, 0, 1, 1, 0, 0, 0, 0, 0, 1],\n",
       " [0, 0, 1, 1, 0, 0, 0, 0, 1, 0],\n",
       " [0, 0, 1, 1, 0, 0, 0, 0, 1, 1],\n",
       " [0, 0, 1, 1, 0, 0, 0, 1, 0, 0],\n",
       " [0, 0, 1, 1, 0, 0, 0, 1, 0, 1],\n",
       " [0, 0, 1, 1, 0, 0, 0, 1, 1, 0],\n",
       " [0, 0, 1, 1, 0, 0, 0, 1, 1, 1],\n",
       " [0, 0, 1, 1, 0, 0, 1, 0, 0, 0],\n",
       " [0, 0, 1, 1, 0, 0, 1, 0, 0, 1],\n",
       " [0, 0, 1, 1, 0, 0, 1, 0, 1, 0],\n",
       " [0, 0, 1, 1, 0, 0, 1, 0, 1, 1],\n",
       " [0, 0, 1, 1, 0, 0, 1, 1, 0, 0],\n",
       " [0, 0, 1, 1, 0, 0, 1, 1, 0, 1],\n",
       " [0, 0, 1, 1, 0, 0, 1, 1, 1, 0],\n",
       " [0, 0, 1, 1, 0, 0, 1, 1, 1, 1],\n",
       " [0, 0, 1, 1, 0, 1, 0, 0, 0, 0],\n",
       " [0, 0, 1, 1, 0, 1, 0, 0, 0, 1],\n",
       " [0, 0, 1, 1, 0, 1, 0, 0, 1, 0],\n",
       " [0, 0, 1, 1, 0, 1, 0, 0, 1, 1],\n",
       " [0, 0, 1, 1, 0, 1, 0, 1, 0, 0],\n",
       " [0, 0, 1, 1, 0, 1, 0, 1, 0, 1],\n",
       " [0, 0, 1, 1, 0, 1, 0, 1, 1, 0],\n",
       " [0, 0, 1, 1, 0, 1, 0, 1, 1, 1],\n",
       " [0, 0, 1, 1, 0, 1, 1, 0, 0, 0],\n",
       " [0, 0, 1, 1, 0, 1, 1, 0, 0, 1],\n",
       " [0, 0, 1, 1, 0, 1, 1, 0, 1, 0],\n",
       " [0, 0, 1, 1, 0, 1, 1, 0, 1, 1],\n",
       " [0, 0, 1, 1, 0, 1, 1, 1, 0, 0],\n",
       " [0, 0, 1, 1, 0, 1, 1, 1, 0, 1],\n",
       " [0, 0, 1, 1, 0, 1, 1, 1, 1, 0],\n",
       " [0, 0, 1, 1, 0, 1, 1, 1, 1, 1],\n",
       " [0, 0, 1, 1, 1, 0, 0, 0, 0, 0],\n",
       " [0, 0, 1, 1, 1, 0, 0, 0, 0, 1],\n",
       " [0, 0, 1, 1, 1, 0, 0, 0, 1, 0],\n",
       " [0, 0, 1, 1, 1, 0, 0, 0, 1, 1],\n",
       " [0, 0, 1, 1, 1, 0, 0, 1, 0, 0],\n",
       " [0, 0, 1, 1, 1, 0, 0, 1, 0, 1],\n",
       " [0, 0, 1, 1, 1, 0, 0, 1, 1, 0],\n",
       " [0, 0, 1, 1, 1, 0, 0, 1, 1, 1],\n",
       " [0, 0, 1, 1, 1, 0, 1, 0, 0, 0],\n",
       " [0, 0, 1, 1, 1, 0, 1, 0, 0, 1],\n",
       " [0, 0, 1, 1, 1, 0, 1, 0, 1, 0],\n",
       " [0, 0, 1, 1, 1, 0, 1, 0, 1, 1],\n",
       " [0, 0, 1, 1, 1, 0, 1, 1, 0, 0],\n",
       " [0, 0, 1, 1, 1, 0, 1, 1, 0, 1],\n",
       " [0, 0, 1, 1, 1, 0, 1, 1, 1, 0],\n",
       " [0, 0, 1, 1, 1, 0, 1, 1, 1, 1],\n",
       " [0, 0, 1, 1, 1, 1, 0, 0, 0, 0],\n",
       " [0, 0, 1, 1, 1, 1, 0, 0, 0, 1],\n",
       " [0, 0, 1, 1, 1, 1, 0, 0, 1, 0],\n",
       " [0, 0, 1, 1, 1, 1, 0, 0, 1, 1],\n",
       " [0, 0, 1, 1, 1, 1, 0, 1, 0, 0],\n",
       " [0, 0, 1, 1, 1, 1, 0, 1, 0, 1],\n",
       " [0, 0, 1, 1, 1, 1, 0, 1, 1, 0],\n",
       " [0, 0, 1, 1, 1, 1, 0, 1, 1, 1],\n",
       " [0, 0, 1, 1, 1, 1, 1, 0, 0, 0],\n",
       " [0, 0, 1, 1, 1, 1, 1, 0, 0, 1],\n",
       " [0, 0, 1, 1, 1, 1, 1, 0, 1, 0],\n",
       " [0, 0, 1, 1, 1, 1, 1, 0, 1, 1],\n",
       " [0, 0, 1, 1, 1, 1, 1, 1, 0, 0],\n",
       " [0, 0, 1, 1, 1, 1, 1, 1, 0, 1],\n",
       " [0, 0, 1, 1, 1, 1, 1, 1, 1, 0],\n",
       " [0, 0, 1, 1, 1, 1, 1, 1, 1, 1],\n",
       " [0, 1, 0, 0, 0, 0, 0, 0, 0, 0],\n",
       " [0, 1, 0, 0, 0, 0, 0, 0, 0, 1],\n",
       " [0, 1, 0, 0, 0, 0, 0, 0, 1, 0],\n",
       " [0, 1, 0, 0, 0, 0, 0, 0, 1, 1],\n",
       " [0, 1, 0, 0, 0, 0, 0, 1, 0, 0],\n",
       " [0, 1, 0, 0, 0, 0, 0, 1, 0, 1],\n",
       " [0, 1, 0, 0, 0, 0, 0, 1, 1, 0],\n",
       " [0, 1, 0, 0, 0, 0, 0, 1, 1, 1],\n",
       " [0, 1, 0, 0, 0, 0, 1, 0, 0, 0],\n",
       " [0, 1, 0, 0, 0, 0, 1, 0, 0, 1],\n",
       " [0, 1, 0, 0, 0, 0, 1, 0, 1, 0],\n",
       " [0, 1, 0, 0, 0, 0, 1, 0, 1, 1],\n",
       " [0, 1, 0, 0, 0, 0, 1, 1, 0, 0],\n",
       " [0, 1, 0, 0, 0, 0, 1, 1, 0, 1],\n",
       " [0, 1, 0, 0, 0, 0, 1, 1, 1, 0],\n",
       " [0, 1, 0, 0, 0, 0, 1, 1, 1, 1],\n",
       " [0, 1, 0, 0, 0, 1, 0, 0, 0, 0],\n",
       " [0, 1, 0, 0, 0, 1, 0, 0, 0, 1],\n",
       " [0, 1, 0, 0, 0, 1, 0, 0, 1, 0],\n",
       " [0, 1, 0, 0, 0, 1, 0, 0, 1, 1],\n",
       " [0, 1, 0, 0, 0, 1, 0, 1, 0, 0],\n",
       " [0, 1, 0, 0, 0, 1, 0, 1, 0, 1],\n",
       " [0, 1, 0, 0, 0, 1, 0, 1, 1, 0],\n",
       " [0, 1, 0, 0, 0, 1, 0, 1, 1, 1],\n",
       " [0, 1, 0, 0, 0, 1, 1, 0, 0, 0],\n",
       " [0, 1, 0, 0, 0, 1, 1, 0, 0, 1],\n",
       " [0, 1, 0, 0, 0, 1, 1, 0, 1, 0],\n",
       " [0, 1, 0, 0, 0, 1, 1, 0, 1, 1],\n",
       " [0, 1, 0, 0, 0, 1, 1, 1, 0, 0],\n",
       " [0, 1, 0, 0, 0, 1, 1, 1, 0, 1],\n",
       " [0, 1, 0, 0, 0, 1, 1, 1, 1, 0],\n",
       " [0, 1, 0, 0, 0, 1, 1, 1, 1, 1],\n",
       " [0, 1, 0, 0, 1, 0, 0, 0, 0, 0],\n",
       " [0, 1, 0, 0, 1, 0, 0, 0, 0, 1],\n",
       " [0, 1, 0, 0, 1, 0, 0, 0, 1, 0],\n",
       " [0, 1, 0, 0, 1, 0, 0, 0, 1, 1],\n",
       " [0, 1, 0, 0, 1, 0, 0, 1, 0, 0],\n",
       " [0, 1, 0, 0, 1, 0, 0, 1, 0, 1],\n",
       " [0, 1, 0, 0, 1, 0, 0, 1, 1, 0],\n",
       " [0, 1, 0, 0, 1, 0, 0, 1, 1, 1],\n",
       " [0, 1, 0, 0, 1, 0, 1, 0, 0, 0],\n",
       " [0, 1, 0, 0, 1, 0, 1, 0, 0, 1],\n",
       " [0, 1, 0, 0, 1, 0, 1, 0, 1, 0],\n",
       " [0, 1, 0, 0, 1, 0, 1, 0, 1, 1],\n",
       " [0, 1, 0, 0, 1, 0, 1, 1, 0, 0],\n",
       " [0, 1, 0, 0, 1, 0, 1, 1, 0, 1],\n",
       " [0, 1, 0, 0, 1, 0, 1, 1, 1, 0],\n",
       " [0, 1, 0, 0, 1, 0, 1, 1, 1, 1],\n",
       " [0, 1, 0, 0, 1, 1, 0, 0, 0, 0],\n",
       " [0, 1, 0, 0, 1, 1, 0, 0, 0, 1],\n",
       " [0, 1, 0, 0, 1, 1, 0, 0, 1, 0],\n",
       " [0, 1, 0, 0, 1, 1, 0, 0, 1, 1],\n",
       " [0, 1, 0, 0, 1, 1, 0, 1, 0, 0],\n",
       " [0, 1, 0, 0, 1, 1, 0, 1, 0, 1],\n",
       " [0, 1, 0, 0, 1, 1, 0, 1, 1, 0],\n",
       " [0, 1, 0, 0, 1, 1, 0, 1, 1, 1],\n",
       " [0, 1, 0, 0, 1, 1, 1, 0, 0, 0],\n",
       " [0, 1, 0, 0, 1, 1, 1, 0, 0, 1],\n",
       " [0, 1, 0, 0, 1, 1, 1, 0, 1, 0],\n",
       " [0, 1, 0, 0, 1, 1, 1, 0, 1, 1],\n",
       " [0, 1, 0, 0, 1, 1, 1, 1, 0, 0],\n",
       " [0, 1, 0, 0, 1, 1, 1, 1, 0, 1],\n",
       " [0, 1, 0, 0, 1, 1, 1, 1, 1, 0],\n",
       " [0, 1, 0, 0, 1, 1, 1, 1, 1, 1],\n",
       " [0, 1, 0, 1, 0, 0, 0, 0, 0, 0],\n",
       " [0, 1, 0, 1, 0, 0, 0, 0, 0, 1],\n",
       " [0, 1, 0, 1, 0, 0, 0, 0, 1, 0],\n",
       " [0, 1, 0, 1, 0, 0, 0, 0, 1, 1],\n",
       " [0, 1, 0, 1, 0, 0, 0, 1, 0, 0],\n",
       " [0, 1, 0, 1, 0, 0, 0, 1, 0, 1],\n",
       " [0, 1, 0, 1, 0, 0, 0, 1, 1, 0],\n",
       " [0, 1, 0, 1, 0, 0, 0, 1, 1, 1],\n",
       " [0, 1, 0, 1, 0, 0, 1, 0, 0, 0],\n",
       " [0, 1, 0, 1, 0, 0, 1, 0, 0, 1],\n",
       " [0, 1, 0, 1, 0, 0, 1, 0, 1, 0],\n",
       " [0, 1, 0, 1, 0, 0, 1, 0, 1, 1],\n",
       " [0, 1, 0, 1, 0, 0, 1, 1, 0, 0],\n",
       " [0, 1, 0, 1, 0, 0, 1, 1, 0, 1],\n",
       " [0, 1, 0, 1, 0, 0, 1, 1, 1, 0],\n",
       " [0, 1, 0, 1, 0, 0, 1, 1, 1, 1],\n",
       " [0, 1, 0, 1, 0, 1, 0, 0, 0, 0],\n",
       " [0, 1, 0, 1, 0, 1, 0, 0, 0, 1],\n",
       " [0, 1, 0, 1, 0, 1, 0, 0, 1, 0],\n",
       " [0, 1, 0, 1, 0, 1, 0, 0, 1, 1],\n",
       " [0, 1, 0, 1, 0, 1, 0, 1, 0, 0],\n",
       " [0, 1, 0, 1, 0, 1, 0, 1, 0, 1],\n",
       " [0, 1, 0, 1, 0, 1, 0, 1, 1, 0],\n",
       " [0, 1, 0, 1, 0, 1, 0, 1, 1, 1],\n",
       " [0, 1, 0, 1, 0, 1, 1, 0, 0, 0],\n",
       " [0, 1, 0, 1, 0, 1, 1, 0, 0, 1],\n",
       " [0, 1, 0, 1, 0, 1, 1, 0, 1, 0],\n",
       " [0, 1, 0, 1, 0, 1, 1, 0, 1, 1],\n",
       " [0, 1, 0, 1, 0, 1, 1, 1, 0, 0],\n",
       " [0, 1, 0, 1, 0, 1, 1, 1, 0, 1],\n",
       " [0, 1, 0, 1, 0, 1, 1, 1, 1, 0],\n",
       " [0, 1, 0, 1, 0, 1, 1, 1, 1, 1],\n",
       " [0, 1, 0, 1, 1, 0, 0, 0, 0, 0],\n",
       " [0, 1, 0, 1, 1, 0, 0, 0, 0, 1],\n",
       " [0, 1, 0, 1, 1, 0, 0, 0, 1, 0],\n",
       " [0, 1, 0, 1, 1, 0, 0, 0, 1, 1],\n",
       " [0, 1, 0, 1, 1, 0, 0, 1, 0, 0],\n",
       " [0, 1, 0, 1, 1, 0, 0, 1, 0, 1],\n",
       " [0, 1, 0, 1, 1, 0, 0, 1, 1, 0],\n",
       " [0, 1, 0, 1, 1, 0, 0, 1, 1, 1],\n",
       " [0, 1, 0, 1, 1, 0, 1, 0, 0, 0],\n",
       " [0, 1, 0, 1, 1, 0, 1, 0, 0, 1],\n",
       " [0, 1, 0, 1, 1, 0, 1, 0, 1, 0],\n",
       " [0, 1, 0, 1, 1, 0, 1, 0, 1, 1],\n",
       " [0, 1, 0, 1, 1, 0, 1, 1, 0, 0],\n",
       " [0, 1, 0, 1, 1, 0, 1, 1, 0, 1],\n",
       " [0, 1, 0, 1, 1, 0, 1, 1, 1, 0],\n",
       " [0, 1, 0, 1, 1, 0, 1, 1, 1, 1],\n",
       " [0, 1, 0, 1, 1, 1, 0, 0, 0, 0],\n",
       " [0, 1, 0, 1, 1, 1, 0, 0, 0, 1],\n",
       " [0, 1, 0, 1, 1, 1, 0, 0, 1, 0],\n",
       " [0, 1, 0, 1, 1, 1, 0, 0, 1, 1],\n",
       " [0, 1, 0, 1, 1, 1, 0, 1, 0, 0],\n",
       " [0, 1, 0, 1, 1, 1, 0, 1, 0, 1],\n",
       " [0, 1, 0, 1, 1, 1, 0, 1, 1, 0],\n",
       " [0, 1, 0, 1, 1, 1, 0, 1, 1, 1],\n",
       " [0, 1, 0, 1, 1, 1, 1, 0, 0, 0],\n",
       " [0, 1, 0, 1, 1, 1, 1, 0, 0, 1],\n",
       " [0, 1, 0, 1, 1, 1, 1, 0, 1, 0],\n",
       " [0, 1, 0, 1, 1, 1, 1, 0, 1, 1],\n",
       " [0, 1, 0, 1, 1, 1, 1, 1, 0, 0],\n",
       " [0, 1, 0, 1, 1, 1, 1, 1, 0, 1],\n",
       " [0, 1, 0, 1, 1, 1, 1, 1, 1, 0],\n",
       " [0, 1, 0, 1, 1, 1, 1, 1, 1, 1],\n",
       " [0, 1, 1, 0, 0, 0, 0, 0, 0, 0],\n",
       " [0, 1, 1, 0, 0, 0, 0, 0, 0, 1],\n",
       " [0, 1, 1, 0, 0, 0, 0, 0, 1, 0],\n",
       " [0, 1, 1, 0, 0, 0, 0, 0, 1, 1],\n",
       " [0, 1, 1, 0, 0, 0, 0, 1, 0, 0],\n",
       " [0, 1, 1, 0, 0, 0, 0, 1, 0, 1],\n",
       " [0, 1, 1, 0, 0, 0, 0, 1, 1, 0],\n",
       " [0, 1, 1, 0, 0, 0, 0, 1, 1, 1],\n",
       " [0, 1, 1, 0, 0, 0, 1, 0, 0, 0],\n",
       " [0, 1, 1, 0, 0, 0, 1, 0, 0, 1],\n",
       " [0, 1, 1, 0, 0, 0, 1, 0, 1, 0],\n",
       " [0, 1, 1, 0, 0, 0, 1, 0, 1, 1],\n",
       " [0, 1, 1, 0, 0, 0, 1, 1, 0, 0],\n",
       " [0, 1, 1, 0, 0, 0, 1, 1, 0, 1],\n",
       " [0, 1, 1, 0, 0, 0, 1, 1, 1, 0],\n",
       " [0, 1, 1, 0, 0, 0, 1, 1, 1, 1],\n",
       " [0, 1, 1, 0, 0, 1, 0, 0, 0, 0],\n",
       " [0, 1, 1, 0, 0, 1, 0, 0, 0, 1],\n",
       " [0, 1, 1, 0, 0, 1, 0, 0, 1, 0],\n",
       " [0, 1, 1, 0, 0, 1, 0, 0, 1, 1],\n",
       " [0, 1, 1, 0, 0, 1, 0, 1, 0, 0],\n",
       " [0, 1, 1, 0, 0, 1, 0, 1, 0, 1],\n",
       " [0, 1, 1, 0, 0, 1, 0, 1, 1, 0],\n",
       " [0, 1, 1, 0, 0, 1, 0, 1, 1, 1],\n",
       " [0, 1, 1, 0, 0, 1, 1, 0, 0, 0],\n",
       " [0, 1, 1, 0, 0, 1, 1, 0, 0, 1],\n",
       " [0, 1, 1, 0, 0, 1, 1, 0, 1, 0],\n",
       " [0, 1, 1, 0, 0, 1, 1, 0, 1, 1],\n",
       " [0, 1, 1, 0, 0, 1, 1, 1, 0, 0],\n",
       " [0, 1, 1, 0, 0, 1, 1, 1, 0, 1],\n",
       " [0, 1, 1, 0, 0, 1, 1, 1, 1, 0],\n",
       " [0, 1, 1, 0, 0, 1, 1, 1, 1, 1],\n",
       " [0, 1, 1, 0, 1, 0, 0, 0, 0, 0],\n",
       " [0, 1, 1, 0, 1, 0, 0, 0, 0, 1],\n",
       " [0, 1, 1, 0, 1, 0, 0, 0, 1, 0],\n",
       " [0, 1, 1, 0, 1, 0, 0, 0, 1, 1],\n",
       " [0, 1, 1, 0, 1, 0, 0, 1, 0, 0],\n",
       " [0, 1, 1, 0, 1, 0, 0, 1, 0, 1],\n",
       " [0, 1, 1, 0, 1, 0, 0, 1, 1, 0],\n",
       " [0, 1, 1, 0, 1, 0, 0, 1, 1, 1],\n",
       " [0, 1, 1, 0, 1, 0, 1, 0, 0, 0],\n",
       " [0, 1, 1, 0, 1, 0, 1, 0, 0, 1],\n",
       " [0, 1, 1, 0, 1, 0, 1, 0, 1, 0],\n",
       " [0, 1, 1, 0, 1, 0, 1, 0, 1, 1],\n",
       " [0, 1, 1, 0, 1, 0, 1, 1, 0, 0],\n",
       " [0, 1, 1, 0, 1, 0, 1, 1, 0, 1],\n",
       " [0, 1, 1, 0, 1, 0, 1, 1, 1, 0],\n",
       " [0, 1, 1, 0, 1, 0, 1, 1, 1, 1],\n",
       " [0, 1, 1, 0, 1, 1, 0, 0, 0, 0],\n",
       " [0, 1, 1, 0, 1, 1, 0, 0, 0, 1],\n",
       " [0, 1, 1, 0, 1, 1, 0, 0, 1, 0],\n",
       " [0, 1, 1, 0, 1, 1, 0, 0, 1, 1],\n",
       " [0, 1, 1, 0, 1, 1, 0, 1, 0, 0],\n",
       " [0, 1, 1, 0, 1, 1, 0, 1, 0, 1],\n",
       " [0, 1, 1, 0, 1, 1, 0, 1, 1, 0],\n",
       " [0, 1, 1, 0, 1, 1, 0, 1, 1, 1],\n",
       " [0, 1, 1, 0, 1, 1, 1, 0, 0, 0],\n",
       " [0, 1, 1, 0, 1, 1, 1, 0, 0, 1],\n",
       " [0, 1, 1, 0, 1, 1, 1, 0, 1, 0],\n",
       " [0, 1, 1, 0, 1, 1, 1, 0, 1, 1],\n",
       " [0, 1, 1, 0, 1, 1, 1, 1, 0, 0],\n",
       " [0, 1, 1, 0, 1, 1, 1, 1, 0, 1],\n",
       " [0, 1, 1, 0, 1, 1, 1, 1, 1, 0],\n",
       " [0, 1, 1, 0, 1, 1, 1, 1, 1, 1],\n",
       " [0, 1, 1, 1, 0, 0, 0, 0, 0, 0],\n",
       " [0, 1, 1, 1, 0, 0, 0, 0, 0, 1],\n",
       " [0, 1, 1, 1, 0, 0, 0, 0, 1, 0],\n",
       " [0, 1, 1, 1, 0, 0, 0, 0, 1, 1],\n",
       " [0, 1, 1, 1, 0, 0, 0, 1, 0, 0],\n",
       " [0, 1, 1, 1, 0, 0, 0, 1, 0, 1],\n",
       " [0, 1, 1, 1, 0, 0, 0, 1, 1, 0],\n",
       " [0, 1, 1, 1, 0, 0, 0, 1, 1, 1],\n",
       " [0, 1, 1, 1, 0, 0, 1, 0, 0, 0],\n",
       " [0, 1, 1, 1, 0, 0, 1, 0, 0, 1],\n",
       " [0, 1, 1, 1, 0, 0, 1, 0, 1, 0],\n",
       " [0, 1, 1, 1, 0, 0, 1, 0, 1, 1],\n",
       " [0, 1, 1, 1, 0, 0, 1, 1, 0, 0],\n",
       " [0, 1, 1, 1, 0, 0, 1, 1, 0, 1],\n",
       " [0, 1, 1, 1, 0, 0, 1, 1, 1, 0],\n",
       " [0, 1, 1, 1, 0, 0, 1, 1, 1, 1],\n",
       " [0, 1, 1, 1, 0, 1, 0, 0, 0, 0],\n",
       " [0, 1, 1, 1, 0, 1, 0, 0, 0, 1],\n",
       " [0, 1, 1, 1, 0, 1, 0, 0, 1, 0],\n",
       " [0, 1, 1, 1, 0, 1, 0, 0, 1, 1],\n",
       " [0, 1, 1, 1, 0, 1, 0, 1, 0, 0],\n",
       " [0, 1, 1, 1, 0, 1, 0, 1, 0, 1],\n",
       " [0, 1, 1, 1, 0, 1, 0, 1, 1, 0],\n",
       " [0, 1, 1, 1, 0, 1, 0, 1, 1, 1],\n",
       " [0, 1, 1, 1, 0, 1, 1, 0, 0, 0],\n",
       " [0, 1, 1, 1, 0, 1, 1, 0, 0, 1],\n",
       " [0, 1, 1, 1, 0, 1, 1, 0, 1, 0],\n",
       " [0, 1, 1, 1, 0, 1, 1, 0, 1, 1],\n",
       " [0, 1, 1, 1, 0, 1, 1, 1, 0, 0],\n",
       " [0, 1, 1, 1, 0, 1, 1, 1, 0, 1],\n",
       " [0, 1, 1, 1, 0, 1, 1, 1, 1, 0],\n",
       " [0, 1, 1, 1, 0, 1, 1, 1, 1, 1],\n",
       " [0, 1, 1, 1, 1, 0, 0, 0, 0, 0],\n",
       " [0, 1, 1, 1, 1, 0, 0, 0, 0, 1],\n",
       " [0, 1, 1, 1, 1, 0, 0, 0, 1, 0],\n",
       " [0, 1, 1, 1, 1, 0, 0, 0, 1, 1],\n",
       " [0, 1, 1, 1, 1, 0, 0, 1, 0, 0],\n",
       " [0, 1, 1, 1, 1, 0, 0, 1, 0, 1],\n",
       " [0, 1, 1, 1, 1, 0, 0, 1, 1, 0],\n",
       " [0, 1, 1, 1, 1, 0, 0, 1, 1, 1],\n",
       " [0, 1, 1, 1, 1, 0, 1, 0, 0, 0],\n",
       " [0, 1, 1, 1, 1, 0, 1, 0, 0, 1],\n",
       " [0, 1, 1, 1, 1, 0, 1, 0, 1, 0],\n",
       " [0, 1, 1, 1, 1, 0, 1, 0, 1, 1],\n",
       " [0, 1, 1, 1, 1, 0, 1, 1, 0, 0],\n",
       " [0, 1, 1, 1, 1, 0, 1, 1, 0, 1],\n",
       " [0, 1, 1, 1, 1, 0, 1, 1, 1, 0],\n",
       " [0, 1, 1, 1, 1, 0, 1, 1, 1, 1],\n",
       " [0, 1, 1, 1, 1, 1, 0, 0, 0, 0],\n",
       " [0, 1, 1, 1, 1, 1, 0, 0, 0, 1],\n",
       " [0, 1, 1, 1, 1, 1, 0, 0, 1, 0],\n",
       " [0, 1, 1, 1, 1, 1, 0, 0, 1, 1],\n",
       " [0, 1, 1, 1, 1, 1, 0, 1, 0, 0],\n",
       " [0, 1, 1, 1, 1, 1, 0, 1, 0, 1],\n",
       " [0, 1, 1, 1, 1, 1, 0, 1, 1, 0],\n",
       " [0, 1, 1, 1, 1, 1, 0, 1, 1, 1],\n",
       " [0, 1, 1, 1, 1, 1, 1, 0, 0, 0],\n",
       " [0, 1, 1, 1, 1, 1, 1, 0, 0, 1],\n",
       " [0, 1, 1, 1, 1, 1, 1, 0, 1, 0],\n",
       " [0, 1, 1, 1, 1, 1, 1, 0, 1, 1],\n",
       " [0, 1, 1, 1, 1, 1, 1, 1, 0, 0],\n",
       " [0, 1, 1, 1, 1, 1, 1, 1, 0, 1],\n",
       " [0, 1, 1, 1, 1, 1, 1, 1, 1, 0],\n",
       " [0, 1, 1, 1, 1, 1, 1, 1, 1, 1],\n",
       " [1, 0, 0, 0, 0, 0, 0, 0, 0, 0],\n",
       " [1, 0, 0, 0, 0, 0, 0, 0, 0, 1],\n",
       " [1, 0, 0, 0, 0, 0, 0, 0, 1, 0],\n",
       " [1, 0, 0, 0, 0, 0, 0, 0, 1, 1],\n",
       " [1, 0, 0, 0, 0, 0, 0, 1, 0, 0],\n",
       " [1, 0, 0, 0, 0, 0, 0, 1, 0, 1],\n",
       " [1, 0, 0, 0, 0, 0, 0, 1, 1, 0],\n",
       " [1, 0, 0, 0, 0, 0, 0, 1, 1, 1],\n",
       " [1, 0, 0, 0, 0, 0, 1, 0, 0, 0],\n",
       " [1, 0, 0, 0, 0, 0, 1, 0, 0, 1],\n",
       " [1, 0, 0, 0, 0, 0, 1, 0, 1, 0],\n",
       " [1, 0, 0, 0, 0, 0, 1, 0, 1, 1],\n",
       " [1, 0, 0, 0, 0, 0, 1, 1, 0, 0],\n",
       " [1, 0, 0, 0, 0, 0, 1, 1, 0, 1],\n",
       " [1, 0, 0, 0, 0, 0, 1, 1, 1, 0],\n",
       " [1, 0, 0, 0, 0, 0, 1, 1, 1, 1],\n",
       " [1, 0, 0, 0, 0, 1, 0, 0, 0, 0],\n",
       " [1, 0, 0, 0, 0, 1, 0, 0, 0, 1],\n",
       " [1, 0, 0, 0, 0, 1, 0, 0, 1, 0],\n",
       " [1, 0, 0, 0, 0, 1, 0, 0, 1, 1],\n",
       " [1, 0, 0, 0, 0, 1, 0, 1, 0, 0],\n",
       " [1, 0, 0, 0, 0, 1, 0, 1, 0, 1],\n",
       " [1, 0, 0, 0, 0, 1, 0, 1, 1, 0],\n",
       " [1, 0, 0, 0, 0, 1, 0, 1, 1, 1],\n",
       " [1, 0, 0, 0, 0, 1, 1, 0, 0, 0],\n",
       " [1, 0, 0, 0, 0, 1, 1, 0, 0, 1],\n",
       " [1, 0, 0, 0, 0, 1, 1, 0, 1, 0],\n",
       " [1, 0, 0, 0, 0, 1, 1, 0, 1, 1],\n",
       " [1, 0, 0, 0, 0, 1, 1, 1, 0, 0],\n",
       " [1, 0, 0, 0, 0, 1, 1, 1, 0, 1],\n",
       " [1, 0, 0, 0, 0, 1, 1, 1, 1, 0],\n",
       " [1, 0, 0, 0, 0, 1, 1, 1, 1, 1],\n",
       " [1, 0, 0, 0, 1, 0, 0, 0, 0, 0],\n",
       " [1, 0, 0, 0, 1, 0, 0, 0, 0, 1],\n",
       " [1, 0, 0, 0, 1, 0, 0, 0, 1, 0],\n",
       " [1, 0, 0, 0, 1, 0, 0, 0, 1, 1],\n",
       " [1, 0, 0, 0, 1, 0, 0, 1, 0, 0],\n",
       " [1, 0, 0, 0, 1, 0, 0, 1, 0, 1],\n",
       " [1, 0, 0, 0, 1, 0, 0, 1, 1, 0],\n",
       " [1, 0, 0, 0, 1, 0, 0, 1, 1, 1],\n",
       " [1, 0, 0, 0, 1, 0, 1, 0, 0, 0],\n",
       " [1, 0, 0, 0, 1, 0, 1, 0, 0, 1],\n",
       " [1, 0, 0, 0, 1, 0, 1, 0, 1, 0],\n",
       " [1, 0, 0, 0, 1, 0, 1, 0, 1, 1],\n",
       " [1, 0, 0, 0, 1, 0, 1, 1, 0, 0],\n",
       " [1, 0, 0, 0, 1, 0, 1, 1, 0, 1],\n",
       " [1, 0, 0, 0, 1, 0, 1, 1, 1, 0],\n",
       " [1, 0, 0, 0, 1, 0, 1, 1, 1, 1],\n",
       " [1, 0, 0, 0, 1, 1, 0, 0, 0, 0],\n",
       " [1, 0, 0, 0, 1, 1, 0, 0, 0, 1],\n",
       " [1, 0, 0, 0, 1, 1, 0, 0, 1, 0],\n",
       " [1, 0, 0, 0, 1, 1, 0, 0, 1, 1],\n",
       " [1, 0, 0, 0, 1, 1, 0, 1, 0, 0],\n",
       " [1, 0, 0, 0, 1, 1, 0, 1, 0, 1],\n",
       " [1, 0, 0, 0, 1, 1, 0, 1, 1, 0],\n",
       " [1, 0, 0, 0, 1, 1, 0, 1, 1, 1],\n",
       " [1, 0, 0, 0, 1, 1, 1, 0, 0, 0],\n",
       " [1, 0, 0, 0, 1, 1, 1, 0, 0, 1],\n",
       " [1, 0, 0, 0, 1, 1, 1, 0, 1, 0],\n",
       " [1, 0, 0, 0, 1, 1, 1, 0, 1, 1],\n",
       " [1, 0, 0, 0, 1, 1, 1, 1, 0, 0],\n",
       " [1, 0, 0, 0, 1, 1, 1, 1, 0, 1],\n",
       " [1, 0, 0, 0, 1, 1, 1, 1, 1, 0],\n",
       " [1, 0, 0, 0, 1, 1, 1, 1, 1, 1],\n",
       " [1, 0, 0, 1, 0, 0, 0, 0, 0, 0],\n",
       " [1, 0, 0, 1, 0, 0, 0, 0, 0, 1],\n",
       " [1, 0, 0, 1, 0, 0, 0, 0, 1, 0],\n",
       " [1, 0, 0, 1, 0, 0, 0, 0, 1, 1],\n",
       " [1, 0, 0, 1, 0, 0, 0, 1, 0, 0],\n",
       " [1, 0, 0, 1, 0, 0, 0, 1, 0, 1],\n",
       " [1, 0, 0, 1, 0, 0, 0, 1, 1, 0],\n",
       " [1, 0, 0, 1, 0, 0, 0, 1, 1, 1],\n",
       " [1, 0, 0, 1, 0, 0, 1, 0, 0, 0],\n",
       " [1, 0, 0, 1, 0, 0, 1, 0, 0, 1],\n",
       " [1, 0, 0, 1, 0, 0, 1, 0, 1, 0],\n",
       " [1, 0, 0, 1, 0, 0, 1, 0, 1, 1],\n",
       " [1, 0, 0, 1, 0, 0, 1, 1, 0, 0],\n",
       " [1, 0, 0, 1, 0, 0, 1, 1, 0, 1],\n",
       " [1, 0, 0, 1, 0, 0, 1, 1, 1, 0],\n",
       " [1, 0, 0, 1, 0, 0, 1, 1, 1, 1],\n",
       " [1, 0, 0, 1, 0, 1, 0, 0, 0, 0],\n",
       " [1, 0, 0, 1, 0, 1, 0, 0, 0, 1],\n",
       " [1, 0, 0, 1, 0, 1, 0, 0, 1, 0],\n",
       " [1, 0, 0, 1, 0, 1, 0, 0, 1, 1],\n",
       " [1, 0, 0, 1, 0, 1, 0, 1, 0, 0],\n",
       " [1, 0, 0, 1, 0, 1, 0, 1, 0, 1],\n",
       " [1, 0, 0, 1, 0, 1, 0, 1, 1, 0],\n",
       " [1, 0, 0, 1, 0, 1, 0, 1, 1, 1],\n",
       " [1, 0, 0, 1, 0, 1, 1, 0, 0, 0],\n",
       " [1, 0, 0, 1, 0, 1, 1, 0, 0, 1],\n",
       " [1, 0, 0, 1, 0, 1, 1, 0, 1, 0],\n",
       " [1, 0, 0, 1, 0, 1, 1, 0, 1, 1],\n",
       " [1, 0, 0, 1, 0, 1, 1, 1, 0, 0],\n",
       " [1, 0, 0, 1, 0, 1, 1, 1, 0, 1],\n",
       " [1, 0, 0, 1, 0, 1, 1, 1, 1, 0],\n",
       " [1, 0, 0, 1, 0, 1, 1, 1, 1, 1],\n",
       " [1, 0, 0, 1, 1, 0, 0, 0, 0, 0],\n",
       " [1, 0, 0, 1, 1, 0, 0, 0, 0, 1],\n",
       " [1, 0, 0, 1, 1, 0, 0, 0, 1, 0],\n",
       " [1, 0, 0, 1, 1, 0, 0, 0, 1, 1],\n",
       " [1, 0, 0, 1, 1, 0, 0, 1, 0, 0],\n",
       " [1, 0, 0, 1, 1, 0, 0, 1, 0, 1],\n",
       " [1, 0, 0, 1, 1, 0, 0, 1, 1, 0],\n",
       " [1, 0, 0, 1, 1, 0, 0, 1, 1, 1],\n",
       " [1, 0, 0, 1, 1, 0, 1, 0, 0, 0],\n",
       " [1, 0, 0, 1, 1, 0, 1, 0, 0, 1],\n",
       " [1, 0, 0, 1, 1, 0, 1, 0, 1, 0],\n",
       " [1, 0, 0, 1, 1, 0, 1, 0, 1, 1],\n",
       " [1, 0, 0, 1, 1, 0, 1, 1, 0, 0],\n",
       " [1, 0, 0, 1, 1, 0, 1, 1, 0, 1],\n",
       " [1, 0, 0, 1, 1, 0, 1, 1, 1, 0],\n",
       " [1, 0, 0, 1, 1, 0, 1, 1, 1, 1],\n",
       " [1, 0, 0, 1, 1, 1, 0, 0, 0, 0],\n",
       " [1, 0, 0, 1, 1, 1, 0, 0, 0, 1],\n",
       " [1, 0, 0, 1, 1, 1, 0, 0, 1, 0],\n",
       " [1, 0, 0, 1, 1, 1, 0, 0, 1, 1],\n",
       " [1, 0, 0, 1, 1, 1, 0, 1, 0, 0],\n",
       " [1, 0, 0, 1, 1, 1, 0, 1, 0, 1],\n",
       " [1, 0, 0, 1, 1, 1, 0, 1, 1, 0],\n",
       " [1, 0, 0, 1, 1, 1, 0, 1, 1, 1],\n",
       " [1, 0, 0, 1, 1, 1, 1, 0, 0, 0],\n",
       " [1, 0, 0, 1, 1, 1, 1, 0, 0, 1],\n",
       " [1, 0, 0, 1, 1, 1, 1, 0, 1, 0],\n",
       " [1, 0, 0, 1, 1, 1, 1, 0, 1, 1],\n",
       " [1, 0, 0, 1, 1, 1, 1, 1, 0, 0],\n",
       " [1, 0, 0, 1, 1, 1, 1, 1, 0, 1],\n",
       " [1, 0, 0, 1, 1, 1, 1, 1, 1, 0],\n",
       " [1, 0, 0, 1, 1, 1, 1, 1, 1, 1],\n",
       " [1, 0, 1, 0, 0, 0, 0, 0, 0, 0],\n",
       " [1, 0, 1, 0, 0, 0, 0, 0, 0, 1],\n",
       " [1, 0, 1, 0, 0, 0, 0, 0, 1, 0],\n",
       " [1, 0, 1, 0, 0, 0, 0, 0, 1, 1],\n",
       " [1, 0, 1, 0, 0, 0, 0, 1, 0, 0],\n",
       " [1, 0, 1, 0, 0, 0, 0, 1, 0, 1],\n",
       " [1, 0, 1, 0, 0, 0, 0, 1, 1, 0],\n",
       " [1, 0, 1, 0, 0, 0, 0, 1, 1, 1],\n",
       " [1, 0, 1, 0, 0, 0, 1, 0, 0, 0],\n",
       " [1, 0, 1, 0, 0, 0, 1, 0, 0, 1],\n",
       " [1, 0, 1, 0, 0, 0, 1, 0, 1, 0],\n",
       " [1, 0, 1, 0, 0, 0, 1, 0, 1, 1],\n",
       " [1, 0, 1, 0, 0, 0, 1, 1, 0, 0],\n",
       " [1, 0, 1, 0, 0, 0, 1, 1, 0, 1],\n",
       " [1, 0, 1, 0, 0, 0, 1, 1, 1, 0],\n",
       " [1, 0, 1, 0, 0, 0, 1, 1, 1, 1],\n",
       " [1, 0, 1, 0, 0, 1, 0, 0, 0, 0],\n",
       " [1, 0, 1, 0, 0, 1, 0, 0, 0, 1],\n",
       " [1, 0, 1, 0, 0, 1, 0, 0, 1, 0],\n",
       " [1, 0, 1, 0, 0, 1, 0, 0, 1, 1],\n",
       " [1, 0, 1, 0, 0, 1, 0, 1, 0, 0],\n",
       " [1, 0, 1, 0, 0, 1, 0, 1, 0, 1],\n",
       " [1, 0, 1, 0, 0, 1, 0, 1, 1, 0],\n",
       " [1, 0, 1, 0, 0, 1, 0, 1, 1, 1],\n",
       " [1, 0, 1, 0, 0, 1, 1, 0, 0, 0],\n",
       " [1, 0, 1, 0, 0, 1, 1, 0, 0, 1],\n",
       " [1, 0, 1, 0, 0, 1, 1, 0, 1, 0],\n",
       " [1, 0, 1, 0, 0, 1, 1, 0, 1, 1],\n",
       " [1, 0, 1, 0, 0, 1, 1, 1, 0, 0],\n",
       " [1, 0, 1, 0, 0, 1, 1, 1, 0, 1],\n",
       " [1, 0, 1, 0, 0, 1, 1, 1, 1, 0],\n",
       " [1, 0, 1, 0, 0, 1, 1, 1, 1, 1],\n",
       " [1, 0, 1, 0, 1, 0, 0, 0, 0, 0],\n",
       " [1, 0, 1, 0, 1, 0, 0, 0, 0, 1],\n",
       " [1, 0, 1, 0, 1, 0, 0, 0, 1, 0],\n",
       " [1, 0, 1, 0, 1, 0, 0, 0, 1, 1],\n",
       " [1, 0, 1, 0, 1, 0, 0, 1, 0, 0],\n",
       " [1, 0, 1, 0, 1, 0, 0, 1, 0, 1],\n",
       " [1, 0, 1, 0, 1, 0, 0, 1, 1, 0],\n",
       " [1, 0, 1, 0, 1, 0, 0, 1, 1, 1],\n",
       " [1, 0, 1, 0, 1, 0, 1, 0, 0, 0],\n",
       " [1, 0, 1, 0, 1, 0, 1, 0, 0, 1],\n",
       " [1, 0, 1, 0, 1, 0, 1, 0, 1, 0],\n",
       " [1, 0, 1, 0, 1, 0, 1, 0, 1, 1],\n",
       " [1, 0, 1, 0, 1, 0, 1, 1, 0, 0],\n",
       " [1, 0, 1, 0, 1, 0, 1, 1, 0, 1],\n",
       " [1, 0, 1, 0, 1, 0, 1, 1, 1, 0],\n",
       " [1, 0, 1, 0, 1, 0, 1, 1, 1, 1],\n",
       " [1, 0, 1, 0, 1, 1, 0, 0, 0, 0],\n",
       " [1, 0, 1, 0, 1, 1, 0, 0, 0, 1],\n",
       " [1, 0, 1, 0, 1, 1, 0, 0, 1, 0],\n",
       " [1, 0, 1, 0, 1, 1, 0, 0, 1, 1],\n",
       " [1, 0, 1, 0, 1, 1, 0, 1, 0, 0],\n",
       " [1, 0, 1, 0, 1, 1, 0, 1, 0, 1],\n",
       " [1, 0, 1, 0, 1, 1, 0, 1, 1, 0],\n",
       " [1, 0, 1, 0, 1, 1, 0, 1, 1, 1],\n",
       " [1, 0, 1, 0, 1, 1, 1, 0, 0, 0],\n",
       " [1, 0, 1, 0, 1, 1, 1, 0, 0, 1],\n",
       " [1, 0, 1, 0, 1, 1, 1, 0, 1, 0],\n",
       " [1, 0, 1, 0, 1, 1, 1, 0, 1, 1],\n",
       " [1, 0, 1, 0, 1, 1, 1, 1, 0, 0],\n",
       " [1, 0, 1, 0, 1, 1, 1, 1, 0, 1],\n",
       " [1, 0, 1, 0, 1, 1, 1, 1, 1, 0],\n",
       " [1, 0, 1, 0, 1, 1, 1, 1, 1, 1],\n",
       " [1, 0, 1, 1, 0, 0, 0, 0, 0, 0],\n",
       " [1, 0, 1, 1, 0, 0, 0, 0, 0, 1],\n",
       " [1, 0, 1, 1, 0, 0, 0, 0, 1, 0],\n",
       " [1, 0, 1, 1, 0, 0, 0, 0, 1, 1],\n",
       " [1, 0, 1, 1, 0, 0, 0, 1, 0, 0],\n",
       " [1, 0, 1, 1, 0, 0, 0, 1, 0, 1],\n",
       " [1, 0, 1, 1, 0, 0, 0, 1, 1, 0],\n",
       " [1, 0, 1, 1, 0, 0, 0, 1, 1, 1],\n",
       " [1, 0, 1, 1, 0, 0, 1, 0, 0, 0],\n",
       " [1, 0, 1, 1, 0, 0, 1, 0, 0, 1],\n",
       " [1, 0, 1, 1, 0, 0, 1, 0, 1, 0],\n",
       " [1, 0, 1, 1, 0, 0, 1, 0, 1, 1],\n",
       " [1, 0, 1, 1, 0, 0, 1, 1, 0, 0],\n",
       " [1, 0, 1, 1, 0, 0, 1, 1, 0, 1],\n",
       " [1, 0, 1, 1, 0, 0, 1, 1, 1, 0],\n",
       " [1, 0, 1, 1, 0, 0, 1, 1, 1, 1],\n",
       " [1, 0, 1, 1, 0, 1, 0, 0, 0, 0],\n",
       " [1, 0, 1, 1, 0, 1, 0, 0, 0, 1],\n",
       " [1, 0, 1, 1, 0, 1, 0, 0, 1, 0],\n",
       " [1, 0, 1, 1, 0, 1, 0, 0, 1, 1],\n",
       " [1, 0, 1, 1, 0, 1, 0, 1, 0, 0],\n",
       " [1, 0, 1, 1, 0, 1, 0, 1, 0, 1],\n",
       " [1, 0, 1, 1, 0, 1, 0, 1, 1, 0],\n",
       " [1, 0, 1, 1, 0, 1, 0, 1, 1, 1],\n",
       " [1, 0, 1, 1, 0, 1, 1, 0, 0, 0],\n",
       " [1, 0, 1, 1, 0, 1, 1, 0, 0, 1],\n",
       " [1, 0, 1, 1, 0, 1, 1, 0, 1, 0],\n",
       " [1, 0, 1, 1, 0, 1, 1, 0, 1, 1],\n",
       " [1, 0, 1, 1, 0, 1, 1, 1, 0, 0],\n",
       " [1, 0, 1, 1, 0, 1, 1, 1, 0, 1],\n",
       " [1, 0, 1, 1, 0, 1, 1, 1, 1, 0],\n",
       " [1, 0, 1, 1, 0, 1, 1, 1, 1, 1],\n",
       " [1, 0, 1, 1, 1, 0, 0, 0, 0, 0],\n",
       " [1, 0, 1, 1, 1, 0, 0, 0, 0, 1],\n",
       " [1, 0, 1, 1, 1, 0, 0, 0, 1, 0],\n",
       " [1, 0, 1, 1, 1, 0, 0, 0, 1, 1],\n",
       " [1, 0, 1, 1, 1, 0, 0, 1, 0, 0],\n",
       " [1, 0, 1, 1, 1, 0, 0, 1, 0, 1],\n",
       " [1, 0, 1, 1, 1, 0, 0, 1, 1, 0],\n",
       " [1, 0, 1, 1, 1, 0, 0, 1, 1, 1],\n",
       " [1, 0, 1, 1, 1, 0, 1, 0, 0, 0],\n",
       " [1, 0, 1, 1, 1, 0, 1, 0, 0, 1],\n",
       " [1, 0, 1, 1, 1, 0, 1, 0, 1, 0],\n",
       " [1, 0, 1, 1, 1, 0, 1, 0, 1, 1],\n",
       " [1, 0, 1, 1, 1, 0, 1, 1, 0, 0],\n",
       " [1, 0, 1, 1, 1, 0, 1, 1, 0, 1],\n",
       " [1, 0, 1, 1, 1, 0, 1, 1, 1, 0],\n",
       " [1, 0, 1, 1, 1, 0, 1, 1, 1, 1],\n",
       " [1, 0, 1, 1, 1, 1, 0, 0, 0, 0],\n",
       " [1, 0, 1, 1, 1, 1, 0, 0, 0, 1],\n",
       " [1, 0, 1, 1, 1, 1, 0, 0, 1, 0],\n",
       " [1, 0, 1, 1, 1, 1, 0, 0, 1, 1],\n",
       " [1, 0, 1, 1, 1, 1, 0, 1, 0, 0],\n",
       " [1, 0, 1, 1, 1, 1, 0, 1, 0, 1],\n",
       " [1, 0, 1, 1, 1, 1, 0, 1, 1, 0],\n",
       " [1, 0, 1, 1, 1, 1, 0, 1, 1, 1],\n",
       " [1, 0, 1, 1, 1, 1, 1, 0, 0, 0],\n",
       " [1, 0, 1, 1, 1, 1, 1, 0, 0, 1],\n",
       " [1, 0, 1, 1, 1, 1, 1, 0, 1, 0],\n",
       " [1, 0, 1, 1, 1, 1, 1, 0, 1, 1],\n",
       " [1, 0, 1, 1, 1, 1, 1, 1, 0, 0],\n",
       " [1, 0, 1, 1, 1, 1, 1, 1, 0, 1],\n",
       " [1, 0, 1, 1, 1, 1, 1, 1, 1, 0],\n",
       " [1, 0, 1, 1, 1, 1, 1, 1, 1, 1],\n",
       " [1, 1, 0, 0, 0, 0, 0, 0, 0, 0],\n",
       " [1, 1, 0, 0, 0, 0, 0, 0, 0, 1],\n",
       " [1, 1, 0, 0, 0, 0, 0, 0, 1, 0],\n",
       " [1, 1, 0, 0, 0, 0, 0, 0, 1, 1],\n",
       " [1, 1, 0, 0, 0, 0, 0, 1, 0, 0],\n",
       " [1, 1, 0, 0, 0, 0, 0, 1, 0, 1],\n",
       " [1, 1, 0, 0, 0, 0, 0, 1, 1, 0],\n",
       " [1, 1, 0, 0, 0, 0, 0, 1, 1, 1],\n",
       " [1, 1, 0, 0, 0, 0, 1, 0, 0, 0],\n",
       " [1, 1, 0, 0, 0, 0, 1, 0, 0, 1],\n",
       " [1, 1, 0, 0, 0, 0, 1, 0, 1, 0],\n",
       " [1, 1, 0, 0, 0, 0, 1, 0, 1, 1],\n",
       " [1, 1, 0, 0, 0, 0, 1, 1, 0, 0],\n",
       " [1, 1, 0, 0, 0, 0, 1, 1, 0, 1],\n",
       " [1, 1, 0, 0, 0, 0, 1, 1, 1, 0],\n",
       " [1, 1, 0, 0, 0, 0, 1, 1, 1, 1],\n",
       " [1, 1, 0, 0, 0, 1, 0, 0, 0, 0],\n",
       " [1, 1, 0, 0, 0, 1, 0, 0, 0, 1],\n",
       " [1, 1, 0, 0, 0, 1, 0, 0, 1, 0],\n",
       " [1, 1, 0, 0, 0, 1, 0, 0, 1, 1],\n",
       " [1, 1, 0, 0, 0, 1, 0, 1, 0, 0],\n",
       " [1, 1, 0, 0, 0, 1, 0, 1, 0, 1],\n",
       " [1, 1, 0, 0, 0, 1, 0, 1, 1, 0],\n",
       " [1, 1, 0, 0, 0, 1, 0, 1, 1, 1],\n",
       " [1, 1, 0, 0, 0, 1, 1, 0, 0, 0],\n",
       " [1, 1, 0, 0, 0, 1, 1, 0, 0, 1],\n",
       " [1, 1, 0, 0, 0, 1, 1, 0, 1, 0],\n",
       " [1, 1, 0, 0, 0, 1, 1, 0, 1, 1],\n",
       " [1, 1, 0, 0, 0, 1, 1, 1, 0, 0],\n",
       " [1, 1, 0, 0, 0, 1, 1, 1, 0, 1],\n",
       " [1, 1, 0, 0, 0, 1, 1, 1, 1, 0],\n",
       " [1, 1, 0, 0, 0, 1, 1, 1, 1, 1],\n",
       " [1, 1, 0, 0, 1, 0, 0, 0, 0, 0],\n",
       " [1, 1, 0, 0, 1, 0, 0, 0, 0, 1],\n",
       " [1, 1, 0, 0, 1, 0, 0, 0, 1, 0],\n",
       " [1, 1, 0, 0, 1, 0, 0, 0, 1, 1],\n",
       " [1, 1, 0, 0, 1, 0, 0, 1, 0, 0],\n",
       " [1, 1, 0, 0, 1, 0, 0, 1, 0, 1],\n",
       " [1, 1, 0, 0, 1, 0, 0, 1, 1, 0],\n",
       " [1, 1, 0, 0, 1, 0, 0, 1, 1, 1],\n",
       " [1, 1, 0, 0, 1, 0, 1, 0, 0, 0],\n",
       " [1, 1, 0, 0, 1, 0, 1, 0, 0, 1],\n",
       " [1, 1, 0, 0, 1, 0, 1, 0, 1, 0],\n",
       " [1, 1, 0, 0, 1, 0, 1, 0, 1, 1],\n",
       " [1, 1, 0, 0, 1, 0, 1, 1, 0, 0],\n",
       " [1, 1, 0, 0, 1, 0, 1, 1, 0, 1],\n",
       " [1, 1, 0, 0, 1, 0, 1, 1, 1, 0],\n",
       " [1, 1, 0, 0, 1, 0, 1, 1, 1, 1],\n",
       " [1, 1, 0, 0, 1, 1, 0, 0, 0, 0],\n",
       " [1, 1, 0, 0, 1, 1, 0, 0, 0, 1],\n",
       " [1, 1, 0, 0, 1, 1, 0, 0, 1, 0],\n",
       " [1, 1, 0, 0, 1, 1, 0, 0, 1, 1],\n",
       " [1, 1, 0, 0, 1, 1, 0, 1, 0, 0],\n",
       " [1, 1, 0, 0, 1, 1, 0, 1, 0, 1],\n",
       " [1, 1, 0, 0, 1, 1, 0, 1, 1, 0],\n",
       " [1, 1, 0, 0, 1, 1, 0, 1, 1, 1],\n",
       " [1, 1, 0, 0, 1, 1, 1, 0, 0, 0],\n",
       " [1, 1, 0, 0, 1, 1, 1, 0, 0, 1],\n",
       " [1, 1, 0, 0, 1, 1, 1, 0, 1, 0],\n",
       " [1, 1, 0, 0, 1, 1, 1, 0, 1, 1],\n",
       " [1, 1, 0, 0, 1, 1, 1, 1, 0, 0],\n",
       " [1, 1, 0, 0, 1, 1, 1, 1, 0, 1],\n",
       " [1, 1, 0, 0, 1, 1, 1, 1, 1, 0],\n",
       " [1, 1, 0, 0, 1, 1, 1, 1, 1, 1],\n",
       " [1, 1, 0, 1, 0, 0, 0, 0, 0, 0],\n",
       " [1, 1, 0, 1, 0, 0, 0, 0, 0, 1],\n",
       " [1, 1, 0, 1, 0, 0, 0, 0, 1, 0],\n",
       " [1, 1, 0, 1, 0, 0, 0, 0, 1, 1],\n",
       " [1, 1, 0, 1, 0, 0, 0, 1, 0, 0],\n",
       " [1, 1, 0, 1, 0, 0, 0, 1, 0, 1],\n",
       " [1, 1, 0, 1, 0, 0, 0, 1, 1, 0],\n",
       " [1, 1, 0, 1, 0, 0, 0, 1, 1, 1],\n",
       " [1, 1, 0, 1, 0, 0, 1, 0, 0, 0],\n",
       " [1, 1, 0, 1, 0, 0, 1, 0, 0, 1],\n",
       " [1, 1, 0, 1, 0, 0, 1, 0, 1, 0],\n",
       " [1, 1, 0, 1, 0, 0, 1, 0, 1, 1],\n",
       " [1, 1, 0, 1, 0, 0, 1, 1, 0, 0],\n",
       " [1, 1, 0, 1, 0, 0, 1, 1, 0, 1],\n",
       " [1, 1, 0, 1, 0, 0, 1, 1, 1, 0],\n",
       " [1, 1, 0, 1, 0, 0, 1, 1, 1, 1],\n",
       " [1, 1, 0, 1, 0, 1, 0, 0, 0, 0],\n",
       " [1, 1, 0, 1, 0, 1, 0, 0, 0, 1],\n",
       " [1, 1, 0, 1, 0, 1, 0, 0, 1, 0],\n",
       " [1, 1, 0, 1, 0, 1, 0, 0, 1, 1],\n",
       " [1, 1, 0, 1, 0, 1, 0, 1, 0, 0],\n",
       " [1, 1, 0, 1, 0, 1, 0, 1, 0, 1],\n",
       " [1, 1, 0, 1, 0, 1, 0, 1, 1, 0],\n",
       " [1, 1, 0, 1, 0, 1, 0, 1, 1, 1],\n",
       " [1, 1, 0, 1, 0, 1, 1, 0, 0, 0],\n",
       " [1, 1, 0, 1, 0, 1, 1, 0, 0, 1],\n",
       " [1, 1, 0, 1, 0, 1, 1, 0, 1, 0],\n",
       " [1, 1, 0, 1, 0, 1, 1, 0, 1, 1],\n",
       " [1, 1, 0, 1, 0, 1, 1, 1, 0, 0],\n",
       " [1, 1, 0, 1, 0, 1, 1, 1, 0, 1],\n",
       " [1, 1, 0, 1, 0, 1, 1, 1, 1, 0],\n",
       " [1, 1, 0, 1, 0, 1, 1, 1, 1, 1],\n",
       " [1, 1, 0, 1, 1, 0, 0, 0, 0, 0],\n",
       " [1, 1, 0, 1, 1, 0, 0, 0, 0, 1],\n",
       " [1, 1, 0, 1, 1, 0, 0, 0, 1, 0],\n",
       " [1, 1, 0, 1, 1, 0, 0, 0, 1, 1],\n",
       " [1, 1, 0, 1, 1, 0, 0, 1, 0, 0],\n",
       " [1, 1, 0, 1, 1, 0, 0, 1, 0, 1],\n",
       " [1, 1, 0, 1, 1, 0, 0, 1, 1, 0],\n",
       " [1, 1, 0, 1, 1, 0, 0, 1, 1, 1],\n",
       " [1, 1, 0, 1, 1, 0, 1, 0, 0, 0],\n",
       " [1, 1, 0, 1, 1, 0, 1, 0, 0, 1],\n",
       " [1, 1, 0, 1, 1, 0, 1, 0, 1, 0],\n",
       " [1, 1, 0, 1, 1, 0, 1, 0, 1, 1],\n",
       " [1, 1, 0, 1, 1, 0, 1, 1, 0, 0],\n",
       " [1, 1, 0, 1, 1, 0, 1, 1, 0, 1],\n",
       " [1, 1, 0, 1, 1, 0, 1, 1, 1, 0],\n",
       " [1, 1, 0, 1, 1, 0, 1, 1, 1, 1],\n",
       " [1, 1, 0, 1, 1, 1, 0, 0, 0, 0],\n",
       " [1, 1, 0, 1, 1, 1, 0, 0, 0, 1],\n",
       " [1, 1, 0, 1, 1, 1, 0, 0, 1, 0],\n",
       " [1, 1, 0, 1, 1, 1, 0, 0, 1, 1],\n",
       " [1, 1, 0, 1, 1, 1, 0, 1, 0, 0],\n",
       " [1, 1, 0, 1, 1, 1, 0, 1, 0, 1],\n",
       " [1, 1, 0, 1, 1, 1, 0, 1, 1, 0],\n",
       " [1, 1, 0, 1, 1, 1, 0, 1, 1, 1],\n",
       " [1, 1, 0, 1, 1, 1, 1, 0, 0, 0],\n",
       " [1, 1, 0, 1, 1, 1, 1, 0, 0, 1],\n",
       " [1, 1, 0, 1, 1, 1, 1, 0, 1, 0],\n",
       " [1, 1, 0, 1, 1, 1, 1, 0, 1, 1],\n",
       " [1, 1, 0, 1, 1, 1, 1, 1, 0, 0],\n",
       " [1, 1, 0, 1, 1, 1, 1, 1, 0, 1],\n",
       " [1, 1, 0, 1, 1, 1, 1, 1, 1, 0],\n",
       " [1, 1, 0, 1, 1, 1, 1, 1, 1, 1],\n",
       " [1, 1, 1, 0, 0, 0, 0, 0, 0, 0],\n",
       " [1, 1, 1, 0, 0, 0, 0, 0, 0, 1],\n",
       " [1, 1, 1, 0, 0, 0, 0, 0, 1, 0],\n",
       " [1, 1, 1, 0, 0, 0, 0, 0, 1, 1],\n",
       " [1, 1, 1, 0, 0, 0, 0, 1, 0, 0],\n",
       " [1, 1, 1, 0, 0, 0, 0, 1, 0, 1],\n",
       " [1, 1, 1, 0, 0, 0, 0, 1, 1, 0],\n",
       " [1, 1, 1, 0, 0, 0, 0, 1, 1, 1],\n",
       " [1, 1, 1, 0, 0, 0, 1, 0, 0, 0],\n",
       " [1, 1, 1, 0, 0, 0, 1, 0, 0, 1],\n",
       " [1, 1, 1, 0, 0, 0, 1, 0, 1, 0],\n",
       " [1, 1, 1, 0, 0, 0, 1, 0, 1, 1],\n",
       " [1, 1, 1, 0, 0, 0, 1, 1, 0, 0],\n",
       " [1, 1, 1, 0, 0, 0, 1, 1, 0, 1],\n",
       " [1, 1, 1, 0, 0, 0, 1, 1, 1, 0],\n",
       " [1, 1, 1, 0, 0, 0, 1, 1, 1, 1],\n",
       " [1, 1, 1, 0, 0, 1, 0, 0, 0, 0],\n",
       " [1, 1, 1, 0, 0, 1, 0, 0, 0, 1],\n",
       " [1, 1, 1, 0, 0, 1, 0, 0, 1, 0],\n",
       " [1, 1, 1, 0, 0, 1, 0, 0, 1, 1],\n",
       " [1, 1, 1, 0, 0, 1, 0, 1, 0, 0],\n",
       " [1, 1, 1, 0, 0, 1, 0, 1, 0, 1],\n",
       " [1, 1, 1, 0, 0, 1, 0, 1, 1, 0],\n",
       " [1, 1, 1, 0, 0, 1, 0, 1, 1, 1],\n",
       " [1, 1, 1, 0, 0, 1, 1, 0, 0, 0],\n",
       " [1, 1, 1, 0, 0, 1, 1, 0, 0, 1],\n",
       " [1, 1, 1, 0, 0, 1, 1, 0, 1, 0],\n",
       " [1, 1, 1, 0, 0, 1, 1, 0, 1, 1],\n",
       " [1, 1, 1, 0, 0, 1, 1, 1, 0, 0],\n",
       " [1, 1, 1, 0, 0, 1, 1, 1, 0, 1],\n",
       " [1, 1, 1, 0, 0, 1, 1, 1, 1, 0],\n",
       " [1, 1, 1, 0, 0, 1, 1, 1, 1, 1],\n",
       " [1, 1, 1, 0, 1, 0, 0, 0, 0, 0],\n",
       " [1, 1, 1, 0, 1, 0, 0, 0, 0, 1],\n",
       " [1, 1, 1, 0, 1, 0, 0, 0, 1, 0],\n",
       " [1, 1, 1, 0, 1, 0, 0, 0, 1, 1],\n",
       " [1, 1, 1, 0, 1, 0, 0, 1, 0, 0],\n",
       " [1, 1, 1, 0, 1, 0, 0, 1, 0, 1],\n",
       " [1, 1, 1, 0, 1, 0, 0, 1, 1, 0],\n",
       " [1, 1, 1, 0, 1, 0, 0, 1, 1, 1],\n",
       " [1, 1, 1, 0, 1, 0, 1, 0, 0, 0],\n",
       " [1, 1, 1, 0, 1, 0, 1, 0, 0, 1],\n",
       " [1, 1, 1, 0, 1, 0, 1, 0, 1, 0],\n",
       " [1, 1, 1, 0, 1, 0, 1, 0, 1, 1],\n",
       " [1, 1, 1, 0, 1, 0, 1, 1, 0, 0],\n",
       " [1, 1, 1, 0, 1, 0, 1, 1, 0, 1],\n",
       " [1, 1, 1, 0, 1, 0, 1, 1, 1, 0],\n",
       " [1, 1, 1, 0, 1, 0, 1, 1, 1, 1],\n",
       " [1, 1, 1, 0, 1, 1, 0, 0, 0, 0],\n",
       " [1, 1, 1, 0, 1, 1, 0, 0, 0, 1],\n",
       " [1, 1, 1, 0, 1, 1, 0, 0, 1, 0],\n",
       " [1, 1, 1, 0, 1, 1, 0, 0, 1, 1],\n",
       " [1, 1, 1, 0, 1, 1, 0, 1, 0, 0],\n",
       " [1, 1, 1, 0, 1, 1, 0, 1, 0, 1],\n",
       " [1, 1, 1, 0, 1, 1, 0, 1, 1, 0],\n",
       " [1, 1, 1, 0, 1, 1, 0, 1, 1, 1],\n",
       " [1, 1, 1, 0, 1, 1, 1, 0, 0, 0],\n",
       " [1, 1, 1, 0, 1, 1, 1, 0, 0, 1],\n",
       " [1, 1, 1, 0, 1, 1, 1, 0, 1, 0],\n",
       " [1, 1, 1, 0, 1, 1, 1, 0, 1, 1],\n",
       " [1, 1, 1, 0, 1, 1, 1, 1, 0, 0],\n",
       " [1, 1, 1, 0, 1, 1, 1, 1, 0, 1],\n",
       " [1, 1, 1, 0, 1, 1, 1, 1, 1, 0],\n",
       " [1, 1, 1, 0, 1, 1, 1, 1, 1, 1],\n",
       " [1, 1, 1, 1, 0, 0, 0, 0, 0, 0],\n",
       " [1, 1, 1, 1, 0, 0, 0, 0, 0, 1],\n",
       " [1, 1, 1, 1, 0, 0, 0, 0, 1, 0],\n",
       " [1, 1, 1, 1, 0, 0, 0, 0, 1, 1],\n",
       " [1, 1, 1, 1, 0, 0, 0, 1, 0, 0],\n",
       " [1, 1, 1, 1, 0, 0, 0, 1, 0, 1],\n",
       " [1, 1, 1, 1, 0, 0, 0, 1, 1, 0],\n",
       " [1, 1, 1, 1, 0, 0, 0, 1, 1, 1],\n",
       " [1, 1, 1, 1, 0, 0, 1, 0, 0, 0],\n",
       " [1, 1, 1, 1, 0, 0, 1, 0, 0, 1],\n",
       " [1, 1, 1, 1, 0, 0, 1, 0, 1, 0],\n",
       " [1, 1, 1, 1, 0, 0, 1, 0, 1, 1],\n",
       " [1, 1, 1, 1, 0, 0, 1, 1, 0, 0],\n",
       " [1, 1, 1, 1, 0, 0, 1, 1, 0, 1],\n",
       " [1, 1, 1, 1, 0, 0, 1, 1, 1, 0],\n",
       " [1, 1, 1, 1, 0, 0, 1, 1, 1, 1],\n",
       " [1, 1, 1, 1, 0, 1, 0, 0, 0, 0],\n",
       " [1, 1, 1, 1, 0, 1, 0, 0, 0, 1],\n",
       " [1, 1, 1, 1, 0, 1, 0, 0, 1, 0],\n",
       " [1, 1, 1, 1, 0, 1, 0, 0, 1, 1],\n",
       " [1, 1, 1, 1, 0, 1, 0, 1, 0, 0],\n",
       " [1, 1, 1, 1, 0, 1, 0, 1, 0, 1],\n",
       " [1, 1, 1, 1, 0, 1, 0, 1, 1, 0],\n",
       " [1, 1, 1, 1, 0, 1, 0, 1, 1, 1],\n",
       " [1, 1, 1, 1, 0, 1, 1, 0, 0, 0],\n",
       " [1, 1, 1, 1, 0, 1, 1, 0, 0, 1],\n",
       " [1, 1, 1, 1, 0, 1, 1, 0, 1, 0],\n",
       " [1, 1, 1, 1, 0, 1, 1, 0, 1, 1],\n",
       " [1, 1, 1, 1, 0, 1, 1, 1, 0, 0],\n",
       " [1, 1, 1, 1, 0, 1, 1, 1, 0, 1],\n",
       " [1, 1, 1, 1, 0, 1, 1, 1, 1, 0],\n",
       " [1, 1, 1, 1, 0, 1, 1, 1, 1, 1],\n",
       " [1, 1, 1, 1, 1, 0, 0, 0, 0, 0],\n",
       " [1, 1, 1, 1, 1, 0, 0, 0, 0, 1],\n",
       " [1, 1, 1, 1, 1, 0, 0, 0, 1, 0],\n",
       " [1, 1, 1, 1, 1, 0, 0, 0, 1, 1],\n",
       " [1, 1, 1, 1, 1, 0, 0, 1, 0, 0],\n",
       " [1, 1, 1, 1, 1, 0, 0, 1, 0, 1],\n",
       " [1, 1, 1, 1, 1, 0, 0, 1, 1, 0],\n",
       " [1, 1, 1, 1, 1, 0, 0, 1, 1, 1],\n",
       " ...]"
      ]
     },
     "execution_count": 150,
     "metadata": {},
     "output_type": "execute_result"
    }
   ],
   "source": [
    "# Solution goes here\n",
    "import itertools\n",
    "#n = 5\n",
    "#lst = list(map(list, itertools.product([0, 1], repeat=n)))\n",
    "strings = enumerate_string(10)\n",
    "strings"
   ]
  },
  {
   "cell_type": "code",
   "execution_count": 42,
   "metadata": {},
   "outputs": [],
   "source": [
    "# Solution goes here\n",
    "\n",
    "# I found large spaceships of 4 cells wide that travel straight down\n",
    "#When the spaceships collide, several things can happen, they can kill both spaceships,\n",
    "#re-direct the spaceships, or form a larger spaceship"
   ]
  },
  {
   "cell_type": "code",
   "execution_count": 43,
   "metadata": {},
   "outputs": [],
   "source": [
    "# Solution goes here"
   ]
  },
  {
   "cell_type": "code",
   "execution_count": 44,
   "metadata": {},
   "outputs": [],
   "source": [
    "# Solution goes here"
   ]
  },
  {
   "cell_type": "code",
   "execution_count": 45,
   "metadata": {},
   "outputs": [],
   "source": [
    "# Solution goes here"
   ]
  },
  {
   "cell_type": "markdown",
   "metadata": {},
   "source": [
    "**Exercise:** The goal of this exercise is to implement a Turing machine.\n",
    "\n",
    "1. Read about Turing machines at http://en.wikipedia.org/wiki/Turing_machine.\n",
    "\n",
    "2. Write a class called `Turing` that implements a Turing machine.  For the action table, use the rules for a 3-state busy beaver.\n",
    "\n",
    "3. Write a `draw` method that plots the state of the tape and the position and state of the head.  For one example of what that might look like, see http://mathworld.wolfram.com/TuringMachine.html."
   ]
  },
  {
   "cell_type": "code",
   "execution_count": 46,
   "metadata": {},
   "outputs": [],
   "source": [
    "# Solution goes here"
   ]
  },
  {
   "cell_type": "code",
   "execution_count": 47,
   "metadata": {},
   "outputs": [],
   "source": [
    "# Solution goes here"
   ]
  },
  {
   "cell_type": "code",
   "execution_count": 48,
   "metadata": {},
   "outputs": [],
   "source": [
    "# Solution goes here"
   ]
  },
  {
   "cell_type": "code",
   "execution_count": 49,
   "metadata": {},
   "outputs": [],
   "source": [
    "# Solution goes here"
   ]
  },
  {
   "cell_type": "markdown",
   "metadata": {},
   "source": [
    "**Exercise:** This exercise asks you to implement and test several PRNGs.\n",
    "For testing, you will need to install \n",
    "`DieHarder`, which you can download from \n",
    "https://www.phy.duke.edu/~rgb/General/dieharder.php, or it\n",
    "might be available as a package for your operating system.\n",
    "\n",
    "1. Write a program that implements one of the linear congruential\n",
    "generators described at http://en.wikipedia.org/wiki/Linear_congruential_generator}.\n",
    "Test it using `DieHarder`.\n",
    "\n",
    "2. Read the documentation of Python's `random` module.\n",
    "What PRNG does it use?  Test it.\n",
    "\n",
    "3. Implement a Rule 30 CA with a few hundred cells,\n",
    "run it for as many time steps as you can in a reasonable amount\n",
    "of time, and output the center column as a sequence of bits.\n",
    "Test it.\n"
   ]
  },
  {
   "cell_type": "code",
   "execution_count": 50,
   "metadata": {},
   "outputs": [],
   "source": [
    "# Solution goes here"
   ]
  },
  {
   "cell_type": "code",
   "execution_count": 51,
   "metadata": {},
   "outputs": [],
   "source": [
    "# Solution goes here"
   ]
  },
  {
   "cell_type": "code",
   "execution_count": 52,
   "metadata": {},
   "outputs": [],
   "source": [
    "# Solution goes here"
   ]
  },
  {
   "cell_type": "code",
   "execution_count": null,
   "metadata": {},
   "outputs": [],
   "source": []
  },
  {
   "cell_type": "code",
   "execution_count": null,
   "metadata": {},
   "outputs": [],
   "source": []
  }
 ],
 "metadata": {
  "kernelspec": {
   "display_name": "Python 3",
   "language": "python",
   "name": "python3"
  },
  "language_info": {
   "codemirror_mode": {
    "name": "ipython",
    "version": 3
   },
   "file_extension": ".py",
   "mimetype": "text/x-python",
   "name": "python",
   "nbconvert_exporter": "python",
   "pygments_lexer": "ipython3",
   "version": "3.7.4"
  }
 },
 "nbformat": 4,
 "nbformat_minor": 1
}
