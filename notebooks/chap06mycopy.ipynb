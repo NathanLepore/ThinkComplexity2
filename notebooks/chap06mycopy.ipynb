{
 "cells": [
  {
   "cell_type": "markdown",
   "metadata": {},
   "source": [
    "# Game of Life\n",
    "\n",
    "Code examples from [Think Complexity, 2nd edition](https://thinkcomplex.com).\n",
    "\n",
    "Copyright 2016 Allen Downey, [MIT License](http://opensource.org/licenses/MIT)"
   ]
  },
  {
   "cell_type": "code",
   "execution_count": 1,
   "metadata": {},
   "outputs": [],
   "source": [
    "%matplotlib inline\n",
    "\n",
    "import matplotlib.pyplot as plt\n",
    "import numpy as np\n",
    "import seaborn as sns\n",
    "\n",
    "from utils import savefig"
   ]
  },
  {
   "cell_type": "markdown",
   "metadata": {},
   "source": [
    "## Game of Life entities\n",
    "\n"
   ]
  },
  {
   "cell_type": "code",
   "execution_count": 2,
   "metadata": {},
   "outputs": [],
   "source": [
    "from scipy.signal import correlate2d\n",
    "from Cell2D import Cell2D\n",
    "\n",
    "class Life(Cell2D):\n",
    "    \"\"\"Implementation of Conway's Game of Life.\"\"\"\n",
    "    kernel = np.array([[1, 1, 1],\n",
    "                       [1,10, 1],\n",
    "                       [1, 1, 1]])\n",
    "\n",
    "    table = np.zeros(20, dtype=np.uint8)\n",
    "    table[[3, 12, 13]] = 1\n",
    "\n",
    "    def step(self):\n",
    "        \"\"\"Executes one time step.\"\"\"\n",
    "        c = correlate2d(self.array, self.kernel, mode='same')\n",
    "        self.array = self.table[c]"
   ]
  },
  {
   "cell_type": "markdown",
   "metadata": {},
   "source": [
    "The following function creates a `Life` object and sets the initial condition using strings of `0` and `1` characters."
   ]
  },
  {
   "cell_type": "code",
   "execution_count": 3,
   "metadata": {},
   "outputs": [],
   "source": [
    "def make_life(n, m, row, col, *strings):\n",
    "    \"\"\"Makes a Life object.\n",
    "    \n",
    "    n, m: rows and columns of the Life array\n",
    "    row, col: upper left coordinate of the cells to be added\n",
    "    strings: list of strings of '0' and '1'\n",
    "    \"\"\"\n",
    "    life = Life(n, m)\n",
    "    life.add_cells(row, col, *strings)\n",
    "    return life"
   ]
  },
  {
   "cell_type": "markdown",
   "metadata": {},
   "source": [
    "A beehive is a stable entity, also called a \"still life\""
   ]
  },
  {
   "cell_type": "code",
   "execution_count": 4,
   "metadata": {},
   "outputs": [
    {
     "name": "stdout",
     "output_type": "stream",
     "text": [
      "Saving figure to file figs/chap06-1\n"
     ]
    },
    {
     "data": {
      "image/png": "[encoded data removed]",
      "text/plain": [
       "<Figure size 432x288 with 1 Axes>"
      ]
     },
     "metadata": {},
     "output_type": "display_data"
    }
   ],
   "source": [
    "# beehive\n",
    "life = make_life(3, 4, 0, 0, '0110', '1001', '0110')\n",
    "life.draw()\n",
    "savefig('figs/chap06-1')"
   ]
  },
  {
   "cell_type": "markdown",
   "metadata": {},
   "source": [
    "Here's what it looks like after one step:"
   ]
  },
  {
   "cell_type": "code",
   "execution_count": 5,
   "metadata": {},
   "outputs": [
    {
     "data": {
      "image/png": "[encoded data removed]",
      "text/plain": [
       "<Figure size 432x288 with 1 Axes>"
      ]
     },
     "metadata": {},
     "output_type": "display_data"
    }
   ],
   "source": [
    "life.step()\n",
    "life.draw()"
   ]
  },
  {
   "cell_type": "markdown",
   "metadata": {},
   "source": [
    "A toad is an oscillator with period 2.  Here's are its two configurations:"
   ]
  },
  {
   "cell_type": "code",
   "execution_count": 6,
   "metadata": {},
   "outputs": [
    {
     "name": "stdout",
     "output_type": "stream",
     "text": [
      "Saving figure to file figs/chap06-2\n"
     ]
    },
    {
     "data": {
      "image/png": "[encoded data removed]",
      "text/plain": [
       "<Figure size 720x360 with 2 Axes>"
      ]
     },
     "metadata": {},
     "output_type": "display_data"
    }
   ],
   "source": [
    "# toad\n",
    "plt.figure(figsize=(10, 5))\n",
    "plt.subplot(1, 2, 1)\n",
    "life = make_life(4, 4, 1, 0, '0111', '1110')\n",
    "life.draw()\n",
    "\n",
    "plt.subplot(1, 2, 2)\n",
    "life.step()\n",
    "life.draw()\n",
    "\n",
    "savefig('figs/chap06-2')"
   ]
  },
  {
   "cell_type": "markdown",
   "metadata": {},
   "source": [
    "Here's what the toad looks like as an animation."
   ]
  },
  {
   "cell_type": "code",
   "execution_count": 7,
   "metadata": {},
   "outputs": [
    {
     "data": {
      "image/png": "[encoded data removed]",
      "text/plain": [
       "<Figure size 432x288 with 1 Axes>"
      ]
     },
     "metadata": {},
     "output_type": "display_data"
    }
   ],
   "source": [
    "life = make_life(4, 4, 1, 0, '0111', '1110')\n",
    "life.animate(10, 0.5)"
   ]
  },
  {
   "cell_type": "markdown",
   "metadata": {},
   "source": [
    "A glider is a spaceship that translates one unit down and to the right with period 4. "
   ]
  },
  {
   "cell_type": "code",
   "execution_count": 8,
   "metadata": {},
   "outputs": [
    {
     "name": "stdout",
     "output_type": "stream",
     "text": [
      "Saving figure to file figs/chap06-3\n"
     ]
    },
    {
     "data": {
      "image/png": "[encoded data removed]",
      "text/plain": [
       "<Figure size 864x288 with 5 Axes>"
      ]
     },
     "metadata": {},
     "output_type": "display_data"
    }
   ],
   "source": [
    "# glider\n",
    "plt.figure(figsize=(12, 4))\n",
    "\n",
    "glider = ['010', '001', '111']\n",
    "life = make_life(4, 4, 0, 0, *glider)\n",
    "\n",
    "for i in range(1, 6):\n",
    "    plt.subplot(1, 5, i)\n",
    "    life.draw()\n",
    "    life.step()\n",
    "    \n",
    "savefig('figs/chap06-3')"
   ]
  },
  {
   "cell_type": "markdown",
   "metadata": {},
   "source": [
    "Here's an animation showing glider movement."
   ]
  },
  {
   "cell_type": "code",
   "execution_count": 9,
   "metadata": {},
   "outputs": [
    {
     "data": {
      "image/png": "[encoded data removed]",
      "text/plain": [
       "<Figure size 432x288 with 1 Axes>"
      ]
     },
     "metadata": {},
     "output_type": "display_data"
    }
   ],
   "source": [
    "life = make_life(10, 10, 0, 0, '010', '001', '111')\n",
    "life.animate(frames=28, interval=0.2)"
   ]
  },
  {
   "cell_type": "markdown",
   "metadata": {},
   "source": [
    "**Exercise:** If you start GoL from a random configuration, it usually runs chaotically for a while and then settles into stable patterns that include blinkers, blocks, and beehives, ships, boats, and loaves.\n",
    "\n",
    "For a list of common \"natually\" occurring patterns, see Achim Flammenkamp, \"[Most seen natural occurring ash objects in Game of Life](http://wwwhomes.uni-bielefeld.de/achim/freq_top_life.html)\",\n",
    "\n",
    "Start GoL in a random state and run it until it stabilizes (try 1000 steps).\n",
    "What stable patterns can you identify?\n",
    "\n",
    "Hint: use `np.random.randint`."
   ]
  },
  {
   "cell_type": "code",
   "execution_count": 19,
   "metadata": {},
   "outputs": [
    {
     "data": {
      "image/png": "[encoded data removed]",
      "text/plain": [
       "<Figure size 432x288 with 1 Axes>"
      ]
     },
     "metadata": {},
     "output_type": "display_data"
    }
   ],
   "source": [
    "# Solution goes here\n",
    "l_cond = 10\n",
    "w_cond = 10\n",
    "l_array = 30\n",
    "w_array = 30\n",
    "init = np.random.randint(2,size=(l_cond,w_cond))\n",
    "life = make_life(l_array, w_array, (l_array-l_cond)//2, (w_array-w_cond)//2, *init)\n",
    "life.animate(frames=100, interval=0.2)"
   ]
  },
  {
   "cell_type": "markdown",
   "metadata": {},
   "source": [
    "### Methuselas\n",
    "\n",
    "Most initial conditions run for a short time and reach a steady state.  But some initial conditional run for a surprisingly long time; they are called [Methuselahs](https://en.wikipedia.org/wiki/Methuselah_(cellular_automaton)).\n",
    "\n",
    "The r-pentomino starts with only five live cells, but it runs for 1103 steps before stabilizing."
   ]
  },
  {
   "cell_type": "code",
   "execution_count": 11,
   "metadata": {},
   "outputs": [],
   "source": [
    "# r pentomino\n",
    "rpent = ['011', '110', '010']\n",
    "life = make_life(3, 3, 0, 0, *rpent)\n",
    "life.draw()"
   ]
  },
  {
   "cell_type": "markdown",
   "metadata": {},
   "source": [
    "Here are the start and finish configurations."
   ]
  },
  {
   "cell_type": "code",
   "execution_count": 12,
   "metadata": {},
   "outputs": [],
   "source": [
    "# r pentomino\n",
    "plt.figure(figsize=(10, 5))\n",
    "plt.subplot(1, 2, 1)\n",
    "life = make_life(120, 120, 50, 45, *rpent)\n",
    "life.draw()\n",
    "\n",
    "for i in range(1103):\n",
    "    life.step()\n",
    "\n",
    "plt.subplot(1, 2, 2)\n",
    "life.draw()\n",
    "\n",
    "savefig('figs/chap06-4')"
   ]
  },
  {
   "cell_type": "markdown",
   "metadata": {},
   "source": [
    "And here's the animation that shows the steps."
   ]
  },
  {
   "cell_type": "code",
   "execution_count": 13,
   "metadata": {},
   "outputs": [],
   "source": [
    "life = make_life(120, 120, 50, 45, *rpent)\n",
    "life.animate(frames=1200)"
   ]
  },
  {
   "cell_type": "markdown",
   "metadata": {},
   "source": [
    "### Conway's conjecture"
   ]
  },
  {
   "cell_type": "markdown",
   "metadata": {},
   "source": [
    "Most initial conditions run for a short time and reach a steady state.  Some, like the r-pentomino, run for a long time before they reach steady state.  Another example is [rabbits](https://web.archive.org/web/20081221152607/http://www.argentum.freeserve.co.uk/lex_r.htm#rabbits), which starts with only nine cells and runs 17331 steps before reaching steady state.\n",
    "\n",
    "To run my implementation of rabbits, open a terminal in `ThinkComplexity2/code` and run\n",
    "\n",
    "```\n",
    "python LifeRabbits.py\n",
    "```\n",
    "\n",
    "Patterns that take a long time to reach steady state are called [Methuselahs](https://en.wikipedia.org/wiki/Methuselah_(cellular_automaton))\n",
    "\n",
    "Patterns like these prompted Conway's conjecture, which asks whether there are any initial conditions where the number of live cells is unbounded."
   ]
  },
  {
   "cell_type": "markdown",
   "metadata": {},
   "source": [
    "Gosper's glider gun was the first entity to be discovered that produces an unbounded number of live cells, which refutes Conway's conjecture."
   ]
  },
  {
   "cell_type": "code",
   "execution_count": 14,
   "metadata": {},
   "outputs": [],
   "source": [
    "glider_gun = [\n",
    "    '000000000000000000000000100000000000',\n",
    "    '000000000000000000000010100000000000',\n",
    "    '000000000000110000001100000000000011',\n",
    "    '000000000001000100001100000000000011',\n",
    "    '110000000010000010001100000000000000',\n",
    "    '110000000010001011000010100000000000',\n",
    "    '000000000010000010000000100000000000',\n",
    "    '000000000001000100000000000000000000',\n",
    "    '000000000000110000000000000000000000'\n",
    "]"
   ]
  },
  {
   "cell_type": "markdown",
   "metadata": {},
   "source": [
    "Here's the initial configuration:"
   ]
  },
  {
   "cell_type": "code",
   "execution_count": 15,
   "metadata": {},
   "outputs": [],
   "source": [
    "life = make_life(11, 38, 1, 1, *glider_gun)\n",
    "life.draw()\n",
    "\n",
    "savefig('figs/chap06-5')"
   ]
  },
  {
   "cell_type": "markdown",
   "metadata": {},
   "source": [
    "And here's what it looks like running:"
   ]
  },
  {
   "cell_type": "code",
   "execution_count": 16,
   "metadata": {},
   "outputs": [],
   "source": [
    "life = make_life(50, 50, 2, 2, *glider_gun)\n",
    "life.animate(frames=200)"
   ]
  },
  {
   "cell_type": "markdown",
   "metadata": {},
   "source": [
    "**Puffer train**\n",
    "\n",
    "Another way to \"refute\" Conway's conjecture is a [puffer train](https://en.wikipedia.org/wiki/Puffer_train).\n",
    "\n",
    "To see a puffer train run, open a terminal and run\n",
    "\n",
    "```\n",
    "python LifePuffer.py\n",
    "```"
   ]
  },
  {
   "cell_type": "markdown",
   "metadata": {},
   "source": [
    "### Implementing Game of Life\n",
    "\n",
    "As an example, I'll start with an array of random cells:"
   ]
  },
  {
   "cell_type": "code",
   "execution_count": 20,
   "metadata": {},
   "outputs": [
    {
     "name": "stdout",
     "output_type": "stream",
     "text": [
      "[[0 1 0 0 0 0 0 0 1 0]\n",
      " [0 1 0 1 0 1 1 1 0 0]\n",
      " [1 0 0 0 0 1 0 1 1 0]\n",
      " [1 0 1 0 1 0 1 0 0 0]\n",
      " [0 1 1 1 1 0 1 1 0 1]\n",
      " [1 0 1 1 0 1 1 1 0 1]\n",
      " [0 0 0 1 0 1 1 0 1 0]\n",
      " [1 1 0 0 0 0 1 0 0 1]\n",
      " [0 0 1 0 0 1 0 1 1 0]\n",
      " [0 1 1 0 0 1 0 0 0 1]]\n"
     ]
    }
   ],
   "source": [
    "a = np.random.randint(2, size=(10, 10), dtype=np.uint8)\n",
    "print(a)"
   ]
  },
  {
   "cell_type": "markdown",
   "metadata": {},
   "source": [
    "The following is a straightforward translation of the GoL rules using `for` loops and array slicing."
   ]
  },
  {
   "cell_type": "code",
   "execution_count": 21,
   "metadata": {},
   "outputs": [
    {
     "name": "stdout",
     "output_type": "stream",
     "text": [
      "[[0 0 0 0 0 0 0 0 0 0]\n",
      " [0 1 1 0 1 1 0 0 0 0]\n",
      " [0 0 1 1 0 0 0 0 1 0]\n",
      " [0 0 1 0 1 0 0 0 0 0]\n",
      " [0 0 0 0 0 0 0 0 0 0]\n",
      " [0 0 0 0 0 0 0 0 0 0]\n",
      " [0 0 0 1 0 0 0 0 1 0]\n",
      " [0 1 1 0 1 0 0 0 0 0]\n",
      " [0 0 1 0 0 1 0 1 1 0]\n",
      " [0 0 0 0 0 0 0 0 0 0]]\n"
     ]
    }
   ],
   "source": [
    "b = np.zeros_like(a)\n",
    "rows, cols = a.shape\n",
    "for i in range(1, rows-1):\n",
    "    for j in range(1, cols-1):\n",
    "        state = a[i, j]\n",
    "        neighbors = a[i-1:i+2, j-1:j+2]\n",
    "        k = np.sum(neighbors) - state\n",
    "        if state:\n",
    "            if k==2 or k==3:\n",
    "                b[i, j] = 1\n",
    "        else:\n",
    "            if k == 3:\n",
    "                b[i, j] = 1\n",
    "\n",
    "print(b)"
   ]
  },
  {
   "cell_type": "markdown",
   "metadata": {},
   "source": [
    "Here's a smaller, faster version using cross correlation."
   ]
  },
  {
   "cell_type": "code",
   "execution_count": 22,
   "metadata": {},
   "outputs": [
    {
     "name": "stdout",
     "output_type": "stream",
     "text": [
      "[[0 0 1 0 0 0 1 1 0 0]\n",
      " [1 1 1 0 1 1 0 0 0 0]\n",
      " [1 0 1 1 0 0 0 0 1 0]\n",
      " [1 0 1 0 1 0 0 0 0 0]\n",
      " [1 0 0 0 0 0 0 0 0 0]\n",
      " [0 0 0 0 0 0 0 0 0 1]\n",
      " [1 0 0 1 0 0 0 0 1 1]\n",
      " [0 1 1 0 1 0 0 0 0 1]\n",
      " [1 0 1 0 0 1 0 1 1 1]\n",
      " [0 1 1 0 0 0 1 0 1 0]]\n"
     ]
    }
   ],
   "source": [
    "from scipy.signal import correlate2d\n",
    "\n",
    "kernel = np.array([[1, 1, 1],\n",
    "                   [1, 0, 1],\n",
    "                   [1, 1, 1]])\n",
    "\n",
    "c = correlate2d(a, kernel, mode='same')\n",
    "b = (c==3) | (c==2) & a\n",
    "b = b.astype(np.uint8)\n",
    "print(b)"
   ]
  },
  {
   "cell_type": "markdown",
   "metadata": {},
   "source": [
    "Using a kernel that gives a weight of 10 to the center cell, we can simplify the logic a little."
   ]
  },
  {
   "cell_type": "code",
   "execution_count": 23,
   "metadata": {},
   "outputs": [
    {
     "name": "stdout",
     "output_type": "stream",
     "text": [
      "[[0 0 1 0 0 0 1 1 0 0]\n",
      " [1 1 1 0 1 1 0 0 0 0]\n",
      " [1 0 1 1 0 0 0 0 1 0]\n",
      " [1 0 1 0 1 0 0 0 0 0]\n",
      " [1 0 0 0 0 0 0 0 0 0]\n",
      " [0 0 0 0 0 0 0 0 0 1]\n",
      " [1 0 0 1 0 0 0 0 1 1]\n",
      " [0 1 1 0 1 0 0 0 0 1]\n",
      " [1 0 1 0 0 1 0 1 1 1]\n",
      " [0 1 1 0 0 0 1 0 1 0]]\n"
     ]
    }
   ],
   "source": [
    "kernel = np.array([[1, 1, 1],\n",
    "                   [1,10, 1],\n",
    "                   [1, 1, 1]])\n",
    "\n",
    "c = correlate2d(a, kernel, mode='same')\n",
    "b = (c==3) | (c==12) | (c==13)\n",
    "b = b.astype(np.uint8)\n",
    "print(b)"
   ]
  },
  {
   "cell_type": "markdown",
   "metadata": {},
   "source": [
    "More importantly, the second version of the kernel makes it possible to use a look up table to get the next state, which is faster and even more concise."
   ]
  },
  {
   "cell_type": "code",
   "execution_count": 24,
   "metadata": {},
   "outputs": [
    {
     "name": "stdout",
     "output_type": "stream",
     "text": [
      "[[0 0 1 0 0 0 1 1 0 0]\n",
      " [1 1 1 0 1 1 0 0 0 0]\n",
      " [1 0 1 1 0 0 0 0 1 0]\n",
      " [1 0 1 0 1 0 0 0 0 0]\n",
      " [1 0 0 0 0 0 0 0 0 0]\n",
      " [0 0 0 0 0 0 0 0 0 1]\n",
      " [1 0 0 1 0 0 0 0 1 1]\n",
      " [0 1 1 0 1 0 0 0 0 1]\n",
      " [1 0 1 0 0 1 0 1 1 1]\n",
      " [0 1 1 0 0 0 1 0 1 0]]\n"
     ]
    }
   ],
   "source": [
    "table = np.zeros(20, dtype=np.uint8)\n",
    "table[[3, 12, 13]] = 1\n",
    "c = correlate2d(a, kernel, mode='same')\n",
    "b = table[c]\n",
    "print(b)"
   ]
  },
  {
   "cell_type": "markdown",
   "metadata": {},
   "source": [
    "**Exercise:** Many Game of Life patterns are available in portable file formats.  For one source, see http://www.conwaylife.com/wiki/Main_Page.\n",
    "\n",
    "Write a function to parse one of these formats and initialize the array."
   ]
  },
  {
   "cell_type": "code",
   "execution_count": 22,
   "metadata": {},
   "outputs": [],
   "source": [
    "# Solution goes here"
   ]
  },
  {
   "cell_type": "code",
   "execution_count": 23,
   "metadata": {},
   "outputs": [],
   "source": [
    "# Solution goes here"
   ]
  },
  {
   "cell_type": "code",
   "execution_count": 24,
   "metadata": {},
   "outputs": [],
   "source": [
    "life.draw()"
   ]
  },
  {
   "cell_type": "code",
   "execution_count": 25,
   "metadata": {},
   "outputs": [],
   "source": [
    "# Solution goes here"
   ]
  },
  {
   "cell_type": "markdown",
   "metadata": {},
   "source": [
    "### Highlife\n",
    "\n",
    "One variation of GoL, called \"Highlife\", has the\n",
    "same rules as GoL, plus one additional rule: a dead cell with 6\n",
    "neighbors comes to life.\n",
    "\n",
    "You can try out different rules by inheriting from `Life` and changing the lookup table.\n",
    "\n",
    "**Exercise:** Modify the table below to add the new rule."
   ]
  },
  {
   "cell_type": "code",
   "execution_count": 41,
   "metadata": {},
   "outputs": [],
   "source": [
    "# Starter code\n",
    "\n",
    "class MyLife(Life):\n",
    "    pass\n",
    "    \"\"\"Implementation of Life.\"\"\"\n",
    "\n",
    "    table = np.zeros(20, dtype=np.uint8)\n",
    "    table[[3, 6, 12, 13]] = 1\n",
    "    \n",
    "    \n",
    "def make_mylife(n, m, row, col, *strings):\n",
    "    \"\"\"Makes a Life object.\n",
    "    \n",
    "    n, m: rows and columns of the Life array\n",
    "    row, col: upper left coordinate of the cells to be added\n",
    "    strings: list of strings of '0' and '1'\n",
    "    \"\"\"\n",
    "    life = MyLife(n, m)\n",
    "    life.add_cells(row, col, *strings)\n",
    "    return life"
   ]
  },
  {
   "cell_type": "markdown",
   "metadata": {},
   "source": [
    "One of the more interesting patterns in Highlife is the replicator, which has the following initial configuration.\n"
   ]
  },
  {
   "cell_type": "code",
   "execution_count": 42,
   "metadata": {},
   "outputs": [],
   "source": [
    "replicator = [\n",
    "    '00111',\n",
    "    '01001',\n",
    "    '10001',\n",
    "    '10010',\n",
    "    '11100'\n",
    "]"
   ]
  },
  {
   "cell_type": "markdown",
   "metadata": {},
   "source": [
    "Make a `MyLife` object with `n=100` and use `add_cells` to put a replicator near the middle.\n",
    "\n",
    "Make an animation with about 200 frames and see how it behaves."
   ]
  },
  {
   "cell_type": "code",
   "execution_count": 101,
   "metadata": {},
   "outputs": [
    {
     "data": {
      "image/png": "[encoded data removed]",
      "text/plain": [
       "<Figure size 432x288 with 1 Axes>"
      ]
     },
     "metadata": {},
     "output_type": "display_data"
    }
   ],
   "source": [
    "# Solution goes here\n",
    "life = make_mylife(60, 60, 25, 25, *replicator)\n",
    "life.animate(frames = 1)"
   ]
  },
  {
   "cell_type": "markdown",
   "metadata": {},
   "source": [
    "**Exercise:** \n",
    "\n",
    "If you generalize the Turing machine to two dimensions, or\n",
    "add a read-write head to a 2-D CA, the result is a\n",
    "cellular automaton called a Turmite.  It is named after a\n",
    "termite because of the way the read-write head moves, but\n",
    "spelled wrong as an homage to Alan Turing.\n",
    "\n",
    "The most famous Turmite is Langton's Ant, discovered by Chris Langton\n",
    "in 1986.  See http://en.wikipedia.org/wiki/Langton_ant.\n",
    "\n",
    "The ant is a read-write head with\n",
    "four states, which you can think of as facing north, south,\n",
    "east or west.  The cells have two states, black and white.\n",
    "\n",
    "The rules are simple.  During each time step, the ant checks the color\n",
    "of the cell it is on.  If black, the ant turns to the right,\n",
    "changes the cell to white, and moves forward one space.  If the cell\n",
    "is white, the ant turns left, changes the cell to black, and moves\n",
    "forward.\n",
    "\n",
    "Given a simple world, a simple set of rules, and only one moving part,\n",
    "you might expect to see simple behavior---but you should know\n",
    "better by now.  Starting with all white cells, Langton's ant\n",
    "moves in a seemingly random pattern for more than 10 000 steps\n",
    "before it enters a cycle with a period of 104 steps.  After\n",
    "each cycle, the ant is translated diagonally, so it leaves\n",
    "a trail called the \"highway\".\n",
    "\n",
    "Write an implementation of Langton's Ant."
   ]
  },
  {
   "cell_type": "code",
   "execution_count": 95,
   "metadata": {},
   "outputs": [
    {
     "ename": "NameError",
     "evalue": "name 'self' is not defined",
     "output_type": "error",
     "traceback": [
      "\u001b[1;31m---------------------------------------------------------------------------\u001b[0m",
      "\u001b[1;31mNameError\u001b[0m                                 Traceback (most recent call last)",
      "\u001b[1;32m<ipython-input-95-0af8d0c194af>\u001b[0m in \u001b[0;36m<module>\u001b[1;34m\u001b[0m\n\u001b[0;32m      4\u001b[0m \u001b[1;33m\u001b[0m\u001b[0m\n\u001b[0;32m      5\u001b[0m \u001b[1;33m\u001b[0m\u001b[0m\n\u001b[1;32m----> 6\u001b[1;33m \u001b[1;32mclass\u001b[0m \u001b[0mTurmite\u001b[0m\u001b[1;33m(\u001b[0m\u001b[1;33m)\u001b[0m\u001b[1;33m:\u001b[0m\u001b[1;33m\u001b[0m\u001b[1;33m\u001b[0m\u001b[0m\n\u001b[0m\u001b[0;32m      7\u001b[0m     \u001b[1;34m\"\"\"Implementation of Conway's Game of Life.\"\"\"\u001b[0m\u001b[1;33m\u001b[0m\u001b[1;33m\u001b[0m\u001b[0m\n\u001b[0;32m      8\u001b[0m \u001b[1;33m\u001b[0m\u001b[0m\n",
      "\u001b[1;32m<ipython-input-95-0af8d0c194af>\u001b[0m in \u001b[0;36mTurmite\u001b[1;34m()\u001b[0m\n\u001b[0;32m     10\u001b[0m                  \u001b[1;36m2\u001b[0m\u001b[1;33m:\u001b[0m \u001b[1;33m(\u001b[0m\u001b[1;36m0\u001b[0m\u001b[1;33m,\u001b[0m\u001b[1;36m1\u001b[0m\u001b[1;33m)\u001b[0m\u001b[1;33m,\u001b[0m\u001b[1;33m\u001b[0m\u001b[1;33m\u001b[0m\u001b[0m\n\u001b[0;32m     11\u001b[0m                  \u001b[1;36m3\u001b[0m\u001b[1;33m:\u001b[0m \u001b[1;33m(\u001b[0m\u001b[1;33m-\u001b[0m\u001b[1;36m1\u001b[0m\u001b[1;33m,\u001b[0m\u001b[1;36m0\u001b[0m\u001b[1;33m)\u001b[0m\u001b[1;33m,\u001b[0m\u001b[1;33m\u001b[0m\u001b[1;33m\u001b[0m\u001b[0m\n\u001b[1;32m---> 12\u001b[1;33m                  4: (0,-1)}\n\u001b[0m\u001b[0;32m     13\u001b[0m \u001b[1;33m\u001b[0m\u001b[0m\n\u001b[0;32m     14\u001b[0m     \u001b[1;32mdef\u001b[0m \u001b[0m__init__\u001b[0m\u001b[1;33m(\u001b[0m\u001b[0mself\u001b[0m\u001b[1;33m,\u001b[0m \u001b[0mdirection\u001b[0m\u001b[1;33m,\u001b[0m \u001b[0mn\u001b[0m\u001b[1;33m,\u001b[0m \u001b[0mm\u001b[0m\u001b[1;33m=\u001b[0m\u001b[1;32mNone\u001b[0m\u001b[1;33m)\u001b[0m\u001b[1;33m:\u001b[0m\u001b[1;33m\u001b[0m\u001b[1;33m\u001b[0m\u001b[0m\n",
      "\u001b[1;31mNameError\u001b[0m: name 'self' is not defined"
     ]
    }
   ],
   "source": [
    "# Solution goes here\n",
    "from matplotlib.patches import RegularPolygon\n",
    "import operator\n",
    "\n",
    "\n",
    "class Turmite():\n",
    "    \"\"\"Implementation of Conway's Game of Life.\"\"\"\n",
    "    \n",
    "    self.directions ={1: (1,0),\n",
    "                 2: (0,1),\n",
    "                 3: (-1,0),\n",
    "                 4: (0,-1)}\n",
    "    \n",
    "    def __init__(self, direction, n, m=None):\n",
    "        \"\"\"Initializes the attributes.\n",
    "        n: number of rows\n",
    "        m: number of columns\n",
    "        \"\"\"\n",
    "        m = n if m is None else m\n",
    "        self.n = n\n",
    "        self.m = m\n",
    "        self.array = np.zeros((n, m), np.uint8)\n",
    "        self.loc = (n//2, m//2)\n",
    "        self.state = 0\n",
    "        self.direction = direction\n",
    "\n",
    "    def move(self):\n",
    "        pos = self.loc\n",
    "        print(self.directions[self.direction])\n",
    "        direction = self.directions[self.direction]\n",
    "        new_pos = tuple(map(operator.add, pos, direction))\n",
    "    def read(self):\n",
    "        state = array(self.loc)\n",
    "    def step(self):\n",
    "        \"\"\"Executes one time step.\"\"\"\n",
    "        self.move()\n",
    "        \n",
    "        \n",
    "        \n",
    "    def ant(a, b, direc):\n",
    "\n",
    "        ant = [a,b,c]\n",
    "        \n",
    "\n",
    "def make_turmite(n,a,b,direc):\n",
    "    \n",
    "    life = Turmite(n, 1)\n",
    "    return life\n",
    "\n",
    "\n",
    "    "
   ]
  },
  {
   "cell_type": "code",
   "execution_count": 94,
   "metadata": {},
   "outputs": [],
   "source": [
    "n = 5\n",
    "turmite = Turmite(0,n)\n"
   ]
  },
  {
   "cell_type": "code",
   "execution_count": 92,
   "metadata": {},
   "outputs": [
    {
     "ename": "KeyError",
     "evalue": "0",
     "output_type": "error",
     "traceback": [
      "\u001b[1;31m---------------------------------------------------------------------------\u001b[0m",
      "\u001b[1;31mKeyError\u001b[0m                                  Traceback (most recent call last)",
      "\u001b[1;32m<ipython-input-92-6ddbac567c3a>\u001b[0m in \u001b[0;36m<module>\u001b[1;34m\u001b[0m\n\u001b[1;32m----> 1\u001b[1;33m \u001b[0mturmite\u001b[0m\u001b[1;33m.\u001b[0m\u001b[0mstep\u001b[0m\u001b[1;33m(\u001b[0m\u001b[1;33m)\u001b[0m\u001b[1;33m\u001b[0m\u001b[1;33m\u001b[0m\u001b[0m\n\u001b[0m",
      "\u001b[1;32m<ipython-input-90-c702cd31e259>\u001b[0m in \u001b[0;36mstep\u001b[1;34m(self)\u001b[0m\n\u001b[0;32m     34\u001b[0m     \u001b[1;32mdef\u001b[0m \u001b[0mstep\u001b[0m\u001b[1;33m(\u001b[0m\u001b[0mself\u001b[0m\u001b[1;33m)\u001b[0m\u001b[1;33m:\u001b[0m\u001b[1;33m\u001b[0m\u001b[1;33m\u001b[0m\u001b[0m\n\u001b[0;32m     35\u001b[0m         \u001b[1;34m\"\"\"Executes one time step.\"\"\"\u001b[0m\u001b[1;33m\u001b[0m\u001b[1;33m\u001b[0m\u001b[0m\n\u001b[1;32m---> 36\u001b[1;33m         \u001b[0mself\u001b[0m\u001b[1;33m.\u001b[0m\u001b[0mmove\u001b[0m\u001b[1;33m(\u001b[0m\u001b[1;33m)\u001b[0m\u001b[1;33m\u001b[0m\u001b[1;33m\u001b[0m\u001b[0m\n\u001b[0m\u001b[0;32m     37\u001b[0m \u001b[1;33m\u001b[0m\u001b[0m\n\u001b[0;32m     38\u001b[0m \u001b[1;33m\u001b[0m\u001b[0m\n",
      "\u001b[1;32m<ipython-input-90-c702cd31e259>\u001b[0m in \u001b[0;36mmove\u001b[1;34m(self)\u001b[0m\n\u001b[0;32m     27\u001b[0m     \u001b[1;32mdef\u001b[0m \u001b[0mmove\u001b[0m\u001b[1;33m(\u001b[0m\u001b[0mself\u001b[0m\u001b[1;33m)\u001b[0m\u001b[1;33m:\u001b[0m\u001b[1;33m\u001b[0m\u001b[1;33m\u001b[0m\u001b[0m\n\u001b[0;32m     28\u001b[0m         \u001b[0mpos\u001b[0m \u001b[1;33m=\u001b[0m \u001b[0mself\u001b[0m\u001b[1;33m.\u001b[0m\u001b[0mloc\u001b[0m\u001b[1;33m\u001b[0m\u001b[1;33m\u001b[0m\u001b[0m\n\u001b[1;32m---> 29\u001b[1;33m         \u001b[0mprint\u001b[0m\u001b[1;33m(\u001b[0m\u001b[0mself\u001b[0m\u001b[1;33m.\u001b[0m\u001b[0mdirections\u001b[0m\u001b[1;33m[\u001b[0m\u001b[0mself\u001b[0m\u001b[1;33m.\u001b[0m\u001b[0mdirection\u001b[0m\u001b[1;33m]\u001b[0m\u001b[1;33m)\u001b[0m\u001b[1;33m\u001b[0m\u001b[1;33m\u001b[0m\u001b[0m\n\u001b[0m\u001b[0;32m     30\u001b[0m         \u001b[0mdirection\u001b[0m \u001b[1;33m=\u001b[0m \u001b[0mself\u001b[0m\u001b[1;33m.\u001b[0m\u001b[0mdirections\u001b[0m\u001b[1;33m[\u001b[0m\u001b[0mself\u001b[0m\u001b[1;33m.\u001b[0m\u001b[0mdirection\u001b[0m\u001b[1;33m]\u001b[0m\u001b[1;33m\u001b[0m\u001b[1;33m\u001b[0m\u001b[0m\n\u001b[0;32m     31\u001b[0m         \u001b[0mnew_pos\u001b[0m \u001b[1;33m=\u001b[0m \u001b[0mtuple\u001b[0m\u001b[1;33m(\u001b[0m\u001b[0mmap\u001b[0m\u001b[1;33m(\u001b[0m\u001b[0moperator\u001b[0m\u001b[1;33m.\u001b[0m\u001b[0madd\u001b[0m\u001b[1;33m,\u001b[0m \u001b[0mpos\u001b[0m\u001b[1;33m,\u001b[0m \u001b[0mdirection\u001b[0m\u001b[1;33m)\u001b[0m\u001b[1;33m)\u001b[0m\u001b[1;33m\u001b[0m\u001b[1;33m\u001b[0m\u001b[0m\n",
      "\u001b[1;31mKeyError\u001b[0m: 0"
     ]
    }
   ],
   "source": [
    "turmite.step()\n"
   ]
  },
  {
   "cell_type": "code",
   "execution_count": 83,
   "metadata": {},
   "outputs": [
    {
     "data": {
      "text/plain": [
       "(1, 0)"
      ]
     },
     "execution_count": 83,
     "metadata": {},
     "output_type": "execute_result"
    }
   ],
   "source": [
    "# Solution goes here\n",
    "directions ={1: (1,0),\n",
    "             2: (0,1),\n",
    "             3: (-1,0),\n",
    "             4: (0,-1)}\n",
    "directions[1]"
   ]
  },
  {
   "cell_type": "code",
   "execution_count": 33,
   "metadata": {},
   "outputs": [],
   "source": [
    "# And a larger version with 1000 steps\n",
    "\n",
    "turmite = Turmite(n=30)\n",
    "anim = turmite.animate(frames=1000)"
   ]
  },
  {
   "cell_type": "code",
   "execution_count": 128,
   "metadata": {},
   "outputs": [],
   "source": [
    "# Solution goes here\n",
    "class Ant:  \n",
    "    \"\"\"\n",
    "    Direction 1 = North\n",
    "    Direction 2 = East\n",
    "    Direction 3 = South\n",
    "    Direction 4 = West\n",
    "    \"\"\"\n",
    "    def __init__(self, n, direc):\n",
    "        self.x = n/2\n",
    "        self.y = n/2\n",
    "        self.direction = direc\n",
    "        \n",
    "    def turn(self, turn_direction):\n",
    "        if turn_direction == 1:\n",
    "            if self.direction == 4:\n",
    "                self.direction = 1\n",
    "            else:\n",
    "                self.direction +=1\n",
    "        else:\n",
    "            if self.direction == 1:\n",
    "                self.direction = 4\n",
    "            else:\n",
    "                self.direction -= 1\n",
    "         \n",
    "    def move(self):\n",
    "        if self.direction == 1:\n",
    "            self.y += 1\n",
    "        if self.direction == 2:\n",
    "            self.x +=1\n",
    "        if self.direction == 3:\n",
    "            self.y -= 1\n",
    "        if self.direction == 4:\n",
    "            self.x -= 1\n",
    "\n",
    "class Field(Cell2D):\n",
    "    pass\n",
    "\n",
    "    def update_cells(self, position):\n",
    "        if self.array[position] == 0;\n",
    "            self.array[position] = 1\n",
    "        if self.array[position] == 1:\n",
    "            self.array[position] == 0\n",
    "\n",
    "            \n",
    "    def step(position, direction):\n",
    "        \n"
   ]
  },
  {
   "cell_type": "code",
   "execution_count": 129,
   "metadata": {},
   "outputs": [
    {
     "name": "stdout",
     "output_type": "stream",
     "text": [
      "0\n"
     ]
    }
   ],
   "source": [
    "array = Field(10,10)\n",
    "array.update_cells((1,1))"
   ]
  },
  {
   "cell_type": "code",
   "execution_count": null,
   "metadata": {},
   "outputs": [],
   "source": []
  }
 ],
 "metadata": {
  "kernelspec": {
   "display_name": "Python 3",
   "language": "python",
   "name": "python3"
  },
  "language_info": {
   "codemirror_mode": {
    "name": "ipython",
    "version": 3
   },
   "file_extension": ".py",
   "mimetype": "text/x-python",
   "name": "python",
   "nbconvert_exporter": "python",
   "pygments_lexer": "ipython3",
   "version": "3.7.4"
  }
 },
 "nbformat": 4,
 "nbformat_minor": 2
}
