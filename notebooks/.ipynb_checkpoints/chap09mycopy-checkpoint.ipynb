{
 "cells": [
  {
   "cell_type": "markdown",
   "metadata": {},
   "source": [
    "# Agent Based Models\n",
    "\n",
    "Code examples from [Think Complexity, 2nd edition](https://thinkcomplex.com).\n",
    "\n",
    "Copyright 2016 Allen Downey, [MIT License](http://opensource.org/licenses/MIT)"
   ]
  },
  {
   "cell_type": "code",
   "execution_count": 1,
   "metadata": {},
   "outputs": [],
   "source": [
    "%matplotlib inline\n",
    "\n",
    "import matplotlib.pyplot as plt\n",
    "import numpy as np\n",
    "import seaborn as sns\n",
    "\n",
    "from utils import decorate, savefig"
   ]
  },
  {
   "cell_type": "markdown",
   "metadata": {},
   "source": [
    "## Schelling's model"
   ]
  },
  {
   "cell_type": "markdown",
   "metadata": {},
   "source": [
    "`locs_where` is a wrapper on `np.nonzero` that returns results as a list of tuples."
   ]
  },
  {
   "cell_type": "code",
   "execution_count": 2,
   "metadata": {},
   "outputs": [],
   "source": [
    "def locs_where(condition):\n",
    "    \"\"\"Find cells where a logical array is True.\n",
    "    \n",
    "    condition: logical array\n",
    "    \n",
    "    returns: list of location tuples\n",
    "    \"\"\"\n",
    "    return list(zip(*np.nonzero(condition)))"
   ]
  },
  {
   "cell_type": "markdown",
   "metadata": {},
   "source": [
    "Here's my implementation of Schelling's model:"
   ]
  },
  {
   "cell_type": "code",
   "execution_count": 3,
   "metadata": {},
   "outputs": [],
   "source": [
    "from scipy.signal import correlate2d\n",
    "from Cell2D import Cell2D, draw_array\n",
    "\n",
    "from matplotlib.colors import LinearSegmentedColormap\n",
    "\n",
    "# make a custom color map\n",
    "palette = sns.color_palette('muted')\n",
    "colors = 'white', palette[1], palette[0]\n",
    "cmap = LinearSegmentedColormap.from_list('cmap', colors)\n",
    "\n",
    "\n",
    "class Schelling(Cell2D):\n",
    "    \"\"\"Represents a grid of Schelling agents.\"\"\"\n",
    "    \n",
    "    options = dict(mode='same', boundary='wrap')\n",
    "\n",
    "    kernel = np.array([[1, 1, 1],\n",
    "                       [1, 0, 1],\n",
    "                       [1, 1, 1]], dtype=np.int8)\n",
    "    \n",
    "    def __init__(self, n, p):\n",
    "        \"\"\"Initializes the attributes.\n",
    "\n",
    "        n: number of rows\n",
    "        p: threshold on the fraction of similar neighbors\n",
    "        \"\"\"\n",
    "        self.p = p\n",
    "        # 0 is empty, 1 is red, 2 is blue\n",
    "        choices = np.array([0, 1, 2], dtype=np.int8)\n",
    "        probs = [0.1, 0.45, 0.45]\n",
    "        self.array = np.random.choice(choices, (n, n), p=probs)\n",
    "\n",
    "    def count_neighbors(self):\n",
    "        \"\"\"Surveys neighboring cells.\n",
    "        \n",
    "        returns: tuple of\n",
    "            empty: True where cells are empty\n",
    "            frac_red: fraction of red neighbors around each cell\n",
    "            frac_blue: fraction of blue neighbors around each cell\n",
    "            frac_same: fraction of neighbors with the same color\n",
    "        \"\"\"\n",
    "        a = self.array\n",
    "        \n",
    "        empty = a==0\n",
    "        red = a==1\n",
    "        blue = a==2\n",
    "\n",
    "        # count red neighbors, blue neighbors, and total\n",
    "        num_red = correlate2d(red, self.kernel, **self.options)\n",
    "        num_blue = correlate2d(blue, self.kernel, **self.options)\n",
    "        num_neighbors = num_red + num_blue\n",
    "\n",
    "        # compute fraction of similar neighbors\n",
    "        frac_red = num_red / num_neighbors\n",
    "        frac_blue = num_blue / num_neighbors\n",
    "        \n",
    "        # no neighbors is considered the same as no similar neighbors \n",
    "        # (this is an arbitrary choice for a rare event)\n",
    "        frac_red[num_neighbors == 0] = 0\n",
    "        frac_blue[num_neighbors == 0] = 0\n",
    "        \n",
    "        # for each cell, compute the fraction of neighbors with the same color\n",
    "        frac_same = np.where(red, frac_red, frac_blue)\n",
    "\n",
    "        # for empty cells, frac_same is NaN\n",
    "        frac_same[empty] = np.nan\n",
    "        \n",
    "        return empty, frac_red, frac_blue, frac_same\n",
    "\n",
    "    def segregation(self):\n",
    "        \"\"\"Computes the average fraction of similar neighbors.\n",
    "        \n",
    "        returns: fraction of similar neighbors, averaged over cells\n",
    "        \"\"\"\n",
    "        _, _, _, frac_same = self.count_neighbors()\n",
    "        return np.nanmean(frac_same)\n",
    "    \n",
    "    def step(self):\n",
    "        \"\"\"Executes one time step.\n",
    "                \n",
    "        returns: fraction of similar neighbors, averaged over cells\n",
    "        \"\"\"\n",
    "        a = self.array\n",
    "        empty, _, _, frac_same = self.count_neighbors()\n",
    "        \n",
    "        # find the unhappy cells (ignore NaN in frac_same)\n",
    "        with np.errstate(invalid='ignore'):\n",
    "            unhappy = frac_same < self.p\n",
    "        unhappy_locs = locs_where(unhappy)\n",
    "        \n",
    "        # find the empty cells\n",
    "        empty_locs = locs_where(empty)\n",
    "\n",
    "        # shuffle the unhappy cells\n",
    "        if len(unhappy_locs):\n",
    "            np.random.shuffle(unhappy_locs)\n",
    "            \n",
    "        # for each unhappy cell, choose a random destination\n",
    "        num_empty = np.sum(empty)\n",
    "        for source in unhappy_locs:\n",
    "            i = np.random.randint(num_empty)\n",
    "            dest = empty_locs[i]\n",
    "            \n",
    "            # move\n",
    "            a[dest] = a[source]\n",
    "            a[source] = 0\n",
    "            empty_locs[i] = source\n",
    "        \n",
    "        # check that the number of empty cells is unchanged\n",
    "        num_empty2 = np.sum(a==0)\n",
    "        assert num_empty == num_empty2\n",
    "        \n",
    "        # return the average fraction of similar neighbors\n",
    "        return np.nanmean(frac_same)\n",
    "        \n",
    "    def draw(self):\n",
    "        \"\"\"Draws the cells.\"\"\"\n",
    "        return draw_array(self.array, cmap=cmap, vmax=2)"
   ]
  },
  {
   "cell_type": "markdown",
   "metadata": {},
   "source": [
    "Here's a small example."
   ]
  },
  {
   "cell_type": "code",
   "execution_count": 4,
   "metadata": {},
   "outputs": [
    {
     "data": {
      "text/plain": [
       "0.4724489795918367"
      ]
     },
     "execution_count": 4,
     "metadata": {},
     "output_type": "execute_result"
    },
    {
     "data": {
      "image/png": "[encoded data removed]",
      "text/plain": [
       "<Figure size 432x288 with 1 Axes>"
      ]
     },
     "metadata": {},
     "output_type": "display_data"
    }
   ],
   "source": [
    "grid = Schelling(n=10, p=0.3)\n",
    "grid.draw()\n",
    "grid.segregation()"
   ]
  },
  {
   "cell_type": "markdown",
   "metadata": {},
   "source": [
    "And here's an animation for a bigger example:"
   ]
  },
  {
   "cell_type": "markdown",
   "metadata": {},
   "source": [
    "The degree of segregation increases quickly."
   ]
  },
  {
   "cell_type": "code",
   "execution_count": 5,
   "metadata": {},
   "outputs": [
    {
     "data": {
      "image/png": "[encoded data removed]",
      "text/plain": [
       "<Figure size 432x288 with 1 Axes>"
      ]
     },
     "metadata": {},
     "output_type": "display_data"
    }
   ],
   "source": [
    "grid = Schelling(n=100, p=0.3)\n",
    "grid.animate(frames=30, interval=0.1)"
   ]
  },
  {
   "cell_type": "markdown",
   "metadata": {},
   "source": [
    "The following figure shows the process after 2 and 10 steps."
   ]
  },
  {
   "cell_type": "code",
   "execution_count": 6,
   "metadata": {},
   "outputs": [
    {
     "name": "stdout",
     "output_type": "stream",
     "text": [
      "Saving figure to file figs/chap09-1\n"
     ]
    },
    {
     "data": {
      "image/png": "[encoded data removed]",
      "text/plain": [
       "<Figure size 720x288 with 3 Axes>"
      ]
     },
     "metadata": {},
     "output_type": "display_data"
    }
   ],
   "source": [
    "from utils import three_frame\n",
    "\n",
    "grid = Schelling(n=100, p=0.3)\n",
    "three_frame(grid, [0, 2, 8])\n",
    "\n",
    "savefig('figs/chap09-1')"
   ]
  },
  {
   "cell_type": "markdown",
   "metadata": {},
   "source": [
    "And here's how segregation in steady state relates to `p`, the threshold on the fraction of similar neighbors."
   ]
  },
  {
   "cell_type": "code",
   "execution_count": 7,
   "metadata": {},
   "outputs": [
    {
     "name": "stdout",
     "output_type": "stream",
     "text": [
      "0.5 0.8707797990077598 0.3707797990077598\n",
      "0.4 0.8181252110773387 0.4181252110773387\n",
      "0.3 0.7538847395404771 0.4538847395404771\n",
      "0.2 0.5729593164353953 0.3729593164353953\n",
      "Saving figure to file figs/chap09-2\n"
     ]
    },
    {
     "data": {
      "image/png": "[encoded data removed]",
      "text/plain": [
       "<Figure size 432x288 with 1 Axes>"
      ]
     },
     "metadata": {
      "needs_background": "light"
     },
     "output_type": "display_data"
    }
   ],
   "source": [
    "from utils import set_palette\n",
    "set_palette('Blues', 5, reverse=True)\n",
    "\n",
    "np.random.seed(17)\n",
    "for p in [0.5, 0.4, 0.3, 0.2]:\n",
    "    grid = Schelling(n=100, p=p)\n",
    "    segs = [grid.step() for i in range(12)]\n",
    "    plt.plot(segs, label='p = %.1f' % p)\n",
    "    print(p, segs[-1], segs[-1] - p)\n",
    "    \n",
    "decorate(xlabel='Time steps', ylabel='Segregation',\n",
    "                loc='lower right', ylim=[0, 1])\n",
    "\n",
    "savefig('figs/chap09-2')"
   ]
  },
  {
   "cell_type": "markdown",
   "metadata": {},
   "source": [
    "At `p=0.3`, there is a striking difference between the level that would make people happy, at only 30%, and the level they actually get, around 75%."
   ]
  },
  {
   "cell_type": "markdown",
   "metadata": {},
   "source": [
    "**Exercise:** Experiment with different starting conditions: for example, more or fewer empty cells, or unequal numbers of red and blue agents."
   ]
  },
  {
   "cell_type": "markdown",
   "metadata": {},
   "source": [
    "## Sugarscape"
   ]
  },
  {
   "cell_type": "markdown",
   "metadata": {},
   "source": [
    "`make_locs` takes the dimensions of the grid and returns an array where each row is a coordinate in the grid."
   ]
  },
  {
   "cell_type": "code",
   "execution_count": 8,
   "metadata": {},
   "outputs": [],
   "source": [
    "def make_locs(n, m):\n",
    "    \"\"\"Makes array where each row is an index in an `n` by `m` grid.\n",
    "    \n",
    "    n: int number of rows\n",
    "    m: int number of cols\n",
    "    \n",
    "    returns: NumPy array\n",
    "    \"\"\"\n",
    "    t = [(i, j) for i in range(n) for j in range(m)]\n",
    "    return np.array(t)"
   ]
  },
  {
   "cell_type": "code",
   "execution_count": 9,
   "metadata": {},
   "outputs": [
    {
     "data": {
      "text/plain": [
       "array([[0, 0],\n",
       "       [0, 1],\n",
       "       [0, 2],\n",
       "       [1, 0],\n",
       "       [1, 1],\n",
       "       [1, 2]])"
      ]
     },
     "execution_count": 9,
     "metadata": {},
     "output_type": "execute_result"
    }
   ],
   "source": [
    "make_locs(2, 3)"
   ]
  },
  {
   "cell_type": "markdown",
   "metadata": {},
   "source": [
    "`make_visible_locs` takes the range of an agents vision and returns an array where each row is the coordinate of a visible cell.\n",
    "\n",
    "The cells are at increasing distances.  The cells at each distance are shuffled. "
   ]
  },
  {
   "cell_type": "code",
   "execution_count": 10,
   "metadata": {},
   "outputs": [],
   "source": [
    "def make_visible_locs(vision):\n",
    "    \"\"\"Computes the kernel of visible cells.\n",
    "        \n",
    "    vision: int distance\n",
    "    \"\"\"\n",
    "    def make_array(d):\n",
    "        \"\"\"Generates visible cells with increasing distance.\"\"\"\n",
    "        a = np.array([[-d, 0], [d, 0], [0, -d], [0, d]])\n",
    "        np.random.shuffle(a)\n",
    "        return a\n",
    "                     \n",
    "    arrays = [make_array(d) for d in range(1, vision+1)]\n",
    "    return np.vstack(arrays)"
   ]
  },
  {
   "cell_type": "code",
   "execution_count": 11,
   "metadata": {},
   "outputs": [
    {
     "data": {
      "text/plain": [
       "array([[ 0,  1],\n",
       "       [ 1,  0],\n",
       "       [ 0, -1],\n",
       "       [-1,  0],\n",
       "       [ 0, -2],\n",
       "       [-2,  0],\n",
       "       [ 0,  2],\n",
       "       [ 2,  0]])"
      ]
     },
     "execution_count": 11,
     "metadata": {},
     "output_type": "execute_result"
    }
   ],
   "source": [
    "make_visible_locs(2)"
   ]
  },
  {
   "cell_type": "markdown",
   "metadata": {},
   "source": [
    "`distances_from` returns an array that contains the distance of each cell from the given coordinates."
   ]
  },
  {
   "cell_type": "code",
   "execution_count": 12,
   "metadata": {},
   "outputs": [],
   "source": [
    "def distances_from(n, i, j):\n",
    "    \"\"\"Computes an array of distances.\n",
    "    \n",
    "    n: size of the array\n",
    "    i, j: coordinates to find distance from\n",
    "    \n",
    "    returns: array of float\n",
    "    \"\"\"\n",
    "    X, Y = np.indices((n, n))\n",
    "    return np.hypot(X-i, Y-j)"
   ]
  },
  {
   "cell_type": "code",
   "execution_count": 13,
   "metadata": {},
   "outputs": [
    {
     "data": {
      "text/plain": [
       "array([[2.82842712, 2.23606798, 2.        , 2.23606798, 2.82842712],\n",
       "       [2.23606798, 1.41421356, 1.        , 1.41421356, 2.23606798],\n",
       "       [2.        , 1.        , 0.        , 1.        , 2.        ],\n",
       "       [2.23606798, 1.41421356, 1.        , 1.41421356, 2.23606798],\n",
       "       [2.82842712, 2.23606798, 2.        , 2.23606798, 2.82842712]])"
      ]
     },
     "execution_count": 13,
     "metadata": {},
     "output_type": "execute_result"
    }
   ],
   "source": [
    "dist = distances_from(5, 2, 2)\n",
    "dist"
   ]
  },
  {
   "cell_type": "markdown",
   "metadata": {},
   "source": [
    "I use `np.digitize` to set the capacity in each cell according to the distance from the peak.  Here's an example that shows how it works."
   ]
  },
  {
   "cell_type": "code",
   "execution_count": 14,
   "metadata": {},
   "outputs": [
    {
     "data": {
      "text/plain": [
       "array([[1, 1, 1, 1, 1],\n",
       "       [1, 2, 2, 2, 1],\n",
       "       [1, 2, 3, 2, 1],\n",
       "       [1, 2, 2, 2, 1],\n",
       "       [1, 1, 1, 1, 1]], dtype=int64)"
      ]
     },
     "execution_count": 14,
     "metadata": {},
     "output_type": "execute_result"
    }
   ],
   "source": [
    "bins = [3, 2, 1, 0]\n",
    "np.digitize(dist, bins)"
   ]
  },
  {
   "cell_type": "markdown",
   "metadata": {},
   "source": [
    "Here's my implementation of Sugarscape:"
   ]
  },
  {
   "cell_type": "code",
   "execution_count": 15,
   "metadata": {},
   "outputs": [],
   "source": [
    "class Sugarscape(Cell2D):\n",
    "    \"\"\"Represents an Epstein-Axtell Sugarscape.\"\"\"\n",
    "    \n",
    "    def __init__(self, n, **params):\n",
    "        \"\"\"Initializes the attributes.\n",
    "\n",
    "        n: number of rows and columns\n",
    "        params: dictionary of parameters\n",
    "        \"\"\"\n",
    "        self.n = n\n",
    "        self.params = params\n",
    "        \n",
    "        # track variables\n",
    "        self.agent_count_seq = []\n",
    "    \n",
    "        # make the capacity array\n",
    "        self.capacity = self.make_capacity()\n",
    "        \n",
    "        # initially all cells are at capacity\n",
    "        self.array = self.capacity.copy()\n",
    "        \n",
    "        # make the agents\n",
    "        self.make_agents()\n",
    "        \n",
    "    def make_capacity(self):\n",
    "        \"\"\"Makes the capacity array.\"\"\"\n",
    "        \n",
    "        # compute the distance of each cell from the peaks. \n",
    "        dist1 = distances_from(self.n, 15, 15)\n",
    "        dist2 = distances_from(self.n, 35, 35)\n",
    "        dist = np.minimum(dist1, dist2)\n",
    "        \n",
    "        # cells in the capacity array are set according to dist from peak\n",
    "        bins = [21, 16, 11, 6]\n",
    "        a = np.digitize(dist, bins)\n",
    "        return a\n",
    "        \n",
    "    def make_agents(self):\n",
    "        \"\"\"Makes the agents.\"\"\"\n",
    "        \n",
    "        # determine where the agents start and generate locations\n",
    "        n, m = self.params.get('starting_box', self.array.shape)\n",
    "        locs = make_locs(n, m)\n",
    "        np.random.shuffle(locs)\n",
    "\n",
    "        # make the agents\n",
    "        num_agents = self.params.get('num_agents', 400)\n",
    "        assert(num_agents <= len(locs))\n",
    "        self.agents = [Agent(locs[i], self.params) \n",
    "                       for i in range(num_agents)]\n",
    "        \n",
    "        # keep track of which cells are occupied\n",
    "        self.occupied = set(agent.loc for agent in self.agents)\n",
    "            \n",
    "    def grow(self):\n",
    "        \"\"\"Adds sugar to all cells and caps them by capacity.\"\"\"\n",
    "        grow_rate = self.params.get('grow_rate', 1)\n",
    "        self.array = np.minimum(self.array + grow_rate, self.capacity)\n",
    "        \n",
    "    def look_and_move(self, center, vision):\n",
    "        \"\"\"Finds the visible cell with the most sugar.\n",
    "        \n",
    "        center: tuple, coordinates of the center cell\n",
    "        vision: int, maximum visible distance\n",
    "        \n",
    "        returns: tuple, coordinates of best cell\n",
    "        \"\"\"\n",
    "        # find all visible cells\n",
    "        locs = make_visible_locs(vision)\n",
    "        locs = (locs + center) % self.n\n",
    "        \n",
    "        # convert rows of the array to tuples\n",
    "        locs = [tuple(loc) for loc in locs]\n",
    "        \n",
    "        # select unoccupied cells\n",
    "        empty_locs = [loc for loc in locs if loc not in self.occupied]\n",
    "        \n",
    "        # if all visible cells are occupied, stay put\n",
    "        if len(empty_locs) == 0:\n",
    "            return center\n",
    "        \n",
    "        # look up the sugar level in each cell\n",
    "        t = [self.array[loc] for loc in empty_locs]\n",
    "        \n",
    "        # find the best one and return it\n",
    "        # (in case of tie, argmax returns the first, which\n",
    "        # is the closest)\n",
    "        i = np.argmax(t)\n",
    "        return empty_locs[i]\n",
    "    \n",
    "    def harvest(self, loc):\n",
    "        \"\"\"Removes and returns the sugar from `loc`.\n",
    "        \n",
    "        loc: tuple coordinates\n",
    "        \"\"\"\n",
    "        sugar = self.array[loc]\n",
    "        self.array[loc] = 0\n",
    "        return sugar\n",
    "    \n",
    "    def step(self):\n",
    "        \"\"\"Executes one time step.\"\"\"\n",
    "        replace = self.params.get('replace', False)\n",
    "        \n",
    "        # loop through the agents in random order\n",
    "        random_order = np.random.permutation(self.agents)\n",
    "        for agent in random_order:\n",
    "            \n",
    "            # mark the current cell unoccupied\n",
    "            self.occupied.remove(agent.loc)\n",
    "            \n",
    "            # execute one step\n",
    "            agent.step(self)\n",
    "\n",
    "            # if the agent is dead, remove from the list\n",
    "            if agent.is_starving() or agent.is_old():\n",
    "                self.agents.remove(agent)\n",
    "                if replace:\n",
    "                    self.add_agent()\n",
    "            else:\n",
    "                # otherwise mark its cell occupied\n",
    "                self.occupied.add(agent.loc)\n",
    "\n",
    "        # update the time series\n",
    "        self.agent_count_seq.append(len(self.agents))\n",
    "        \n",
    "        # grow back some sugar\n",
    "        self.grow()\n",
    "        return len(self.agents)\n",
    "    \n",
    "    def add_agent(self):\n",
    "        \"\"\"Generates a new random agent.\n",
    "                \n",
    "        returns: new Agent\n",
    "        \"\"\"\n",
    "        new_agent = Agent(self.random_loc(), self.params)\n",
    "        self.agents.append(new_agent)\n",
    "        self.occupied.add(new_agent.loc)\n",
    "        return new_agent\n",
    "    \n",
    "    def random_loc(self):\n",
    "        \"\"\"Choose a random unoccupied cell.\n",
    "        \n",
    "        returns: tuple coordinates\n",
    "        \"\"\"\n",
    "        while True:\n",
    "            loc = tuple(np.random.randint(self.n, size=2))\n",
    "            if loc not in self.occupied:\n",
    "                return loc\n",
    "\n",
    "    def draw(self):\n",
    "        \"\"\"Draws the cells.\"\"\"\n",
    "        draw_array(self.array, cmap='YlOrRd', vmax=9, origin='lower')\n",
    "        \n",
    "        # draw the agents\n",
    "        xs, ys = self.get_coords()\n",
    "        self.points = plt.plot(xs, ys, '.', color='red')[0]\n",
    "    \n",
    "    def get_coords(self):\n",
    "        \"\"\"Gets the coordinates of the agents.\n",
    "        \n",
    "        Transforms from (row, col) to (x, y).\n",
    "        \n",
    "        returns: tuple of sequences, (xs, ys)\n",
    "        \"\"\"\n",
    "        agents = self.agents\n",
    "        rows, cols = np.transpose([agent.loc for agent in agents])\n",
    "        xs = cols + 0.5\n",
    "        ys = rows + 0.5\n",
    "        return xs, ys"
   ]
  },
  {
   "cell_type": "markdown",
   "metadata": {},
   "source": [
    "And here's a viewer that displays the state of Sugarscape."
   ]
  },
  {
   "cell_type": "markdown",
   "metadata": {},
   "source": [
    "Here's my implementation of the agents."
   ]
  },
  {
   "cell_type": "code",
   "execution_count": 16,
   "metadata": {},
   "outputs": [],
   "source": [
    "class Agent:\n",
    "    \n",
    "    def __init__(self, loc, params):\n",
    "        \"\"\"Creates a new agent at the given location.\n",
    "        \n",
    "        loc: tuple coordinates\n",
    "        params: dictionary of parameters\n",
    "        \"\"\"\n",
    "        self.loc = tuple(loc)\n",
    "        self.age = 0\n",
    "\n",
    "        # extract the parameters\n",
    "        max_vision = params.get('max_vision', 6)\n",
    "        max_metabolism = params.get('max_metabolism', 4)\n",
    "        min_lifespan = params.get('min_lifespan', 10000)\n",
    "        max_lifespan = params.get('max_lifespan', 10000)\n",
    "        min_sugar = params.get('min_sugar', 5)\n",
    "        max_sugar = params.get('max_sugar', 25)\n",
    "        \n",
    "        # choose attributes\n",
    "        self.vision = np.random.randint(1, max_vision+1)\n",
    "        self.metabolism = np.random.uniform(1, max_metabolism)\n",
    "        self.lifespan = np.random.uniform(min_lifespan, max_lifespan)\n",
    "        self.sugar = np.random.uniform(min_sugar, max_sugar)\n",
    "\n",
    "    def step(self, env):\n",
    "        \"\"\"Look around, move, and harvest.\n",
    "        \n",
    "        env: Sugarscape\n",
    "        \"\"\"\n",
    "        self.loc = env.look_and_move(self.loc, self.vision)\n",
    "        self.sugar += env.harvest(self.loc) - self.metabolism\n",
    "        self.age += 1\n",
    "\n",
    "    def is_starving(self):\n",
    "        \"\"\"Checks if sugar has gone negative.\"\"\"\n",
    "        return self.sugar < 0\n",
    "    \n",
    "    def is_old(self):\n",
    "        \"\"\"Checks if lifespan is exceeded.\"\"\"\n",
    "        return self.age > self.lifespan"
   ]
  },
  {
   "cell_type": "markdown",
   "metadata": {},
   "source": [
    "Here's an example with `n=50`, starting with 400 agents."
   ]
  },
  {
   "cell_type": "code",
   "execution_count": 17,
   "metadata": {
    "scrolled": true
   },
   "outputs": [
    {
     "data": {
      "image/png": "[encoded data removed]",
      "text/plain": [
       "<Figure size 432x288 with 1 Axes>"
      ]
     },
     "metadata": {},
     "output_type": "display_data"
    }
   ],
   "source": [
    "env = Sugarscape(50, num_agents=400)\n",
    "env.draw()"
   ]
  },
  {
   "cell_type": "markdown",
   "metadata": {},
   "source": [
    "The distribution of vision is uniform from 1 to 6."
   ]
  },
  {
   "cell_type": "code",
   "execution_count": 18,
   "metadata": {},
   "outputs": [
    {
     "data": {
      "image/png": "[encoded data removed]",
      "text/plain": [
       "<Figure size 432x288 with 1 Axes>"
      ]
     },
     "metadata": {
      "needs_background": "light"
     },
     "output_type": "display_data"
    }
   ],
   "source": [
    "from empiricaldist import Cdf\n",
    "\n",
    "cdf = Cdf.from_seq(agent.vision for agent in env.agents)\n",
    "cdf.plot()\n",
    "decorate(xlabel='Vision', ylabel='CDF')"
   ]
  },
  {
   "cell_type": "markdown",
   "metadata": {},
   "source": [
    "The distribution of metabolism is uniform from 1 to 4."
   ]
  },
  {
   "cell_type": "code",
   "execution_count": 19,
   "metadata": {},
   "outputs": [
    {
     "data": {
      "image/png": "[encoded data removed]",
      "text/plain": [
       "<Figure size 432x288 with 1 Axes>"
      ]
     },
     "metadata": {
      "needs_background": "light"
     },
     "output_type": "display_data"
    }
   ],
   "source": [
    "cdf = Cdf.from_seq(agent.metabolism for agent in env.agents)\n",
    "cdf.plot()\n",
    "decorate(xlabel='Metabolism', ylabel='CDF')"
   ]
  },
  {
   "cell_type": "markdown",
   "metadata": {},
   "source": [
    "The distribution of initial endowment of sugar is uniform from 5 to 25."
   ]
  },
  {
   "cell_type": "code",
   "execution_count": 24,
   "metadata": {},
   "outputs": [],
   "source": [
    "cdf = Cdf.from_seq(agent.sugar for agent in env.agents)\n",
    "cdf.plot()\n",
    "decorate(xlabel='Sugar', ylabel='CDF')"
   ]
  },
  {
   "cell_type": "code",
   "execution_count": 25,
   "metadata": {},
   "outputs": [],
   "source": [
    "env.step()\n",
    "env.draw()"
   ]
  },
  {
   "cell_type": "markdown",
   "metadata": {},
   "source": [
    "Here's what the animation looks like."
   ]
  },
  {
   "cell_type": "code",
   "execution_count": 26,
   "metadata": {},
   "outputs": [],
   "source": [
    "env.animate(frames=50)"
   ]
  },
  {
   "cell_type": "markdown",
   "metadata": {},
   "source": [
    "The number of agents levels off at the \"carrying capacity\":"
   ]
  },
  {
   "cell_type": "code",
   "execution_count": 27,
   "metadata": {},
   "outputs": [],
   "source": [
    "len(env.agents)"
   ]
  },
  {
   "cell_type": "code",
   "execution_count": 28,
   "metadata": {},
   "outputs": [],
   "source": [
    "plt.plot(env.agent_count_seq)\n",
    "decorate(xlabel='Time steps', ylabel='Number of Agents')"
   ]
  },
  {
   "cell_type": "markdown",
   "metadata": {},
   "source": [
    "This figure shows the state of the system after 2 and 10 steps."
   ]
  },
  {
   "cell_type": "code",
   "execution_count": 29,
   "metadata": {},
   "outputs": [],
   "source": [
    "env = Sugarscape(50, num_agents=400)\n",
    "three_frame(env, [0, 2, 98])\n",
    "\n",
    "savefig('figs/chap09-3')"
   ]
  },
  {
   "cell_type": "markdown",
   "metadata": {},
   "source": [
    "**Exercise:** Experiment with different numbers of agents.  Try increasing or decreasing their vision or metabolism, and see what effect is has on carrying capacity."
   ]
  },
  {
   "cell_type": "markdown",
   "metadata": {},
   "source": [
    "## Sugarscape with finite lifespans"
   ]
  },
  {
   "cell_type": "markdown",
   "metadata": {},
   "source": [
    "Now we start with 250 agents, with lifetimes from 60 to 100, and replacement."
   ]
  },
  {
   "cell_type": "code",
   "execution_count": 151,
   "metadata": {},
   "outputs": [
    {
     "data": {
      "image/png": "[encoded data removed]",
      "text/plain": [
       "<Figure size 432x288 with 1 Axes>"
      ]
     },
     "metadata": {},
     "output_type": "display_data"
    }
   ],
   "source": [
    "env = Sugarscape(50, num_agents=250,\n",
    "                 min_lifespan=60, max_lifespan=100, \n",
    "                 replace=True)\n",
    "\n",
    "env.animate(frames=100)"
   ]
  },
  {
   "cell_type": "markdown",
   "metadata": {},
   "source": [
    "After 100 time steps, the distribution of wealth is skewed to the right.  Most agents have very little sugar, but a few have a lot."
   ]
  },
  {
   "cell_type": "code",
   "execution_count": 152,
   "metadata": {},
   "outputs": [
    {
     "data": {
      "image/png": "[encoded data removed]",
      "text/plain": [
       "<Figure size 432x288 with 1 Axes>"
      ]
     },
     "metadata": {
      "needs_background": "light"
     },
     "output_type": "display_data"
    }
   ],
   "source": [
    "cdf = Cdf.from_seq(agent.sugar for agent in env.agents)\n",
    "cdf.plot()\n",
    "decorate(xlabel='Wealth', ylabel='CDF')"
   ]
  },
  {
   "cell_type": "code",
   "execution_count": 153,
   "metadata": {},
   "outputs": [
    {
     "data": {
      "text/plain": [
       "array([10.87872579, 21.04236514, 36.51074785, 66.63815747])"
      ]
     },
     "execution_count": 153,
     "metadata": {},
     "output_type": "execute_result"
    }
   ],
   "source": [
    "cdf.quantile([0.25, 0.50, 0.75, 0.90])"
   ]
  },
  {
   "cell_type": "markdown",
   "metadata": {},
   "source": [
    "Starting with the same parameters, I'll run the model 500 steps, recording the distribution of wealth after each 100 steps:"
   ]
  },
  {
   "cell_type": "code",
   "execution_count": 154,
   "metadata": {},
   "outputs": [],
   "source": [
    "np.random.seed(17)\n",
    "\n",
    "env = Sugarscape(50, num_agents=250,\n",
    "                 min_lifespan=60, max_lifespan=100, \n",
    "                 replace=True)\n",
    "\n",
    "cdf = Cdf.from_seq(agent.sugar for agent in env.agents)\n",
    "cdfs = [cdf]\n",
    "for i in range(5):\n",
    "    env.loop(100)\n",
    "    cdf = Cdf.from_seq(agent.sugar for agent in env.agents)\n",
    "    cdfs.append(cdf)"
   ]
  },
  {
   "cell_type": "markdown",
   "metadata": {},
   "source": [
    "After about 200 steps, the distribution is stationary (doesn't change over time).\n",
    "\n",
    "On a log scale, it is approximately normal, possibly with a truncated right tail."
   ]
  },
  {
   "cell_type": "code",
   "execution_count": 155,
   "metadata": {},
   "outputs": [
    {
     "name": "stdout",
     "output_type": "stream",
     "text": [
      "Saving figure to file figs/chap09-4\n"
     ]
    },
    {
     "data": {
      "image/png": "[encoded data removed]",
      "text/plain": [
       "<Figure size 720x432 with 2 Axes>"
      ]
     },
     "metadata": {
      "needs_background": "light"
     },
     "output_type": "display_data"
    }
   ],
   "source": [
    "plt.figure(figsize=(10, 6))\n",
    "plt.subplot(1, 2, 1)\n",
    "\n",
    "def plot_cdfs(cdfs, **options):\n",
    "    for cdf in cdfs:\n",
    "        cdf.plot(**options)\n",
    "        \n",
    "plot_cdfs(cdfs[:-1], color='gray', alpha=0.3)\n",
    "plot_cdfs(cdfs[-1:], color='C0')\n",
    "decorate(xlabel='Wealth', ylabel='CDF')\n",
    "\n",
    "plt.subplot(1, 2, 2)\n",
    "plot_cdfs(cdfs[:-1], color='gray', alpha=0.3)\n",
    "plot_cdfs(cdfs[-1:], color='C0')\n",
    "decorate(xlabel='Wealth', ylabel='CDF', xscale='log')\n",
    "\n",
    "savefig('figs/chap09-4')"
   ]
  },
  {
   "cell_type": "markdown",
   "metadata": {},
   "source": [
    "**Exercise:** Experiment with different starting conditions and agents with different vision, metabolism, and lifespan.  What effect do these changes have on the distribution of wealth?"
   ]
  },
  {
   "cell_type": "markdown",
   "metadata": {},
   "source": [
    "## Migration in waves"
   ]
  },
  {
   "cell_type": "markdown",
   "metadata": {},
   "source": [
    "If we start with all agents in the lower left, they propagate up and to the right in waves."
   ]
  },
  {
   "cell_type": "code",
   "execution_count": 35,
   "metadata": {},
   "outputs": [],
   "source": [
    "np.random.seed(17)\n",
    "\n",
    "env = Sugarscape(50, num_agents=300, starting_box=(20, 20), max_vision=16)\n",
    "    \n",
    "env.animate(frames=20, interval=0.4)"
   ]
  },
  {
   "cell_type": "markdown",
   "metadata": {},
   "source": [
    "Here's what it looks like after 6 and 12 steps."
   ]
  },
  {
   "cell_type": "code",
   "execution_count": 36,
   "metadata": {},
   "outputs": [],
   "source": [
    "env = Sugarscape(50, num_agents=300, starting_box=(20, 20), max_vision=16)\n",
    "three_frame(env, [0, 6, 6])\n",
    "savefig('figs/chap09-5')"
   ]
  },
  {
   "cell_type": "markdown",
   "metadata": {},
   "source": [
    "This example is interesting because the waves move diagonally, unlike the agents, who can only move up or to the right.  They are similar in some ways to gliders and other Game of Life spaceships. "
   ]
  },
  {
   "cell_type": "markdown",
   "metadata": {},
   "source": [
    "**Exercise:** Again, experiment with different starting conditions and see what effect they have on the wave behavior."
   ]
  },
  {
   "cell_type": "markdown",
   "metadata": {},
   "source": [
    "## Exercises"
   ]
  },
  {
   "cell_type": "markdown",
   "metadata": {},
   "source": [
    "**Exercise:** Bill Bishop, author of *The Big Sort*, argues that\n",
    "American society is increasingly segregated by political\n",
    "opinion, as people choose to live among like-minded neighbors.\n",
    "\n",
    "The mechanism Bishop hypothesizes is not that people, like the agents\n",
    "in Schelling's model, are more likely to move if they are\n",
    "isolated, but that when they move for any reason, they are\n",
    "likely to choose a neighborhood with people like themselves.\n",
    "\n",
    "Write a version of Schelling's model to simulate\n",
    "this kind of behavior and see if it yields similar degrees of\n",
    "segregation.\n",
    "\n",
    "There are several ways you can model Bishop's hypothesis.  In my\n",
    "implementation, a random selection of agents moves during each step.\n",
    "Each agent considers `k` randomly-chosen empty locations and\n",
    "chooses the one with the highest fraction of similar neighbors.\n",
    "How does the degree of segregation depend on `k`?\n",
    "\n",
    "You should be able to implement this model by inheriting from\n",
    "`Schelling` and overriding `__init__` and `step`.\n",
    "\n"
   ]
  },
  {
   "cell_type": "code",
   "execution_count": 94,
   "metadata": {},
   "outputs": [],
   "source": [
    "# Solution goes here\n",
    "from scipy.signal import correlate2d\n",
    "from Cell2D import Cell2D, draw_array\n",
    "\n",
    "from matplotlib.colors import LinearSegmentedColormap\n",
    "\n",
    "# make a custom color map\n",
    "palette = sns.color_palette('muted')\n",
    "colors = 'white', palette[1], palette[0]\n",
    "cmap = LinearSegmentedColormap.from_list('cmap', colors)\n",
    "\n",
    "\n",
    "class Schelling(Cell2D):\n",
    "    \"\"\"Represents a grid of Schelling agents.\"\"\"\n",
    "    \n",
    "    options = dict(mode='same', boundary='wrap')\n",
    "\n",
    "    kernel = np.array([[1, 1, 1],\n",
    "                       [1, 0, 1],\n",
    "                       [1, 1, 1]], dtype=np.int8)\n",
    "    \n",
    "    def __init__(self, n, p):\n",
    "        \"\"\"Initializes the attributes.\n",
    "\n",
    "        n: number of rows\n",
    "        p: threshold on the fraction of similar neighbors\n",
    "        \"\"\"\n",
    "        self.p = p\n",
    "        # 0 is empty, 1 is red, 2 is blue\n",
    "        choices = np.array([0, 1, 2], dtype=np.int8)\n",
    "        probs = [0.1, 0.45, 0.45]\n",
    "        self.array = np.random.choice(choices, (n, n), p=probs)\n",
    "\n",
    "    def count_neighbors(self):\n",
    "        \"\"\"Surveys neighboring cells.\n",
    "        \n",
    "        returns: tuple of\n",
    "            empty: True where cells are empty\n",
    "            frac_red: fraction of red neighbors around each cell\n",
    "            frac_blue: fraction of blue neighbors around each cell\n",
    "            frac_same: fraction of neighbors with the same color\n",
    "        \"\"\"\n",
    "        a = self.array\n",
    "        \n",
    "        empty = a==0\n",
    "        red = a==1\n",
    "        blue = a==2\n",
    "\n",
    "        # count red neighbors, blue neighbors, and total\n",
    "        num_red = correlate2d(red, self.kernel, **self.options)\n",
    "        num_blue = correlate2d(blue, self.kernel, **self.options)\n",
    "        num_neighbors = num_red + num_blue\n",
    "\n",
    "        # compute fraction of similar neighbors\n",
    "        frac_red = num_red / num_neighbors\n",
    "        frac_blue = num_blue / num_neighbors\n",
    "        \n",
    "        # no neighbors is considered the same as no similar neighbors \n",
    "        # (this is an arbitrary choice for a rare event)\n",
    "        frac_red[num_neighbors == 0] = 0\n",
    "        frac_blue[num_neighbors == 0] = 0\n",
    "        \n",
    "        # for each cell, compute the fraction of neighbors with the same color\n",
    "        frac_same = np.where(red, frac_red, frac_blue)\n",
    "\n",
    "        # for empty cells, frac_same is NaN\n",
    "        frac_same[empty] = np.nan\n",
    "        \n",
    "        return empty, frac_red, frac_blue, frac_same\n",
    "\n",
    "    def segregation(self):\n",
    "        \"\"\"Computes the average fraction of similar neighbors.\n",
    "        \n",
    "        returns: fraction of similar neighbors, averaged over cells\n",
    "        \"\"\"\n",
    "        _, _, _, frac_same = self.count_neighbors()\n",
    "        return np.nanmean(frac_same)\n",
    "    \n",
    "    def step(self):\n",
    "        \"\"\"Executes one time step.\n",
    "                \n",
    "        returns: fraction of similar neighbors, averaged over cells\n",
    "        \"\"\"\n",
    "        a = self.array\n",
    "        empty, _, _, frac_same = self.count_neighbors()\n",
    "        \n",
    "        # find the unhappy cells (ignore NaN in frac_same)\n",
    "        with np.errstate(invalid='ignore'):\n",
    "            unhappy = frac_same < self.p\n",
    "        unhappy_locs = locs_where(unhappy)\n",
    "        \n",
    "        # find the empty cells\n",
    "        empty_locs = locs_where(empty)\n",
    "\n",
    "        # shuffle the unhappy cells\n",
    "        if len(unhappy_locs):\n",
    "            np.random.shuffle(unhappy_locs)\n",
    "            \n",
    "        # for each unhappy cell, choose a random destination\n",
    "        num_empty = np.sum(empty)\n",
    "        for source in unhappy_locs:\n",
    "            i = np.random.randint(num_empty)\n",
    "            dest = empty_locs[i]\n",
    "            \n",
    "            # move\n",
    "            a[dest] = a[source]\n",
    "            a[source] = 0\n",
    "            empty_locs[i] = source\n",
    "        \n",
    "        # check that the number of empty cells is unchanged\n",
    "        num_empty2 = np.sum(a==0)\n",
    "        assert num_empty == num_empty2\n",
    "        \n",
    "        # return the average fraction of similar neighbors\n",
    "        return np.nanmean(frac_same)\n",
    "        \n",
    "    def draw(self):\n",
    "        \"\"\"Draws the cells.\"\"\"\n",
    "        return draw_array(self.array, cmap=cmap, vmax=2)"
   ]
  },
  {
   "cell_type": "code",
   "execution_count": 343,
   "metadata": {},
   "outputs": [],
   "source": [
    "# Solution goes here\n",
    "\n",
    "class BigSort(Schelling):\n",
    "    def __init__(self, n, p, q, k):\n",
    "        \"\"\"Initializes the attributes.\n",
    "\n",
    "        n: number of rows\n",
    "        p: threshold on the fraction of similar neighbors\n",
    "        q = number of moving neighbors each step\n",
    "        k = number of considered spots for neighbors\n",
    "        \"\"\"\n",
    "        self.p = p\n",
    "        self.q = q\n",
    "        self.k = k\n",
    "        self.n = n\n",
    "        # 0 is empty, 1 is red, 2 is blue\n",
    "        choices = np.array([0, 1, 2], dtype=np.int8)\n",
    "        probs = [0.1, 0.45, 0.45]\n",
    "        self.array = np.random.choice(choices, (n, n), p=probs)\n",
    "    def get_moving_locs(self):\n",
    "        moving_locs = []\n",
    "        for i in range(self.q):\n",
    "            l1 = np.random.choice(self.n)\n",
    "            l2 = np.random.choice(self.n)\n",
    "            typ = self.array[l1,l2]\n",
    "            if self.array[l1,l2] != 0 and (l1,l2,typ) not in moving_locs:\n",
    "                moving_locs.append((l1,l2,typ))\n",
    "        return moving_locs\n",
    "    def step(self):\n",
    "        \"\"\"Executes one time step.\n",
    "                \n",
    "        returns: fraction of similar neighbors, averaged over cells\n",
    "        \"\"\"\n",
    "        a = self.array\n",
    "        empty, frac_red, frac_blue, frac_same = self.count_neighbors()\n",
    "        \n",
    "        #Pick a random set of people to move \n",
    "        \n",
    "        moving_locs = self.get_moving_locs()\n",
    "        # find the empty cells\n",
    "\n",
    "        g = 0\n",
    "        for g, source in enumerate(moving_locs):\n",
    "            high_red = 0\n",
    "            high_blue = 0\n",
    "            index_red = 0\n",
    "            index_blue = 0\n",
    "            empty, frac_red, frac_blue, frac_same = self.count_neighbors()\n",
    "            empty_locs = locs_where(empty)\n",
    "            num_empty = np.sum(empty)\n",
    "            j = np.random.randint(num_empty,size = self.k)\n",
    "            potential_dests = [empty_locs[x] for x in j.tolist()]\n",
    "            for i,k in enumerate(potential_dests):\n",
    "                numblue = frac_blue[k]\n",
    "                numred = frac_red[k]\n",
    "\n",
    "                if numblue > high_blue:\n",
    "                    high_blue = numblue\n",
    "                    blue_dest = k\n",
    "                    index_blue = i\n",
    "                    #print(index_blue)\n",
    "                if numred > high_red:\n",
    "                    high_red = numred\n",
    "                    red_dest = k\n",
    "                    index_red = i\n",
    "\n",
    "            if source[2] == 2:\n",
    "                self.array[blue_dest] = source[2]\n",
    "                #empty_locs[index_blue] = source[:2]\n",
    "                #print('hit_blue')\n",
    "            if source[2] == 1:\n",
    "                self.array[red_dest] = source[2]\n",
    "                #empty_locs[index_red] = source[:2]\n",
    "                #print('hit_red')\n",
    "            self.array[source[:2]] = 0\n",
    "                \n",
    "                \n",
    "            # move\n",
    "#            a[dest] = a[source]\n",
    "#            a[source] = 0\n",
    "#            empty_locs[i] = source\n",
    "        \n",
    "        # check that the number of empty cells is unchanged\n",
    "        num_empty2 = np.sum(self.array==0)\n",
    "        assert num_empty == num_empty2\n",
    "        \n",
    "        # return the average fraction of similar neighbors\n",
    "        return np.nanmean(frac_same)\n",
    "    "
   ]
  },
  {
   "cell_type": "markdown",
   "metadata": {},
   "source": [
    "And a test of the `step` method"
   ]
  },
  {
   "cell_type": "code",
   "execution_count": 332,
   "metadata": {},
   "outputs": [
    {
     "data": {
      "text/plain": [
       "0.5016982722292457"
      ]
     },
     "execution_count": 332,
     "metadata": {},
     "output_type": "execute_result"
    },
    {
     "data": {
      "image/png": "[encoded data removed]",
      "text/plain": [
       "<Figure size 432x288 with 1 Axes>"
      ]
     },
     "metadata": {},
     "output_type": "display_data"
    }
   ],
   "source": [
    "# Solution goes here\n",
    "grid = BigSort(n=50, p=0.3, q=10,k=5)\n",
    "grid.draw()\n",
    "grid.step()\n"
   ]
  },
  {
   "cell_type": "code",
   "execution_count": 336,
   "metadata": {},
   "outputs": [
    {
     "data": {
      "image/png": "[encoded data removed]",
      "text/plain": [
       "<Figure size 720x288 with 3 Axes>"
      ]
     },
     "metadata": {},
     "output_type": "display_data"
    }
   ],
   "source": [
    "# Solution goes here\n",
    "steps = 100\n",
    "grid = BigSort(n=50, p=0.3, q=10,k=5)\n",
    "three_frame(grid, [0, 50, 100])\n",
    "    "
   ]
  },
  {
   "cell_type": "code",
   "execution_count": 351,
   "metadata": {},
   "outputs": [
    {
     "name": "stdout",
     "output_type": "stream",
     "text": [
      "3 0.7985157699443414 0.5985157699443413\n",
      "10 0.9310287136374092 0.7310287136374092\n",
      "20 0.9515686646834187 0.7515686646834188\n",
      "50 0.9564412796437498 0.7564412796437499\n",
      "Saving figure to file figs/chap09-2\n"
     ]
    },
    {
     "data": {
      "image/png": "[encoded data removed]",
      "text/plain": [
       "<Figure size 432x288 with 1 Axes>"
      ]
     },
     "metadata": {
      "needs_background": "light"
     },
     "output_type": "display_data"
    }
   ],
   "source": [
    "from utils import set_palette\n",
    "set_palette('Blues', 5, reverse=True)\n",
    "\n",
    "np.random.seed(17)\n",
    "for k in [3, 10, 20, 50]:\n",
    "    grid = BigSort(n=50, p=0.5, q = 50, k=k)\n",
    "    segs = [grid.step() for i in range(300)]\n",
    "    plt.plot(segs, label='k = %.1f' % k)\n",
    "    print(k, segs[-1], segs[-1] - p)\n",
    "    \n",
    "decorate(xlabel='Time steps', ylabel='Segregation',\n",
    "                loc='lower right', ylim=[0, 1])\n",
    "\n",
    "savefig('figs/chap09-2')"
   ]
  },
  {
   "cell_type": "markdown",
   "metadata": {},
   "source": [
    "### Solution goes here\n",
    "#### It looks like the higher K is the more segregation there is, but the higher and higher K gets there is diminishing returns on the segregation at longer time steps. There is a probably a critical value between 3 and 10 because anything above 10 options looks very similar, but only having three options really reduces the steady-state segregation. "
   ]
  },
  {
   "cell_type": "code",
   "execution_count": 363,
   "metadata": {},
   "outputs": [
    {
     "data": {
      "text/plain": [
       "[<matplotlib.lines.Line2D at 0x1db79cd4088>]"
      ]
     },
     "execution_count": 363,
     "metadata": {},
     "output_type": "execute_result"
    },
    {
     "data": {
      "image/png": "[encoded data removed]",
      "text/plain": [
       "<Figure size 432x288 with 1 Axes>"
      ]
     },
     "metadata": {
      "needs_background": "light"
     },
     "output_type": "display_data"
    }
   ],
   "source": [
    "from utils import set_palette\n",
    "set_palette('Blues', 5, reverse=True)\n",
    "\n",
    "np.random.seed(17)\n",
    "options = [3,4,5,6,7,8,9,10]\n",
    "segs_end = []\n",
    "for i in options:\n",
    "    grid = BigSort(n=50, p=0.5, q = 50, k=i)\n",
    "    segs = [grid.step() for i in range(200)]\n",
    "    segs_end.append(segs[199])\n",
    "\n",
    "    \n",
    "plt.plot(options,segs_end)"
   ]
  },
  {
   "cell_type": "markdown",
   "metadata": {},
   "source": [
    "#### It doesn't look like a nice sigmoid graph, but we can see that the more options the agents have when they move, the more segregation in steady state there is"
   ]
  },
  {
   "cell_type": "markdown",
   "metadata": {},
   "source": [
    "**Exercise:** In the first version of Sugarscape, we never add agents, so once the population falls, it never recovers.  In the second version, we only replace agents when they die, so the population is constant.  Now let's see what happens if we add some \"population pressure\".\n",
    "\n",
    "Write a version of Sugarscape that adds a new agent at the end of every step.  Add code to compute the average vision and the average metabolism of the agents at the end of each step.  Run the model for a few hundred steps and plot the population over time, as well as the average vision and average metabolism.\n",
    "\n",
    "You should be able to implement this model by inheriting from\n",
    "`Sugarscape` and overriding `__init__` and `step`."
   ]
  },
  {
   "cell_type": "code",
   "execution_count": 379,
   "metadata": {},
   "outputs": [],
   "source": [
    "# Solution goes here\n",
    "class Sugarscape_PP(Sugarscape):\n",
    "\n",
    "    def __init__(self, n, **params):\n",
    "            \"\"\"Initializes the attributes.\n",
    "\n",
    "            n: number of rows and columns\n",
    "            params: dictionary of parameters\n",
    "            \"\"\"\n",
    "            self.n = n\n",
    "            self.params = params\n",
    "\n",
    "            # track variables\n",
    "            self.agent_count_seq = []\n",
    "\n",
    "            # make the capacity array\n",
    "            self.capacity = self.make_capacity()\n",
    "\n",
    "            # initially all cells are at capacity\n",
    "            self.array = self.capacity.copy()\n",
    "\n",
    "            # make the agents\n",
    "            self.make_agents()\n",
    "    def step(self):\n",
    "        \"\"\"Executes one time step.\"\"\"\n",
    "        replace = self.params.get('replace', False)\n",
    "\n",
    "        # loop through the agents in random order\n",
    "        random_order = np.random.permutation(self.agents)\n",
    "        for agent in random_order:\n",
    "\n",
    "            # mark the current cell unoccupied\n",
    "            self.occupied.remove(agent.loc)\n",
    "\n",
    "            # execute one step\n",
    "            agent.step(self)\n",
    "\n",
    "            # if the agent is dead, remove from the list\n",
    "            if agent.is_starving() or agent.is_old():\n",
    "                self.agents.remove(agent)\n",
    "                if replace:\n",
    "                    self.add_agent()\n",
    "            else:\n",
    "                # otherwise mark its cell occupied\n",
    "                self.occupied.add(agent.loc)\n",
    "\n",
    "        # update the time series\n",
    "        self.agent_count_seq.append(len(self.agents))\n",
    "\n",
    "        # grow back some sugar\n",
    "        self.grow()\n",
    "\n",
    "        # Add an agent\n",
    "        self.add_agent()\n",
    "        \n",
    "        #Calculates average vision and metabolism\n",
    "        sum_vision = 0\n",
    "        sum_metabolism = 0\n",
    "        for i in range(len(self.agents)):\n",
    "            agent = self.agents[i]\n",
    "            sum_vision = sum_vision + agent.vision\n",
    "            sum_metabolism = sum_metabolism + agent.metabolism\n",
    "            \n",
    "        return len(self.agents), sum_vision/len(self.agents), sum_metabolism/len(self.agents)"
   ]
  },
  {
   "cell_type": "code",
   "execution_count": 376,
   "metadata": {},
   "outputs": [
    {
     "data": {
      "text/plain": [
       "(101, 3.237623762376238, 2.5584661630425565)"
      ]
     },
     "execution_count": 376,
     "metadata": {},
     "output_type": "execute_result"
    }
   ],
   "source": [
    "# Solution goes here\n",
    "grid = Sugarscape_PP(50, num_agents=100)\n",
    "grid.step()\n"
   ]
  },
  {
   "cell_type": "code",
   "execution_count": 397,
   "metadata": {},
   "outputs": [
    {
     "name": "stdout",
     "output_type": "stream",
     "text": [
      "Saving figure to file figs/chap09-2\n"
     ]
    },
    {
     "data": {
      "image/png": "[encoded data removed]",
      "text/plain": [
       "<Figure size 432x288 with 1 Axes>"
      ]
     },
     "metadata": {
      "needs_background": "light"
     },
     "output_type": "display_data"
    }
   ],
   "source": [
    "# Solution goes here\n",
    "env = Sugarscape_PP(50, num_agents=250,\n",
    "                 min_lifespan=60, max_lifespan=100)\n",
    "    \n",
    "pop = [env.step() for i in range(250)]\n",
    "pop, vision, metabolism = zip(*pop)\n",
    "\n",
    "plt.plot(pop)\n",
    "decorate(xlabel='Time steps', ylabel='Population',\n",
    "                loc='lower right')\n",
    "\n",
    "\n",
    "\n",
    "savefig('figs/chap09-2')\n"
   ]
  },
  {
   "cell_type": "code",
   "execution_count": 398,
   "metadata": {},
   "outputs": [
    {
     "data": {
      "image/png": "[encoded data removed]",
      "text/plain": [
       "<Figure size 432x288 with 1 Axes>"
      ]
     },
     "metadata": {
      "needs_background": "light"
     },
     "output_type": "display_data"
    }
   ],
   "source": [
    "# Solution goes here\n",
    "plt.plot(vision)\n",
    "decorate(xlabel='Time steps', ylabel='Vision',\n",
    "                loc='lower right')"
   ]
  },
  {
   "cell_type": "code",
   "execution_count": 399,
   "metadata": {
    "scrolled": true
   },
   "outputs": [
    {
     "data": {
      "image/png": "[encoded data removed]",
      "text/plain": [
       "<Figure size 432x288 with 1 Axes>"
      ]
     },
     "metadata": {
      "needs_background": "light"
     },
     "output_type": "display_data"
    }
   ],
   "source": [
    "# Solution goes here\n",
    "plt.plot(metabolism)\n",
    "decorate(xlabel='Time steps', ylabel='Metabolism',\n",
    "                loc='lower right')"
   ]
  },
  {
   "cell_type": "markdown",
   "metadata": {},
   "source": [
    "#### Solution goes here\n",
    "#### As a first pass, it looks like the population has a sharp decline initially, and then stabalizes at a lower population. Interestingly, the initial decrease in population looks at least correlated to a decrease in average metabolism in the beginning. It also appears that the avarage vision and metabolism tend to increase when there are far fewer agents, implying that a \"survival of the fittest\" phenomenon is appearing here. "
   ]
  },
  {
   "cell_type": "code",
   "execution_count": 52,
   "metadata": {},
   "outputs": [],
   "source": [
    "# Solution goes here"
   ]
  },
  {
   "cell_type": "code",
   "execution_count": 53,
   "metadata": {},
   "outputs": [],
   "source": [
    "# Solution goes here"
   ]
  },
  {
   "cell_type": "code",
   "execution_count": 54,
   "metadata": {
    "scrolled": true
   },
   "outputs": [],
   "source": [
    "# Solution goes here"
   ]
  },
  {
   "cell_type": "code",
   "execution_count": 55,
   "metadata": {},
   "outputs": [],
   "source": [
    "# Solution goes here"
   ]
  },
  {
   "cell_type": "code",
   "execution_count": null,
   "metadata": {},
   "outputs": [],
   "source": []
  }
 ],
 "metadata": {
  "kernelspec": {
   "display_name": "Python 3",
   "language": "python",
   "name": "python3"
  },
  "language_info": {
   "codemirror_mode": {
    "name": "ipython",
    "version": 3
   },
   "file_extension": ".py",
   "mimetype": "text/x-python",
   "name": "python",
   "nbconvert_exporter": "python",
   "pygments_lexer": "ipython3",
   "version": "3.7.4"
  }
 },
 "nbformat": 4,
 "nbformat_minor": 2
}
