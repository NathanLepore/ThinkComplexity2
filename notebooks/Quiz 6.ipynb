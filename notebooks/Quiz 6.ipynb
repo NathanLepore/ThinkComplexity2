{
 "cells": [
  {
   "cell_type": "code",
   "execution_count": 58,
   "metadata": {},
   "outputs": [],
   "source": [
    "import numpy as np\n",
    "class FitnessLandscape:\n",
    "\n",
    "    def __init__(self, N):\n",
    "        self.N = N\n",
    "        self.one_values = np.random.random(N)\n",
    "        self.zero_values = np.random.random(N)\n",
    "\n",
    "    def fitness(self, loc):\n",
    "        fs = np.where(loc, self.one_values,\n",
    "                           self.zero_values)\n",
    "        print(fs)\n",
    "        return fs.mean()\n",
    "    def best_location(self):\n",
    "        best = np.empty((5,1))\n",
    "        for i in range(self.N):\n",
    "            if self.zero_values[i] > self.one_values[i]:\n",
    "                best[i] = 0\n",
    "            if self.zero_values[i] < self.one_values[i]:\n",
    "                best[i] = 1\n",
    "        return best"
   ]
  },
  {
   "cell_type": "code",
   "execution_count": 60,
   "metadata": {},
   "outputs": [
    {
     "name": "stdout",
     "output_type": "stream",
     "text": [
      "[0.10658922 0.58379007 0.73788777 0.46707498 0.13665392]\n",
      "[[1.]\n",
      " [0.]\n",
      " [0.]\n",
      " [1.]\n",
      " [0.]]\n",
      "[[0.42887417 0.14133589 0.70965154 0.47305341 0.01959557]\n",
      " [0.10658922 0.58379007 0.73788777 0.46707498 0.13665392]\n",
      " [0.10658922 0.58379007 0.73788777 0.46707498 0.13665392]\n",
      " [0.42887417 0.14133589 0.70965154 0.47305341 0.01959557]\n",
      " [0.10658922 0.58379007 0.73788777 0.46707498 0.13665392]]\n"
     ]
    },
    {
     "data": {
      "text/plain": [
       "0.38564036059914797"
      ]
     },
     "execution_count": 60,
     "metadata": {},
     "output_type": "execute_result"
    }
   ],
   "source": [
    "ls = FitnessLandscape(N = 5)\n",
    "\n",
    "ls.fitness((0,0,0,0,0))\n",
    "best = ls.best_location()\n",
    "print(best)\n",
    "ls.fitness(best)"
   ]
  },
  {
   "cell_type": "code",
   "execution_count": 63,
   "metadata": {},
   "outputs": [],
   "source": [
    "import itertools\n",
    "def binseq(k):\n",
    "    return [\"\".join(x) for x in itertools.product(01, repeat=k)]"
   ]
  },
  {
   "cell_type": "code",
   "execution_count": 64,
   "metadata": {},
   "outputs": [
    {
     "data": {
      "text/plain": [
       "['00000',\n",
       " '00001',\n",
       " '00010',\n",
       " '00011',\n",
       " '00100',\n",
       " '00101',\n",
       " '00110',\n",
       " '00111',\n",
       " '01000',\n",
       " '01001',\n",
       " '01010',\n",
       " '01011',\n",
       " '01100',\n",
       " '01101',\n",
       " '01110',\n",
       " '01111',\n",
       " '10000',\n",
       " '10001',\n",
       " '10010',\n",
       " '10011',\n",
       " '10100',\n",
       " '10101',\n",
       " '10110',\n",
       " '10111',\n",
       " '11000',\n",
       " '11001',\n",
       " '11010',\n",
       " '11011',\n",
       " '11100',\n",
       " '11101',\n",
       " '11110',\n",
       " '11111']"
      ]
     },
     "execution_count": 64,
     "metadata": {},
     "output_type": "execute_result"
    }
   ],
   "source": [
    "binseq(5)"
   ]
  },
  {
   "cell_type": "code",
   "execution_count": null,
   "metadata": {},
   "outputs": [],
   "source": []
  }
 ],
 "metadata": {
  "kernelspec": {
   "display_name": "Python 3",
   "language": "python",
   "name": "python3"
  },
  "language_info": {
   "codemirror_mode": {
    "name": "ipython",
    "version": 3
   },
   "file_extension": ".py",
   "mimetype": "text/x-python",
   "name": "python",
   "nbconvert_exporter": "python",
   "pygments_lexer": "ipython3",
   "version": "3.7.4"
  }
 },
 "nbformat": 4,
 "nbformat_minor": 2
}
